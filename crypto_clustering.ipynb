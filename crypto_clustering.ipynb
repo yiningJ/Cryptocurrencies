{
 "cells": [
  {
   "cell_type": "markdown",
   "metadata": {},
   "source": [
    "# Clustering Crypto"
   ]
  },
  {
   "cell_type": "code",
   "execution_count": 58,
   "metadata": {},
   "outputs": [],
   "source": [
    "# Initial imports\n",
    "import pandas as pd\n",
    "import hvplot.pandas\n",
    "from pathlib import Path\n",
    "import plotly.express as px\n",
    "from sklearn.preprocessing import StandardScaler, MinMaxScaler\n",
    "from sklearn.decomposition import PCA\n",
    "from sklearn.cluster import KMeans\n"
   ]
  },
  {
   "cell_type": "markdown",
   "metadata": {},
   "source": [
    "### Deliverable 1: Preprocessing the Data for PCA"
   ]
  },
  {
   "cell_type": "code",
   "execution_count": 81,
   "metadata": {},
   "outputs": [
    {
     "data": {
      "text/html": [
       "<div>\n",
       "<style scoped>\n",
       "    .dataframe tbody tr th:only-of-type {\n",
       "        vertical-align: middle;\n",
       "    }\n",
       "\n",
       "    .dataframe tbody tr th {\n",
       "        vertical-align: top;\n",
       "    }\n",
       "\n",
       "    .dataframe thead th {\n",
       "        text-align: right;\n",
       "    }\n",
       "</style>\n",
       "<table border=\"1\" class=\"dataframe\">\n",
       "  <thead>\n",
       "    <tr style=\"text-align: right;\">\n",
       "      <th></th>\n",
       "      <th>CoinName</th>\n",
       "      <th>Algorithm</th>\n",
       "      <th>IsTrading</th>\n",
       "      <th>ProofType</th>\n",
       "      <th>TotalCoinsMined</th>\n",
       "      <th>TotalCoinSupply</th>\n",
       "    </tr>\n",
       "  </thead>\n",
       "  <tbody>\n",
       "    <tr>\n",
       "      <th>42</th>\n",
       "      <td>42 Coin</td>\n",
       "      <td>Scrypt</td>\n",
       "      <td>True</td>\n",
       "      <td>PoW/PoS</td>\n",
       "      <td>4.199995e+01</td>\n",
       "      <td>42</td>\n",
       "    </tr>\n",
       "    <tr>\n",
       "      <th>365</th>\n",
       "      <td>365Coin</td>\n",
       "      <td>X11</td>\n",
       "      <td>True</td>\n",
       "      <td>PoW/PoS</td>\n",
       "      <td>NaN</td>\n",
       "      <td>2300000000</td>\n",
       "    </tr>\n",
       "    <tr>\n",
       "      <th>404</th>\n",
       "      <td>404Coin</td>\n",
       "      <td>Scrypt</td>\n",
       "      <td>True</td>\n",
       "      <td>PoW/PoS</td>\n",
       "      <td>1.055185e+09</td>\n",
       "      <td>532000000</td>\n",
       "    </tr>\n",
       "    <tr>\n",
       "      <th>611</th>\n",
       "      <td>SixEleven</td>\n",
       "      <td>SHA-256</td>\n",
       "      <td>True</td>\n",
       "      <td>PoW</td>\n",
       "      <td>NaN</td>\n",
       "      <td>611000</td>\n",
       "    </tr>\n",
       "    <tr>\n",
       "      <th>808</th>\n",
       "      <td>808</td>\n",
       "      <td>SHA-256</td>\n",
       "      <td>True</td>\n",
       "      <td>PoW/PoS</td>\n",
       "      <td>0.000000e+00</td>\n",
       "      <td>0</td>\n",
       "    </tr>\n",
       "  </tbody>\n",
       "</table>\n",
       "</div>"
      ],
      "text/plain": [
       "      CoinName Algorithm  IsTrading ProofType  TotalCoinsMined TotalCoinSupply\n",
       "42     42 Coin    Scrypt       True   PoW/PoS     4.199995e+01              42\n",
       "365    365Coin       X11       True   PoW/PoS              NaN      2300000000\n",
       "404    404Coin    Scrypt       True   PoW/PoS     1.055185e+09       532000000\n",
       "611  SixEleven   SHA-256       True       PoW              NaN          611000\n",
       "808        808   SHA-256       True   PoW/PoS     0.000000e+00               0"
      ]
     },
     "execution_count": 81,
     "metadata": {},
     "output_type": "execute_result"
    }
   ],
   "source": [
    "# Load the crypto_data.csv dataset.\n",
    "file_path = \"/Users/yiningjin/Documents/UT Bootcamp/Module 19/Starter_Code/crypto_data.csv\"\n",
    "crypto_df = pd.read_csv(file_path,index_col=0)\n",
    "crypto_df.head()"
   ]
  },
  {
   "cell_type": "code",
   "execution_count": 82,
   "metadata": {},
   "outputs": [
    {
     "data": {
      "text/html": [
       "<div>\n",
       "<style scoped>\n",
       "    .dataframe tbody tr th:only-of-type {\n",
       "        vertical-align: middle;\n",
       "    }\n",
       "\n",
       "    .dataframe tbody tr th {\n",
       "        vertical-align: top;\n",
       "    }\n",
       "\n",
       "    .dataframe thead th {\n",
       "        text-align: right;\n",
       "    }\n",
       "</style>\n",
       "<table border=\"1\" class=\"dataframe\">\n",
       "  <thead>\n",
       "    <tr style=\"text-align: right;\">\n",
       "      <th></th>\n",
       "      <th>CoinName</th>\n",
       "      <th>Algorithm</th>\n",
       "      <th>IsTrading</th>\n",
       "      <th>ProofType</th>\n",
       "      <th>TotalCoinsMined</th>\n",
       "      <th>TotalCoinSupply</th>\n",
       "    </tr>\n",
       "  </thead>\n",
       "  <tbody>\n",
       "    <tr>\n",
       "      <th>42</th>\n",
       "      <td>42 Coin</td>\n",
       "      <td>Scrypt</td>\n",
       "      <td>True</td>\n",
       "      <td>PoW/PoS</td>\n",
       "      <td>4.199995e+01</td>\n",
       "      <td>42</td>\n",
       "    </tr>\n",
       "    <tr>\n",
       "      <th>365</th>\n",
       "      <td>365Coin</td>\n",
       "      <td>X11</td>\n",
       "      <td>True</td>\n",
       "      <td>PoW/PoS</td>\n",
       "      <td>NaN</td>\n",
       "      <td>2300000000</td>\n",
       "    </tr>\n",
       "    <tr>\n",
       "      <th>404</th>\n",
       "      <td>404Coin</td>\n",
       "      <td>Scrypt</td>\n",
       "      <td>True</td>\n",
       "      <td>PoW/PoS</td>\n",
       "      <td>1.055185e+09</td>\n",
       "      <td>532000000</td>\n",
       "    </tr>\n",
       "    <tr>\n",
       "      <th>611</th>\n",
       "      <td>SixEleven</td>\n",
       "      <td>SHA-256</td>\n",
       "      <td>True</td>\n",
       "      <td>PoW</td>\n",
       "      <td>NaN</td>\n",
       "      <td>611000</td>\n",
       "    </tr>\n",
       "    <tr>\n",
       "      <th>808</th>\n",
       "      <td>808</td>\n",
       "      <td>SHA-256</td>\n",
       "      <td>True</td>\n",
       "      <td>PoW/PoS</td>\n",
       "      <td>0.000000e+00</td>\n",
       "      <td>0</td>\n",
       "    </tr>\n",
       "  </tbody>\n",
       "</table>\n",
       "</div>"
      ],
      "text/plain": [
       "      CoinName Algorithm  IsTrading ProofType  TotalCoinsMined TotalCoinSupply\n",
       "42     42 Coin    Scrypt       True   PoW/PoS     4.199995e+01              42\n",
       "365    365Coin       X11       True   PoW/PoS              NaN      2300000000\n",
       "404    404Coin    Scrypt       True   PoW/PoS     1.055185e+09       532000000\n",
       "611  SixEleven   SHA-256       True       PoW              NaN          611000\n",
       "808        808   SHA-256       True   PoW/PoS     0.000000e+00               0"
      ]
     },
     "execution_count": 82,
     "metadata": {},
     "output_type": "execute_result"
    }
   ],
   "source": [
    "# Keep all the cryptocurrencies that are being traded.\n",
    "crypto_df = crypto_df[crypto_df.IsTrading==True]\n",
    "crypto_df.head()"
   ]
  },
  {
   "cell_type": "code",
   "execution_count": 83,
   "metadata": {},
   "outputs": [
    {
     "data": {
      "text/html": [
       "<div>\n",
       "<style scoped>\n",
       "    .dataframe tbody tr th:only-of-type {\n",
       "        vertical-align: middle;\n",
       "    }\n",
       "\n",
       "    .dataframe tbody tr th {\n",
       "        vertical-align: top;\n",
       "    }\n",
       "\n",
       "    .dataframe thead th {\n",
       "        text-align: right;\n",
       "    }\n",
       "</style>\n",
       "<table border=\"1\" class=\"dataframe\">\n",
       "  <thead>\n",
       "    <tr style=\"text-align: right;\">\n",
       "      <th></th>\n",
       "      <th>CoinName</th>\n",
       "      <th>Algorithm</th>\n",
       "      <th>ProofType</th>\n",
       "      <th>TotalCoinsMined</th>\n",
       "      <th>TotalCoinSupply</th>\n",
       "    </tr>\n",
       "  </thead>\n",
       "  <tbody>\n",
       "    <tr>\n",
       "      <th>42</th>\n",
       "      <td>42 Coin</td>\n",
       "      <td>Scrypt</td>\n",
       "      <td>PoW/PoS</td>\n",
       "      <td>4.199995e+01</td>\n",
       "      <td>42</td>\n",
       "    </tr>\n",
       "    <tr>\n",
       "      <th>365</th>\n",
       "      <td>365Coin</td>\n",
       "      <td>X11</td>\n",
       "      <td>PoW/PoS</td>\n",
       "      <td>NaN</td>\n",
       "      <td>2300000000</td>\n",
       "    </tr>\n",
       "    <tr>\n",
       "      <th>404</th>\n",
       "      <td>404Coin</td>\n",
       "      <td>Scrypt</td>\n",
       "      <td>PoW/PoS</td>\n",
       "      <td>1.055185e+09</td>\n",
       "      <td>532000000</td>\n",
       "    </tr>\n",
       "    <tr>\n",
       "      <th>611</th>\n",
       "      <td>SixEleven</td>\n",
       "      <td>SHA-256</td>\n",
       "      <td>PoW</td>\n",
       "      <td>NaN</td>\n",
       "      <td>611000</td>\n",
       "    </tr>\n",
       "    <tr>\n",
       "      <th>808</th>\n",
       "      <td>808</td>\n",
       "      <td>SHA-256</td>\n",
       "      <td>PoW/PoS</td>\n",
       "      <td>0.000000e+00</td>\n",
       "      <td>0</td>\n",
       "    </tr>\n",
       "  </tbody>\n",
       "</table>\n",
       "</div>"
      ],
      "text/plain": [
       "      CoinName Algorithm ProofType  TotalCoinsMined TotalCoinSupply\n",
       "42     42 Coin    Scrypt   PoW/PoS     4.199995e+01              42\n",
       "365    365Coin       X11   PoW/PoS              NaN      2300000000\n",
       "404    404Coin    Scrypt   PoW/PoS     1.055185e+09       532000000\n",
       "611  SixEleven   SHA-256       PoW              NaN          611000\n",
       "808        808   SHA-256   PoW/PoS     0.000000e+00               0"
      ]
     },
     "execution_count": 83,
     "metadata": {},
     "output_type": "execute_result"
    }
   ],
   "source": [
    "# Remove the \"IsTrading\" column. \n",
    "crypto_df = crypto_df.drop(['IsTrading'],axis=1)\n",
    "crypto_df.head()"
   ]
  },
  {
   "cell_type": "code",
   "execution_count": 84,
   "metadata": {},
   "outputs": [
    {
     "data": {
      "text/html": [
       "<div>\n",
       "<style scoped>\n",
       "    .dataframe tbody tr th:only-of-type {\n",
       "        vertical-align: middle;\n",
       "    }\n",
       "\n",
       "    .dataframe tbody tr th {\n",
       "        vertical-align: top;\n",
       "    }\n",
       "\n",
       "    .dataframe thead th {\n",
       "        text-align: right;\n",
       "    }\n",
       "</style>\n",
       "<table border=\"1\" class=\"dataframe\">\n",
       "  <thead>\n",
       "    <tr style=\"text-align: right;\">\n",
       "      <th></th>\n",
       "      <th>CoinName</th>\n",
       "      <th>Algorithm</th>\n",
       "      <th>ProofType</th>\n",
       "      <th>TotalCoinsMined</th>\n",
       "      <th>TotalCoinSupply</th>\n",
       "    </tr>\n",
       "  </thead>\n",
       "  <tbody>\n",
       "    <tr>\n",
       "      <th>42</th>\n",
       "      <td>42 Coin</td>\n",
       "      <td>Scrypt</td>\n",
       "      <td>PoW/PoS</td>\n",
       "      <td>4.199995e+01</td>\n",
       "      <td>42</td>\n",
       "    </tr>\n",
       "    <tr>\n",
       "      <th>404</th>\n",
       "      <td>404Coin</td>\n",
       "      <td>Scrypt</td>\n",
       "      <td>PoW/PoS</td>\n",
       "      <td>1.055185e+09</td>\n",
       "      <td>532000000</td>\n",
       "    </tr>\n",
       "    <tr>\n",
       "      <th>808</th>\n",
       "      <td>808</td>\n",
       "      <td>SHA-256</td>\n",
       "      <td>PoW/PoS</td>\n",
       "      <td>0.000000e+00</td>\n",
       "      <td>0</td>\n",
       "    </tr>\n",
       "    <tr>\n",
       "      <th>1337</th>\n",
       "      <td>EliteCoin</td>\n",
       "      <td>X13</td>\n",
       "      <td>PoW/PoS</td>\n",
       "      <td>2.927942e+10</td>\n",
       "      <td>314159265359</td>\n",
       "    </tr>\n",
       "    <tr>\n",
       "      <th>BTC</th>\n",
       "      <td>Bitcoin</td>\n",
       "      <td>SHA-256</td>\n",
       "      <td>PoW</td>\n",
       "      <td>1.792718e+07</td>\n",
       "      <td>21000000</td>\n",
       "    </tr>\n",
       "  </tbody>\n",
       "</table>\n",
       "</div>"
      ],
      "text/plain": [
       "       CoinName Algorithm ProofType  TotalCoinsMined TotalCoinSupply\n",
       "42      42 Coin    Scrypt   PoW/PoS     4.199995e+01              42\n",
       "404     404Coin    Scrypt   PoW/PoS     1.055185e+09       532000000\n",
       "808         808   SHA-256   PoW/PoS     0.000000e+00               0\n",
       "1337  EliteCoin       X13   PoW/PoS     2.927942e+10    314159265359\n",
       "BTC     Bitcoin   SHA-256       PoW     1.792718e+07        21000000"
      ]
     },
     "execution_count": 84,
     "metadata": {},
     "output_type": "execute_result"
    }
   ],
   "source": [
    "# Remove rows that have at least 1 null value.\n",
    "crypto_df = crypto_df.dropna()\n",
    "crypto_df.head()"
   ]
  },
  {
   "cell_type": "code",
   "execution_count": 85,
   "metadata": {},
   "outputs": [
    {
     "data": {
      "text/html": [
       "<div>\n",
       "<style scoped>\n",
       "    .dataframe tbody tr th:only-of-type {\n",
       "        vertical-align: middle;\n",
       "    }\n",
       "\n",
       "    .dataframe tbody tr th {\n",
       "        vertical-align: top;\n",
       "    }\n",
       "\n",
       "    .dataframe thead th {\n",
       "        text-align: right;\n",
       "    }\n",
       "</style>\n",
       "<table border=\"1\" class=\"dataframe\">\n",
       "  <thead>\n",
       "    <tr style=\"text-align: right;\">\n",
       "      <th></th>\n",
       "      <th>CoinName</th>\n",
       "      <th>Algorithm</th>\n",
       "      <th>ProofType</th>\n",
       "      <th>TotalCoinsMined</th>\n",
       "      <th>TotalCoinSupply</th>\n",
       "    </tr>\n",
       "  </thead>\n",
       "  <tbody>\n",
       "    <tr>\n",
       "      <th>42</th>\n",
       "      <td>42 Coin</td>\n",
       "      <td>Scrypt</td>\n",
       "      <td>PoW/PoS</td>\n",
       "      <td>4.199995e+01</td>\n",
       "      <td>42</td>\n",
       "    </tr>\n",
       "    <tr>\n",
       "      <th>404</th>\n",
       "      <td>404Coin</td>\n",
       "      <td>Scrypt</td>\n",
       "      <td>PoW/PoS</td>\n",
       "      <td>1.055185e+09</td>\n",
       "      <td>532000000</td>\n",
       "    </tr>\n",
       "    <tr>\n",
       "      <th>1337</th>\n",
       "      <td>EliteCoin</td>\n",
       "      <td>X13</td>\n",
       "      <td>PoW/PoS</td>\n",
       "      <td>2.927942e+10</td>\n",
       "      <td>314159265359</td>\n",
       "    </tr>\n",
       "    <tr>\n",
       "      <th>BTC</th>\n",
       "      <td>Bitcoin</td>\n",
       "      <td>SHA-256</td>\n",
       "      <td>PoW</td>\n",
       "      <td>1.792718e+07</td>\n",
       "      <td>21000000</td>\n",
       "    </tr>\n",
       "    <tr>\n",
       "      <th>ETH</th>\n",
       "      <td>Ethereum</td>\n",
       "      <td>Ethash</td>\n",
       "      <td>PoW</td>\n",
       "      <td>1.076842e+08</td>\n",
       "      <td>0</td>\n",
       "    </tr>\n",
       "  </tbody>\n",
       "</table>\n",
       "</div>"
      ],
      "text/plain": [
       "       CoinName Algorithm ProofType  TotalCoinsMined TotalCoinSupply\n",
       "42      42 Coin    Scrypt   PoW/PoS     4.199995e+01              42\n",
       "404     404Coin    Scrypt   PoW/PoS     1.055185e+09       532000000\n",
       "1337  EliteCoin       X13   PoW/PoS     2.927942e+10    314159265359\n",
       "BTC     Bitcoin   SHA-256       PoW     1.792718e+07        21000000\n",
       "ETH    Ethereum    Ethash       PoW     1.076842e+08               0"
      ]
     },
     "execution_count": 85,
     "metadata": {},
     "output_type": "execute_result"
    }
   ],
   "source": [
    "# Keep the rows where coins are mined.\n",
    "crypto_df=crypto_df[crypto_df.TotalCoinsMined>0]\n",
    "crypto_df.head()"
   ]
  },
  {
   "cell_type": "code",
   "execution_count": 86,
   "metadata": {},
   "outputs": [
    {
     "data": {
      "text/html": [
       "<div>\n",
       "<style scoped>\n",
       "    .dataframe tbody tr th:only-of-type {\n",
       "        vertical-align: middle;\n",
       "    }\n",
       "\n",
       "    .dataframe tbody tr th {\n",
       "        vertical-align: top;\n",
       "    }\n",
       "\n",
       "    .dataframe thead th {\n",
       "        text-align: right;\n",
       "    }\n",
       "</style>\n",
       "<table border=\"1\" class=\"dataframe\">\n",
       "  <thead>\n",
       "    <tr style=\"text-align: right;\">\n",
       "      <th></th>\n",
       "      <th>CoinName</th>\n",
       "    </tr>\n",
       "  </thead>\n",
       "  <tbody>\n",
       "    <tr>\n",
       "      <th>42</th>\n",
       "      <td>42 Coin</td>\n",
       "    </tr>\n",
       "    <tr>\n",
       "      <th>404</th>\n",
       "      <td>404Coin</td>\n",
       "    </tr>\n",
       "    <tr>\n",
       "      <th>1337</th>\n",
       "      <td>EliteCoin</td>\n",
       "    </tr>\n",
       "    <tr>\n",
       "      <th>BTC</th>\n",
       "      <td>Bitcoin</td>\n",
       "    </tr>\n",
       "    <tr>\n",
       "      <th>ETH</th>\n",
       "      <td>Ethereum</td>\n",
       "    </tr>\n",
       "  </tbody>\n",
       "</table>\n",
       "</div>"
      ],
      "text/plain": [
       "       CoinName\n",
       "42      42 Coin\n",
       "404     404Coin\n",
       "1337  EliteCoin\n",
       "BTC     Bitcoin\n",
       "ETH    Ethereum"
      ]
     },
     "execution_count": 86,
     "metadata": {},
     "output_type": "execute_result"
    }
   ],
   "source": [
    "# Create a new DataFrame that holds only the cryptocurrencies names.\n",
    "name_df=pd.DataFrame(crypto_df['CoinName'])\n",
    "name_df.head()"
   ]
  },
  {
   "cell_type": "code",
   "execution_count": 88,
   "metadata": {},
   "outputs": [
    {
     "data": {
      "text/html": [
       "<div>\n",
       "<style scoped>\n",
       "    .dataframe tbody tr th:only-of-type {\n",
       "        vertical-align: middle;\n",
       "    }\n",
       "\n",
       "    .dataframe tbody tr th {\n",
       "        vertical-align: top;\n",
       "    }\n",
       "\n",
       "    .dataframe thead th {\n",
       "        text-align: right;\n",
       "    }\n",
       "</style>\n",
       "<table border=\"1\" class=\"dataframe\">\n",
       "  <thead>\n",
       "    <tr style=\"text-align: right;\">\n",
       "      <th></th>\n",
       "      <th>Algorithm</th>\n",
       "      <th>ProofType</th>\n",
       "      <th>TotalCoinsMined</th>\n",
       "      <th>TotalCoinSupply</th>\n",
       "    </tr>\n",
       "  </thead>\n",
       "  <tbody>\n",
       "    <tr>\n",
       "      <th>42</th>\n",
       "      <td>Scrypt</td>\n",
       "      <td>PoW/PoS</td>\n",
       "      <td>4.199995e+01</td>\n",
       "      <td>42</td>\n",
       "    </tr>\n",
       "    <tr>\n",
       "      <th>404</th>\n",
       "      <td>Scrypt</td>\n",
       "      <td>PoW/PoS</td>\n",
       "      <td>1.055185e+09</td>\n",
       "      <td>532000000</td>\n",
       "    </tr>\n",
       "    <tr>\n",
       "      <th>1337</th>\n",
       "      <td>X13</td>\n",
       "      <td>PoW/PoS</td>\n",
       "      <td>2.927942e+10</td>\n",
       "      <td>314159265359</td>\n",
       "    </tr>\n",
       "    <tr>\n",
       "      <th>BTC</th>\n",
       "      <td>SHA-256</td>\n",
       "      <td>PoW</td>\n",
       "      <td>1.792718e+07</td>\n",
       "      <td>21000000</td>\n",
       "    </tr>\n",
       "    <tr>\n",
       "      <th>ETH</th>\n",
       "      <td>Ethash</td>\n",
       "      <td>PoW</td>\n",
       "      <td>1.076842e+08</td>\n",
       "      <td>0</td>\n",
       "    </tr>\n",
       "    <tr>\n",
       "      <th>LTC</th>\n",
       "      <td>Scrypt</td>\n",
       "      <td>PoW</td>\n",
       "      <td>6.303924e+07</td>\n",
       "      <td>84000000</td>\n",
       "    </tr>\n",
       "    <tr>\n",
       "      <th>DASH</th>\n",
       "      <td>X11</td>\n",
       "      <td>PoW/PoS</td>\n",
       "      <td>9.031294e+06</td>\n",
       "      <td>22000000</td>\n",
       "    </tr>\n",
       "    <tr>\n",
       "      <th>XMR</th>\n",
       "      <td>CryptoNight-V7</td>\n",
       "      <td>PoW</td>\n",
       "      <td>1.720114e+07</td>\n",
       "      <td>0</td>\n",
       "    </tr>\n",
       "    <tr>\n",
       "      <th>ETC</th>\n",
       "      <td>Ethash</td>\n",
       "      <td>PoW</td>\n",
       "      <td>1.133597e+08</td>\n",
       "      <td>210000000</td>\n",
       "    </tr>\n",
       "    <tr>\n",
       "      <th>ZEC</th>\n",
       "      <td>Equihash</td>\n",
       "      <td>PoW</td>\n",
       "      <td>7.383056e+06</td>\n",
       "      <td>21000000</td>\n",
       "    </tr>\n",
       "  </tbody>\n",
       "</table>\n",
       "</div>"
      ],
      "text/plain": [
       "           Algorithm ProofType  TotalCoinsMined TotalCoinSupply\n",
       "42            Scrypt   PoW/PoS     4.199995e+01              42\n",
       "404           Scrypt   PoW/PoS     1.055185e+09       532000000\n",
       "1337             X13   PoW/PoS     2.927942e+10    314159265359\n",
       "BTC          SHA-256       PoW     1.792718e+07        21000000\n",
       "ETH           Ethash       PoW     1.076842e+08               0\n",
       "LTC           Scrypt       PoW     6.303924e+07        84000000\n",
       "DASH             X11   PoW/PoS     9.031294e+06        22000000\n",
       "XMR   CryptoNight-V7       PoW     1.720114e+07               0\n",
       "ETC           Ethash       PoW     1.133597e+08       210000000\n",
       "ZEC         Equihash       PoW     7.383056e+06        21000000"
      ]
     },
     "execution_count": 88,
     "metadata": {},
     "output_type": "execute_result"
    }
   ],
   "source": [
    "# Drop the 'CoinName' column since it's not going to be used on the clustering algorithm.\n",
    "crypto_df=crypto_df.drop(['CoinName'], axis=1)\n",
    "crypto_df.head(10)"
   ]
  },
  {
   "cell_type": "code",
   "execution_count": 89,
   "metadata": {},
   "outputs": [
    {
     "data": {
      "text/html": [
       "<div>\n",
       "<style scoped>\n",
       "    .dataframe tbody tr th:only-of-type {\n",
       "        vertical-align: middle;\n",
       "    }\n",
       "\n",
       "    .dataframe tbody tr th {\n",
       "        vertical-align: top;\n",
       "    }\n",
       "\n",
       "    .dataframe thead th {\n",
       "        text-align: right;\n",
       "    }\n",
       "</style>\n",
       "<table border=\"1\" class=\"dataframe\">\n",
       "  <thead>\n",
       "    <tr style=\"text-align: right;\">\n",
       "      <th></th>\n",
       "      <th>TotalCoinsMined</th>\n",
       "      <th>TotalCoinSupply</th>\n",
       "      <th>Algorithm_1GB AES Pattern Search</th>\n",
       "      <th>Algorithm_536</th>\n",
       "      <th>Algorithm_Argon2d</th>\n",
       "      <th>Algorithm_BLAKE256</th>\n",
       "      <th>Algorithm_Blake</th>\n",
       "      <th>Algorithm_Blake2S</th>\n",
       "      <th>Algorithm_Blake2b</th>\n",
       "      <th>Algorithm_C11</th>\n",
       "      <th>...</th>\n",
       "      <th>ProofType_PoW/PoS</th>\n",
       "      <th>ProofType_PoW/PoS</th>\n",
       "      <th>ProofType_PoW/PoW</th>\n",
       "      <th>ProofType_PoW/nPoS</th>\n",
       "      <th>ProofType_Pos</th>\n",
       "      <th>ProofType_Proof of Authority</th>\n",
       "      <th>ProofType_Proof of Trust</th>\n",
       "      <th>ProofType_TPoS</th>\n",
       "      <th>ProofType_Zero-Knowledge Proof</th>\n",
       "      <th>ProofType_dPoW/PoW</th>\n",
       "    </tr>\n",
       "  </thead>\n",
       "  <tbody>\n",
       "    <tr>\n",
       "      <th>42</th>\n",
       "      <td>4.199995e+01</td>\n",
       "      <td>42</td>\n",
       "      <td>0</td>\n",
       "      <td>0</td>\n",
       "      <td>0</td>\n",
       "      <td>0</td>\n",
       "      <td>0</td>\n",
       "      <td>0</td>\n",
       "      <td>0</td>\n",
       "      <td>0</td>\n",
       "      <td>...</td>\n",
       "      <td>1</td>\n",
       "      <td>0</td>\n",
       "      <td>0</td>\n",
       "      <td>0</td>\n",
       "      <td>0</td>\n",
       "      <td>0</td>\n",
       "      <td>0</td>\n",
       "      <td>0</td>\n",
       "      <td>0</td>\n",
       "      <td>0</td>\n",
       "    </tr>\n",
       "    <tr>\n",
       "      <th>404</th>\n",
       "      <td>1.055185e+09</td>\n",
       "      <td>532000000</td>\n",
       "      <td>0</td>\n",
       "      <td>0</td>\n",
       "      <td>0</td>\n",
       "      <td>0</td>\n",
       "      <td>0</td>\n",
       "      <td>0</td>\n",
       "      <td>0</td>\n",
       "      <td>0</td>\n",
       "      <td>...</td>\n",
       "      <td>1</td>\n",
       "      <td>0</td>\n",
       "      <td>0</td>\n",
       "      <td>0</td>\n",
       "      <td>0</td>\n",
       "      <td>0</td>\n",
       "      <td>0</td>\n",
       "      <td>0</td>\n",
       "      <td>0</td>\n",
       "      <td>0</td>\n",
       "    </tr>\n",
       "    <tr>\n",
       "      <th>1337</th>\n",
       "      <td>2.927942e+10</td>\n",
       "      <td>314159265359</td>\n",
       "      <td>0</td>\n",
       "      <td>0</td>\n",
       "      <td>0</td>\n",
       "      <td>0</td>\n",
       "      <td>0</td>\n",
       "      <td>0</td>\n",
       "      <td>0</td>\n",
       "      <td>0</td>\n",
       "      <td>...</td>\n",
       "      <td>1</td>\n",
       "      <td>0</td>\n",
       "      <td>0</td>\n",
       "      <td>0</td>\n",
       "      <td>0</td>\n",
       "      <td>0</td>\n",
       "      <td>0</td>\n",
       "      <td>0</td>\n",
       "      <td>0</td>\n",
       "      <td>0</td>\n",
       "    </tr>\n",
       "    <tr>\n",
       "      <th>BTC</th>\n",
       "      <td>1.792718e+07</td>\n",
       "      <td>21000000</td>\n",
       "      <td>0</td>\n",
       "      <td>0</td>\n",
       "      <td>0</td>\n",
       "      <td>0</td>\n",
       "      <td>0</td>\n",
       "      <td>0</td>\n",
       "      <td>0</td>\n",
       "      <td>0</td>\n",
       "      <td>...</td>\n",
       "      <td>0</td>\n",
       "      <td>0</td>\n",
       "      <td>0</td>\n",
       "      <td>0</td>\n",
       "      <td>0</td>\n",
       "      <td>0</td>\n",
       "      <td>0</td>\n",
       "      <td>0</td>\n",
       "      <td>0</td>\n",
       "      <td>0</td>\n",
       "    </tr>\n",
       "    <tr>\n",
       "      <th>ETH</th>\n",
       "      <td>1.076842e+08</td>\n",
       "      <td>0</td>\n",
       "      <td>0</td>\n",
       "      <td>0</td>\n",
       "      <td>0</td>\n",
       "      <td>0</td>\n",
       "      <td>0</td>\n",
       "      <td>0</td>\n",
       "      <td>0</td>\n",
       "      <td>0</td>\n",
       "      <td>...</td>\n",
       "      <td>0</td>\n",
       "      <td>0</td>\n",
       "      <td>0</td>\n",
       "      <td>0</td>\n",
       "      <td>0</td>\n",
       "      <td>0</td>\n",
       "      <td>0</td>\n",
       "      <td>0</td>\n",
       "      <td>0</td>\n",
       "      <td>0</td>\n",
       "    </tr>\n",
       "  </tbody>\n",
       "</table>\n",
       "<p>5 rows × 98 columns</p>\n",
       "</div>"
      ],
      "text/plain": [
       "      TotalCoinsMined TotalCoinSupply  Algorithm_1GB AES Pattern Search  \\\n",
       "42       4.199995e+01              42                                 0   \n",
       "404      1.055185e+09       532000000                                 0   \n",
       "1337     2.927942e+10    314159265359                                 0   \n",
       "BTC      1.792718e+07        21000000                                 0   \n",
       "ETH      1.076842e+08               0                                 0   \n",
       "\n",
       "      Algorithm_536  Algorithm_Argon2d  Algorithm_BLAKE256  Algorithm_Blake  \\\n",
       "42                0                  0                   0                0   \n",
       "404               0                  0                   0                0   \n",
       "1337              0                  0                   0                0   \n",
       "BTC               0                  0                   0                0   \n",
       "ETH               0                  0                   0                0   \n",
       "\n",
       "      Algorithm_Blake2S  Algorithm_Blake2b  Algorithm_C11  ...  \\\n",
       "42                    0                  0              0  ...   \n",
       "404                   0                  0              0  ...   \n",
       "1337                  0                  0              0  ...   \n",
       "BTC                   0                  0              0  ...   \n",
       "ETH                   0                  0              0  ...   \n",
       "\n",
       "      ProofType_PoW/PoS  ProofType_PoW/PoS   ProofType_PoW/PoW  \\\n",
       "42                    1                   0                  0   \n",
       "404                   1                   0                  0   \n",
       "1337                  1                   0                  0   \n",
       "BTC                   0                   0                  0   \n",
       "ETH                   0                   0                  0   \n",
       "\n",
       "      ProofType_PoW/nPoS  ProofType_Pos  ProofType_Proof of Authority  \\\n",
       "42                     0              0                             0   \n",
       "404                    0              0                             0   \n",
       "1337                   0              0                             0   \n",
       "BTC                    0              0                             0   \n",
       "ETH                    0              0                             0   \n",
       "\n",
       "      ProofType_Proof of Trust  ProofType_TPoS  \\\n",
       "42                           0               0   \n",
       "404                          0               0   \n",
       "1337                         0               0   \n",
       "BTC                          0               0   \n",
       "ETH                          0               0   \n",
       "\n",
       "      ProofType_Zero-Knowledge Proof  ProofType_dPoW/PoW  \n",
       "42                                 0                   0  \n",
       "404                                0                   0  \n",
       "1337                               0                   0  \n",
       "BTC                                0                   0  \n",
       "ETH                                0                   0  \n",
       "\n",
       "[5 rows x 98 columns]"
      ]
     },
     "execution_count": 89,
     "metadata": {},
     "output_type": "execute_result"
    }
   ],
   "source": [
    "# Use get_dummies() to create variables for text features.\n",
    "X= pd.get_dummies(crypto_df, columns=[\"Algorithm\", \"ProofType\"])\n",
    "X.head()"
   ]
  },
  {
   "cell_type": "code",
   "execution_count": 90,
   "metadata": {},
   "outputs": [
    {
     "data": {
      "text/plain": [
       "array([[-0.11710817, -0.1528703 , -0.0433963 , ..., -0.0433963 ,\n",
       "        -0.0433963 , -0.0433963 ],\n",
       "       [-0.09396955, -0.145009  , -0.0433963 , ..., -0.0433963 ,\n",
       "        -0.0433963 , -0.0433963 ],\n",
       "       [ 0.52494561,  4.48942416, -0.0433963 , ..., -0.0433963 ,\n",
       "        -0.0433963 , -0.0433963 ],\n",
       "       ...,\n",
       "       [-0.09561336, -0.13217937, -0.0433963 , ..., -0.0433963 ,\n",
       "        -0.0433963 , -0.0433963 ],\n",
       "       [-0.11694817, -0.15255998, -0.0433963 , ..., -0.0433963 ,\n",
       "        -0.0433963 , -0.0433963 ],\n",
       "       [-0.11710536, -0.15285552, -0.0433963 , ..., -0.0433963 ,\n",
       "        -0.0433963 , -0.0433963 ]])"
      ]
     },
     "execution_count": 90,
     "metadata": {},
     "output_type": "execute_result"
    }
   ],
   "source": [
    "# Standardize the data with StandardScaler().\n",
    "X_scaled = StandardScaler().fit_transform(X)\n",
    "X_scaled"
   ]
  },
  {
   "cell_type": "markdown",
   "metadata": {},
   "source": [
    "### Deliverable 2: Reducing Data Dimensions Using PCA"
   ]
  },
  {
   "cell_type": "code",
   "execution_count": 91,
   "metadata": {},
   "outputs": [
    {
     "data": {
      "text/plain": [
       "array([[-0.34124217,  0.99513518, -0.47799229],\n",
       "       [-0.32453485,  0.99514348, -0.47830133],\n",
       "       [ 2.29235294,  1.63095557, -0.59007878],\n",
       "       ...,\n",
       "       [ 0.32793381, -2.25733735,  0.37044755],\n",
       "       [-0.16962987, -2.03397791,  0.35152139],\n",
       "       [-0.278556  ,  0.82264679, -0.23773693]])"
      ]
     },
     "execution_count": 91,
     "metadata": {},
     "output_type": "execute_result"
    }
   ],
   "source": [
    "# Using PCA to reduce dimension to three principal components.\n",
    "pca = PCA(n_components=3)\n",
    "X_pca = pca.fit_transform(X_scaled)\n",
    "X_pca"
   ]
  },
  {
   "cell_type": "code",
   "execution_count": 93,
   "metadata": {},
   "outputs": [
    {
     "data": {
      "text/html": [
       "<div>\n",
       "<style scoped>\n",
       "    .dataframe tbody tr th:only-of-type {\n",
       "        vertical-align: middle;\n",
       "    }\n",
       "\n",
       "    .dataframe tbody tr th {\n",
       "        vertical-align: top;\n",
       "    }\n",
       "\n",
       "    .dataframe thead th {\n",
       "        text-align: right;\n",
       "    }\n",
       "</style>\n",
       "<table border=\"1\" class=\"dataframe\">\n",
       "  <thead>\n",
       "    <tr style=\"text-align: right;\">\n",
       "      <th></th>\n",
       "      <th>PC 1</th>\n",
       "      <th>PC 2</th>\n",
       "      <th>PC 3</th>\n",
       "    </tr>\n",
       "  </thead>\n",
       "  <tbody>\n",
       "    <tr>\n",
       "      <th>42</th>\n",
       "      <td>-0.341242</td>\n",
       "      <td>0.995135</td>\n",
       "      <td>-0.477992</td>\n",
       "    </tr>\n",
       "    <tr>\n",
       "      <th>404</th>\n",
       "      <td>-0.324535</td>\n",
       "      <td>0.995143</td>\n",
       "      <td>-0.478301</td>\n",
       "    </tr>\n",
       "    <tr>\n",
       "      <th>1337</th>\n",
       "      <td>2.292353</td>\n",
       "      <td>1.630956</td>\n",
       "      <td>-0.590079</td>\n",
       "    </tr>\n",
       "    <tr>\n",
       "      <th>BTC</th>\n",
       "      <td>-0.147224</td>\n",
       "      <td>-1.335690</td>\n",
       "      <td>0.138418</td>\n",
       "    </tr>\n",
       "    <tr>\n",
       "      <th>ETH</th>\n",
       "      <td>-0.139045</td>\n",
       "      <td>-2.004377</td>\n",
       "      <td>0.316049</td>\n",
       "    </tr>\n",
       "  </tbody>\n",
       "</table>\n",
       "</div>"
      ],
      "text/plain": [
       "          PC 1      PC 2      PC 3\n",
       "42   -0.341242  0.995135 -0.477992\n",
       "404  -0.324535  0.995143 -0.478301\n",
       "1337  2.292353  1.630956 -0.590079\n",
       "BTC  -0.147224 -1.335690  0.138418\n",
       "ETH  -0.139045 -2.004377  0.316049"
      ]
     },
     "execution_count": 93,
     "metadata": {},
     "output_type": "execute_result"
    }
   ],
   "source": [
    "# Create a DataFrame with the three principal components.\n",
    "pcs_df = pd.DataFrame(data=X_pca, columns=[\"PC 1\",\"PC 2\",\"PC 3\"],index=crypto_df.index)\n",
    "pcs_df.head()"
   ]
  },
  {
   "cell_type": "markdown",
   "metadata": {},
   "source": [
    "### Deliverable 3: Clustering Crytocurrencies Using K-Means\n",
    "\n",
    "#### Finding the Best Value for `k` Using the Elbow Curve"
   ]
  },
  {
   "cell_type": "code",
   "execution_count": 94,
   "metadata": {},
   "outputs": [
    {
     "data": {},
     "metadata": {},
     "output_type": "display_data"
    },
    {
     "data": {
      "application/vnd.holoviews_exec.v0+json": "",
      "text/html": [
       "<div id='1329'>\n",
       "  <div class=\"bk-root\" id=\"fa8d1be7-228e-4eb6-ba78-8f79420019dd\" data-root-id=\"1329\"></div>\n",
       "</div>\n",
       "<script type=\"application/javascript\">(function(root) {\n",
       "  function embed_document(root) {\n",
       "    var docs_json = {\"8fe68ef4-9abd-43d9-bfdc-d7520fe3a56b\":{\"defs\":[{\"extends\":null,\"module\":null,\"name\":\"ReactiveHTML1\",\"overrides\":[],\"properties\":[]},{\"extends\":null,\"module\":null,\"name\":\"FlexBox1\",\"overrides\":[],\"properties\":[{\"default\":\"flex-start\",\"kind\":null,\"name\":\"align_content\"},{\"default\":\"flex-start\",\"kind\":null,\"name\":\"align_items\"},{\"default\":\"row\",\"kind\":null,\"name\":\"flex_direction\"},{\"default\":\"wrap\",\"kind\":null,\"name\":\"flex_wrap\"},{\"default\":\"flex-start\",\"kind\":null,\"name\":\"justify_content\"}]},{\"extends\":null,\"module\":null,\"name\":\"GridStack1\",\"overrides\":[],\"properties\":[{\"default\":\"warn\",\"kind\":null,\"name\":\"mode\"},{\"default\":null,\"kind\":null,\"name\":\"ncols\"},{\"default\":null,\"kind\":null,\"name\":\"nrows\"},{\"default\":true,\"kind\":null,\"name\":\"allow_resize\"},{\"default\":true,\"kind\":null,\"name\":\"allow_drag\"},{\"default\":[],\"kind\":null,\"name\":\"state\"}]},{\"extends\":null,\"module\":null,\"name\":\"click1\",\"overrides\":[],\"properties\":[{\"default\":\"\",\"kind\":null,\"name\":\"terminal_output\"},{\"default\":\"\",\"kind\":null,\"name\":\"debug_name\"},{\"default\":0,\"kind\":null,\"name\":\"clears\"}]},{\"extends\":null,\"module\":null,\"name\":\"NotificationAreaBase1\",\"overrides\":[],\"properties\":[{\"default\":\"bottom-right\",\"kind\":null,\"name\":\"position\"},{\"default\":0,\"kind\":null,\"name\":\"_clear\"}]},{\"extends\":null,\"module\":null,\"name\":\"NotificationArea1\",\"overrides\":[],\"properties\":[{\"default\":[],\"kind\":null,\"name\":\"notifications\"},{\"default\":\"bottom-right\",\"kind\":null,\"name\":\"position\"},{\"default\":0,\"kind\":null,\"name\":\"_clear\"},{\"default\":[{\"background\":\"#ffc107\",\"icon\":{\"className\":\"fas fa-exclamation-triangle\",\"color\":\"white\",\"tagName\":\"i\"},\"type\":\"warning\"},{\"background\":\"#007bff\",\"icon\":{\"className\":\"fas fa-info-circle\",\"color\":\"white\",\"tagName\":\"i\"},\"type\":\"info\"}],\"kind\":null,\"name\":\"types\"}]},{\"extends\":null,\"module\":null,\"name\":\"Notification\",\"overrides\":[],\"properties\":[{\"default\":null,\"kind\":null,\"name\":\"background\"},{\"default\":3000,\"kind\":null,\"name\":\"duration\"},{\"default\":null,\"kind\":null,\"name\":\"icon\"},{\"default\":\"\",\"kind\":null,\"name\":\"message\"},{\"default\":null,\"kind\":null,\"name\":\"notification_type\"},{\"default\":false,\"kind\":null,\"name\":\"_destroyed\"}]},{\"extends\":null,\"module\":null,\"name\":\"TemplateActions1\",\"overrides\":[],\"properties\":[{\"default\":0,\"kind\":null,\"name\":\"open_modal\"},{\"default\":0,\"kind\":null,\"name\":\"close_modal\"}]},{\"extends\":null,\"module\":null,\"name\":\"MaterialTemplateActions1\",\"overrides\":[],\"properties\":[{\"default\":0,\"kind\":null,\"name\":\"open_modal\"},{\"default\":0,\"kind\":null,\"name\":\"close_modal\"}]}],\"roots\":{\"references\":[{\"attributes\":{},\"id\":\"1352\",\"type\":\"PanTool\"},{\"attributes\":{},\"id\":\"1353\",\"type\":\"WheelZoomTool\"},{\"attributes\":{},\"id\":\"1351\",\"type\":\"SaveTool\"},{\"attributes\":{\"children\":[{\"id\":\"1330\"},{\"id\":\"1334\"},{\"id\":\"1391\"}],\"margin\":[0,0,0,0],\"name\":\"Row01175\",\"tags\":[\"embedded\"]},\"id\":\"1329\",\"type\":\"Row\"},{\"attributes\":{\"overlay\":{\"id\":\"1356\"}},\"id\":\"1354\",\"type\":\"BoxZoomTool\"},{\"attributes\":{},\"id\":\"1355\",\"type\":\"ResetTool\"},{\"attributes\":{\"below\":[{\"id\":\"1343\"}],\"center\":[{\"id\":\"1346\"},{\"id\":\"1350\"}],\"height\":300,\"left\":[{\"id\":\"1347\"}],\"margin\":[5,5,5,5],\"min_border_bottom\":10,\"min_border_left\":10,\"min_border_right\":10,\"min_border_top\":10,\"renderers\":[{\"id\":\"1370\"}],\"sizing_mode\":\"fixed\",\"title\":{\"id\":\"1335\"},\"toolbar\":{\"id\":\"1357\"},\"width\":700,\"x_range\":{\"id\":\"1331\"},\"x_scale\":{\"id\":\"1339\"},\"y_range\":{\"id\":\"1332\"},\"y_scale\":{\"id\":\"1341\"}},\"id\":\"1334\",\"subtype\":\"Figure\",\"type\":\"Plot\"},{\"attributes\":{},\"id\":\"1381\",\"type\":\"AllLabels\"},{\"attributes\":{\"bottom_units\":\"screen\",\"coordinates\":null,\"fill_alpha\":0.5,\"fill_color\":\"lightgrey\",\"group\":null,\"left_units\":\"screen\",\"level\":\"overlay\",\"line_alpha\":1.0,\"line_color\":\"black\",\"line_dash\":[4,4],\"line_width\":2,\"right_units\":\"screen\",\"syncable\":false,\"top_units\":\"screen\"},\"id\":\"1356\",\"type\":\"BoxAnnotation\"},{\"attributes\":{\"coordinates\":null,\"data_source\":{\"id\":\"1364\"},\"glyph\":{\"id\":\"1367\"},\"group\":null,\"hover_glyph\":null,\"muted_glyph\":{\"id\":\"1369\"},\"nonselection_glyph\":{\"id\":\"1368\"},\"selection_glyph\":{\"id\":\"1372\"},\"view\":{\"id\":\"1371\"}},\"id\":\"1370\",\"type\":\"GlyphRenderer\"},{\"attributes\":{\"line_color\":\"#30a2da\",\"line_width\":2,\"x\":{\"field\":\"k\"},\"y\":{\"field\":\"inertia\"}},\"id\":\"1367\",\"type\":\"Line\"},{\"attributes\":{\"end\":3989.846024968408,\"reset_end\":3989.846024968408,\"reset_start\":-212.6789345890465,\"start\":-212.6789345890465,\"tags\":[[[\"inertia\",\"inertia\",null]]]},\"id\":\"1332\",\"type\":\"Range1d\"},{\"attributes\":{\"ticks\":[1,2,3,4,5,6,7,8,9,10]},\"id\":\"1373\",\"type\":\"FixedTicker\"},{\"attributes\":{\"line_alpha\":0.1,\"line_color\":\"#30a2da\",\"line_width\":2,\"x\":{\"field\":\"k\"},\"y\":{\"field\":\"inertia\"}},\"id\":\"1368\",\"type\":\"Line\"},{\"attributes\":{},\"id\":\"1339\",\"type\":\"LinearScale\"},{\"attributes\":{\"end\":10.0,\"reset_end\":10.0,\"reset_start\":1.0,\"start\":1.0,\"tags\":[[[\"k\",\"k\",null]]]},\"id\":\"1331\",\"type\":\"Range1d\"},{\"attributes\":{\"margin\":[5,5,5,5],\"name\":\"HSpacer01179\",\"sizing_mode\":\"stretch_width\"},\"id\":\"1330\",\"type\":\"Spacer\"},{\"attributes\":{},\"id\":\"1388\",\"type\":\"UnionRenderers\"},{\"attributes\":{\"tools\":[{\"id\":\"1333\"},{\"id\":\"1351\"},{\"id\":\"1352\"},{\"id\":\"1353\"},{\"id\":\"1354\"},{\"id\":\"1355\"}]},\"id\":\"1357\",\"type\":\"Toolbar\"},{\"attributes\":{\"callback\":null,\"renderers\":[{\"id\":\"1370\"}],\"tags\":[\"hv_created\"],\"tooltips\":[[\"k\",\"@{k}\"],[\"inertia\",\"@{inertia}\"]]},\"id\":\"1333\",\"type\":\"HoverTool\"},{\"attributes\":{},\"id\":\"1376\",\"type\":\"AllLabels\"},{\"attributes\":{},\"id\":\"1375\",\"type\":\"BasicTickFormatter\"},{\"attributes\":{},\"id\":\"1341\",\"type\":\"LinearScale\"},{\"attributes\":{\"line_alpha\":0.2,\"line_color\":\"#30a2da\",\"line_width\":2,\"x\":{\"field\":\"k\"},\"y\":{\"field\":\"inertia\"}},\"id\":\"1369\",\"type\":\"Line\"},{\"attributes\":{\"coordinates\":null,\"group\":null,\"text\":\"Elbow Curve\",\"text_color\":\"black\",\"text_font_size\":\"12pt\"},\"id\":\"1335\",\"type\":\"Title\"},{\"attributes\":{\"margin\":[5,5,5,5],\"name\":\"HSpacer01180\",\"sizing_mode\":\"stretch_width\"},\"id\":\"1391\",\"type\":\"Spacer\"},{\"attributes\":{\"axis\":{\"id\":\"1343\"},\"coordinates\":null,\"grid_line_color\":null,\"group\":null,\"ticker\":null},\"id\":\"1346\",\"type\":\"Grid\"},{\"attributes\":{\"axis_label\":\"k\",\"coordinates\":null,\"formatter\":{\"id\":\"1375\"},\"group\":null,\"major_label_policy\":{\"id\":\"1376\"},\"ticker\":{\"id\":\"1373\"}},\"id\":\"1343\",\"type\":\"LinearAxis\"},{\"attributes\":{\"axis_label\":\"inertia\",\"coordinates\":null,\"formatter\":{\"id\":\"1380\"},\"group\":null,\"major_label_policy\":{\"id\":\"1381\"},\"ticker\":{\"id\":\"1348\"}},\"id\":\"1347\",\"type\":\"LinearAxis\"},{\"attributes\":{\"data\":{\"inertia\":{\"__ndarray__\":\"/p/kbkVvrEDkdV76IVOjQLBRlR7PaZdAchJ4bobXgkAjGGzJdkZ6QJzBG7uXcHVAxmVFS7avcUCiLtrZDhJtQP7CrEQjeWdA0lqi3wExYUA=\",\"dtype\":\"float64\",\"order\":\"little\",\"shape\":[10]},\"k\":[1,2,3,4,5,6,7,8,9,10]},\"selected\":{\"id\":\"1365\"},\"selection_policy\":{\"id\":\"1388\"}},\"id\":\"1364\",\"type\":\"ColumnDataSource\"},{\"attributes\":{},\"id\":\"1365\",\"type\":\"Selection\"},{\"attributes\":{\"source\":{\"id\":\"1364\"}},\"id\":\"1371\",\"type\":\"CDSView\"},{\"attributes\":{},\"id\":\"1380\",\"type\":\"BasicTickFormatter\"},{\"attributes\":{},\"id\":\"1348\",\"type\":\"BasicTicker\"},{\"attributes\":{\"line_color\":\"#30a2da\",\"line_width\":2,\"x\":{\"field\":\"k\"},\"y\":{\"field\":\"inertia\"}},\"id\":\"1372\",\"type\":\"Line\"},{\"attributes\":{\"axis\":{\"id\":\"1347\"},\"coordinates\":null,\"dimension\":1,\"grid_line_color\":null,\"group\":null,\"ticker\":null},\"id\":\"1350\",\"type\":\"Grid\"}],\"root_ids\":[\"1329\"]},\"title\":\"Bokeh Application\",\"version\":\"2.4.3\"}};\n",
       "    var render_items = [{\"docid\":\"8fe68ef4-9abd-43d9-bfdc-d7520fe3a56b\",\"root_ids\":[\"1329\"],\"roots\":{\"1329\":\"fa8d1be7-228e-4eb6-ba78-8f79420019dd\"}}];\n",
       "    root.Bokeh.embed.embed_items_notebook(docs_json, render_items);\n",
       "  }\n",
       "  if (root.Bokeh !== undefined && root.Bokeh.Panel !== undefined) {\n",
       "    embed_document(root);\n",
       "  } else {\n",
       "    var attempts = 0;\n",
       "    var timer = setInterval(function(root) {\n",
       "      if (root.Bokeh !== undefined && root.Bokeh.Panel !== undefined) {\n",
       "        clearInterval(timer);\n",
       "        embed_document(root);\n",
       "      } else if (document.readyState == \"complete\") {\n",
       "        attempts++;\n",
       "        if (attempts > 200) {\n",
       "          clearInterval(timer);\n",
       "          console.log(\"Bokeh: ERROR: Unable to run BokehJS code because BokehJS library is missing\");\n",
       "        }\n",
       "      }\n",
       "    }, 25, root)\n",
       "  }\n",
       "})(window);</script>"
      ],
      "text/plain": [
       ":Curve   [k]   (inertia)"
      ]
     },
     "execution_count": 94,
     "metadata": {
      "application/vnd.holoviews_exec.v0+json": {
       "id": "1329"
      }
     },
     "output_type": "execute_result"
    }
   ],
   "source": [
    "# Create an elbow curve to find the best value for K.\n",
    "inertia = []\n",
    "k = list(range(1, 11))\n",
    "for i in k:\n",
    "    km = KMeans(n_clusters=i, random_state=0)\n",
    "    km.fit(pcs_df)\n",
    "    inertia.append(km.inertia_)\n",
    "elbow_data = {\"k\": k, \"inertia\": inertia}\n",
    "df_elbow = pd.DataFrame(elbow_data)\n",
    "df_elbow.hvplot.line(x=\"k\", y=\"inertia\", title=\"Elbow Curve\", xticks=k)"
   ]
  },
  {
   "cell_type": "markdown",
   "metadata": {},
   "source": [
    "Running K-Means with `k=4`"
   ]
  },
  {
   "cell_type": "code",
   "execution_count": 95,
   "metadata": {},
   "outputs": [
    {
     "data": {
      "text/plain": [
       "array([0, 0, 0, 3, 3, 3, 0, 3, 3, 3, 0, 3, 0, 0, 3, 0, 3, 3, 0, 0, 3, 3,\n",
       "       3, 3, 3, 0, 3, 3, 3, 0, 3, 0, 3, 3, 0, 0, 3, 3, 3, 3, 3, 3, 0, 0,\n",
       "       3, 3, 3, 3, 3, 0, 0, 3, 0, 3, 3, 3, 3, 0, 3, 3, 0, 3, 0, 0, 0, 3,\n",
       "       3, 3, 0, 0, 0, 0, 0, 3, 3, 3, 0, 0, 3, 0, 3, 0, 0, 3, 3, 3, 3, 0,\n",
       "       0, 3, 0, 3, 3, 0, 0, 3, 0, 0, 3, 3, 0, 0, 3, 0, 0, 3, 0, 3, 0, 3,\n",
       "       0, 3, 0, 0, 3, 3, 0, 3, 3, 3, 0, 3, 3, 3, 3, 3, 0, 0, 3, 3, 3, 0,\n",
       "       3, 0, 3, 3, 0, 3, 0, 3, 0, 0, 3, 3, 0, 3, 3, 0, 0, 3, 0, 3, 0, 0,\n",
       "       0, 3, 3, 3, 3, 0, 0, 0, 0, 0, 3, 3, 0, 0, 0, 0, 0, 3, 0, 0, 0, 0,\n",
       "       0, 3, 0, 3, 0, 0, 3, 0, 3, 0, 0, 3, 0, 3, 0, 3, 0, 3, 0, 0, 0, 0,\n",
       "       3, 0, 0, 0, 0, 0, 3, 3, 0, 0, 3, 3, 0, 0, 0, 0, 0, 3, 0, 0, 0, 0,\n",
       "       0, 0, 0, 0, 3, 0, 0, 0, 0, 0, 0, 3, 3, 3, 0, 0, 0, 0, 3, 0, 3, 0,\n",
       "       0, 3, 0, 3, 3, 0, 3, 3, 0, 3, 0, 0, 0, 3, 0, 0, 3, 0, 0, 0, 0, 0,\n",
       "       0, 0, 3, 0, 3, 0, 0, 0, 0, 3, 0, 3, 0, 3, 3, 3, 3, 0, 3, 0, 0, 3,\n",
       "       0, 3, 3, 3, 0, 3, 0, 3, 3, 3, 0, 3, 0, 3, 0, 0, 0, 3, 0, 3, 3, 3,\n",
       "       3, 3, 0, 0, 3, 0, 0, 0, 3, 0, 3, 0, 3, 0, 3, 0, 0, 0, 0, 3, 0, 0,\n",
       "       3, 0, 0, 0, 3, 3, 3, 3, 0, 0, 0, 0, 3, 0, 3, 3, 3, 0, 0, 3, 3, 0,\n",
       "       0, 3, 0, 3, 3, 3, 0, 3, 3, 0, 0, 0, 3, 3, 3, 0, 0, 0, 3, 3, 0, 3,\n",
       "       3, 3, 3, 0, 1, 0, 3, 3, 3, 0, 1, 0, 0, 0, 0, 3, 3, 3, 3, 0, 0, 0,\n",
       "       3, 0, 3, 0, 0, 0, 0, 3, 0, 0, 3, 0, 0, 3, 3, 0, 3, 0, 3, 3, 3, 3,\n",
       "       0, 0, 3, 0, 3, 0, 0, 0, 0, 0, 0, 3, 3, 3, 0, 0, 0, 0, 0, 0, 3, 0,\n",
       "       3, 3, 3, 3, 0, 0, 0, 0, 3, 0, 0, 3, 0, 0, 3, 1, 3, 0, 3, 3, 0, 0,\n",
       "       3, 0, 3, 3, 0, 3, 3, 0, 3, 0, 3, 0, 0, 3, 0, 0, 0, 0, 0, 3, 3, 3,\n",
       "       0, 0, 0, 3, 0, 3, 0, 3, 0, 0, 0, 0, 3, 0, 0, 0, 3, 0, 3, 0, 3, 0,\n",
       "       0, 0, 3, 3, 0, 0, 0, 0, 0, 0, 3, 0, 3, 0, 3, 0, 0, 1, 0, 2, 0, 0,\n",
       "       0, 3, 3, 0], dtype=int32)"
      ]
     },
     "execution_count": 95,
     "metadata": {},
     "output_type": "execute_result"
    }
   ],
   "source": [
    "# Initialize the K-Means model.\n",
    "model = KMeans(n_clusters=4, random_state=0)\n",
    "\n",
    "# Fit the model\n",
    "model.fit(pcs_df)\n",
    "\n",
    "# Predict clusters\n",
    "predictions = model.predict(pcs_df)\n",
    "predictions"
   ]
  },
  {
   "cell_type": "code",
   "execution_count": 99,
   "metadata": {},
   "outputs": [
    {
     "name": "stdout",
     "output_type": "stream",
     "text": [
      "(532, 9)\n"
     ]
    },
    {
     "data": {
      "text/html": [
       "<div>\n",
       "<style scoped>\n",
       "    .dataframe tbody tr th:only-of-type {\n",
       "        vertical-align: middle;\n",
       "    }\n",
       "\n",
       "    .dataframe tbody tr th {\n",
       "        vertical-align: top;\n",
       "    }\n",
       "\n",
       "    .dataframe thead th {\n",
       "        text-align: right;\n",
       "    }\n",
       "</style>\n",
       "<table border=\"1\" class=\"dataframe\">\n",
       "  <thead>\n",
       "    <tr style=\"text-align: right;\">\n",
       "      <th></th>\n",
       "      <th>Algorithm</th>\n",
       "      <th>ProofType</th>\n",
       "      <th>TotalCoinsMined</th>\n",
       "      <th>TotalCoinSupply</th>\n",
       "      <th>PC 1</th>\n",
       "      <th>PC 2</th>\n",
       "      <th>PC 3</th>\n",
       "      <th>CoinName</th>\n",
       "      <th>Class</th>\n",
       "    </tr>\n",
       "  </thead>\n",
       "  <tbody>\n",
       "    <tr>\n",
       "      <th>42</th>\n",
       "      <td>Scrypt</td>\n",
       "      <td>PoW/PoS</td>\n",
       "      <td>4.199995e+01</td>\n",
       "      <td>42</td>\n",
       "      <td>-0.341242</td>\n",
       "      <td>0.995135</td>\n",
       "      <td>-0.477992</td>\n",
       "      <td>42 Coin</td>\n",
       "      <td>0</td>\n",
       "    </tr>\n",
       "    <tr>\n",
       "      <th>404</th>\n",
       "      <td>Scrypt</td>\n",
       "      <td>PoW/PoS</td>\n",
       "      <td>1.055185e+09</td>\n",
       "      <td>532000000</td>\n",
       "      <td>-0.324535</td>\n",
       "      <td>0.995143</td>\n",
       "      <td>-0.478301</td>\n",
       "      <td>404Coin</td>\n",
       "      <td>0</td>\n",
       "    </tr>\n",
       "    <tr>\n",
       "      <th>1337</th>\n",
       "      <td>X13</td>\n",
       "      <td>PoW/PoS</td>\n",
       "      <td>2.927942e+10</td>\n",
       "      <td>314159265359</td>\n",
       "      <td>2.292353</td>\n",
       "      <td>1.630956</td>\n",
       "      <td>-0.590079</td>\n",
       "      <td>EliteCoin</td>\n",
       "      <td>0</td>\n",
       "    </tr>\n",
       "    <tr>\n",
       "      <th>BTC</th>\n",
       "      <td>SHA-256</td>\n",
       "      <td>PoW</td>\n",
       "      <td>1.792718e+07</td>\n",
       "      <td>21000000</td>\n",
       "      <td>-0.147224</td>\n",
       "      <td>-1.335690</td>\n",
       "      <td>0.138418</td>\n",
       "      <td>Bitcoin</td>\n",
       "      <td>3</td>\n",
       "    </tr>\n",
       "    <tr>\n",
       "      <th>ETH</th>\n",
       "      <td>Ethash</td>\n",
       "      <td>PoW</td>\n",
       "      <td>1.076842e+08</td>\n",
       "      <td>0</td>\n",
       "      <td>-0.139045</td>\n",
       "      <td>-2.004377</td>\n",
       "      <td>0.316049</td>\n",
       "      <td>Ethereum</td>\n",
       "      <td>3</td>\n",
       "    </tr>\n",
       "    <tr>\n",
       "      <th>LTC</th>\n",
       "      <td>Scrypt</td>\n",
       "      <td>PoW</td>\n",
       "      <td>6.303924e+07</td>\n",
       "      <td>84000000</td>\n",
       "      <td>-0.162967</td>\n",
       "      <td>-1.123768</td>\n",
       "      <td>-0.008988</td>\n",
       "      <td>Litecoin</td>\n",
       "      <td>3</td>\n",
       "    </tr>\n",
       "    <tr>\n",
       "      <th>DASH</th>\n",
       "      <td>X11</td>\n",
       "      <td>PoW/PoS</td>\n",
       "      <td>9.031294e+06</td>\n",
       "      <td>22000000</td>\n",
       "      <td>-0.402189</td>\n",
       "      <td>1.197815</td>\n",
       "      <td>-0.411389</td>\n",
       "      <td>Dash</td>\n",
       "      <td>0</td>\n",
       "    </tr>\n",
       "    <tr>\n",
       "      <th>XMR</th>\n",
       "      <td>CryptoNight-V7</td>\n",
       "      <td>PoW</td>\n",
       "      <td>1.720114e+07</td>\n",
       "      <td>0</td>\n",
       "      <td>-0.142067</td>\n",
       "      <td>-2.219694</td>\n",
       "      <td>0.252574</td>\n",
       "      <td>Monero</td>\n",
       "      <td>3</td>\n",
       "    </tr>\n",
       "    <tr>\n",
       "      <th>ETC</th>\n",
       "      <td>Ethash</td>\n",
       "      <td>PoW</td>\n",
       "      <td>1.133597e+08</td>\n",
       "      <td>210000000</td>\n",
       "      <td>-0.137483</td>\n",
       "      <td>-2.004487</td>\n",
       "      <td>0.316022</td>\n",
       "      <td>Ethereum Classic</td>\n",
       "      <td>3</td>\n",
       "    </tr>\n",
       "    <tr>\n",
       "      <th>ZEC</th>\n",
       "      <td>Equihash</td>\n",
       "      <td>PoW</td>\n",
       "      <td>7.383056e+06</td>\n",
       "      <td>21000000</td>\n",
       "      <td>-0.169629</td>\n",
       "      <td>-2.033978</td>\n",
       "      <td>0.351521</td>\n",
       "      <td>ZCash</td>\n",
       "      <td>3</td>\n",
       "    </tr>\n",
       "  </tbody>\n",
       "</table>\n",
       "</div>"
      ],
      "text/plain": [
       "           Algorithm ProofType  TotalCoinsMined TotalCoinSupply      PC 1  \\\n",
       "42            Scrypt   PoW/PoS     4.199995e+01              42 -0.341242   \n",
       "404           Scrypt   PoW/PoS     1.055185e+09       532000000 -0.324535   \n",
       "1337             X13   PoW/PoS     2.927942e+10    314159265359  2.292353   \n",
       "BTC          SHA-256       PoW     1.792718e+07        21000000 -0.147224   \n",
       "ETH           Ethash       PoW     1.076842e+08               0 -0.139045   \n",
       "LTC           Scrypt       PoW     6.303924e+07        84000000 -0.162967   \n",
       "DASH             X11   PoW/PoS     9.031294e+06        22000000 -0.402189   \n",
       "XMR   CryptoNight-V7       PoW     1.720114e+07               0 -0.142067   \n",
       "ETC           Ethash       PoW     1.133597e+08       210000000 -0.137483   \n",
       "ZEC         Equihash       PoW     7.383056e+06        21000000 -0.169629   \n",
       "\n",
       "          PC 2      PC 3          CoinName  Class  \n",
       "42    0.995135 -0.477992           42 Coin      0  \n",
       "404   0.995143 -0.478301           404Coin      0  \n",
       "1337  1.630956 -0.590079         EliteCoin      0  \n",
       "BTC  -1.335690  0.138418           Bitcoin      3  \n",
       "ETH  -2.004377  0.316049          Ethereum      3  \n",
       "LTC  -1.123768 -0.008988          Litecoin      3  \n",
       "DASH  1.197815 -0.411389              Dash      0  \n",
       "XMR  -2.219694  0.252574            Monero      3  \n",
       "ETC  -2.004487  0.316022  Ethereum Classic      3  \n",
       "ZEC  -2.033978  0.351521             ZCash      3  "
      ]
     },
     "execution_count": 99,
     "metadata": {},
     "output_type": "execute_result"
    }
   ],
   "source": [
    "# Create a new DataFrame including predicted clusters and cryptocurrencies features.\n",
    "# Concatentate the crypto_df and pcs_df DataFrames on the same columns.\n",
    "clustered_df = pd.concat([crypto_df, pcs_df], axis=1)\n",
    "\n",
    "#  Add a new column, \"CoinName\" to the clustered_df DataFrame that holds the names of the cryptocurrencies. \n",
    "clustered_df['CoinName'] = name_df[\"CoinName\"]\n",
    "\n",
    "#  Add a new column, \"Class\" to the clustered_df DataFrame that holds the predictions.\n",
    "clustered_df[\"Class\"] = model.labels_\n",
    "\n",
    "# Print the shape of the clustered_df\n",
    "print(clustered_df.shape)\n",
    "clustered_df.head(10)"
   ]
  },
  {
   "cell_type": "markdown",
   "metadata": {},
   "source": [
    "### Deliverable 4: Visualizing Cryptocurrencies Results\n",
    "\n",
    "#### 3D-Scatter with Clusters"
   ]
  },
  {
   "cell_type": "code",
   "execution_count": 104,
   "metadata": {},
   "outputs": [
    {
     "data": {
      "application/vnd.plotly.v1+json": {
       "config": {
        "plotlyServerURL": "https://plot.ly"
       },
       "data": [
        {
         "customdata": [
          [
           "Scrypt"
          ],
          [
           "Scrypt"
          ],
          [
           "X13"
          ],
          [
           "X11"
          ],
          [
           "SHA-512"
          ],
          [
           "SHA-256"
          ],
          [
           "SHA-256"
          ],
          [
           "X15"
          ],
          [
           "Scrypt"
          ],
          [
           "Scrypt"
          ],
          [
           "Scrypt"
          ],
          [
           "Scrypt"
          ],
          [
           "Scrypt"
          ],
          [
           "Scrypt"
          ],
          [
           "Groestl"
          ],
          [
           "PoS"
          ],
          [
           "Scrypt"
          ],
          [
           "Scrypt"
          ],
          [
           "X11"
          ],
          [
           "X11"
          ],
          [
           "SHA3"
          ],
          [
           "Scrypt"
          ],
          [
           "SHA-256"
          ],
          [
           "Scrypt"
          ],
          [
           "X13"
          ],
          [
           "X13"
          ],
          [
           "NeoScrypt"
          ],
          [
           "Scrypt"
          ],
          [
           "Scrypt"
          ],
          [
           "Scrypt"
          ],
          [
           "X11"
          ],
          [
           "X11"
          ],
          [
           "Multiple"
          ],
          [
           "PHI1612"
          ],
          [
           "X11"
          ],
          [
           "Scrypt"
          ],
          [
           "Scrypt"
          ],
          [
           "Scrypt"
          ],
          [
           "X11"
          ],
          [
           "Multiple"
          ],
          [
           "X13"
          ],
          [
           "Scrypt"
          ],
          [
           "Shabal256"
          ],
          [
           "Counterparty"
          ],
          [
           "SHA-256"
          ],
          [
           "Groestl"
          ],
          [
           "Scrypt"
          ],
          [
           "X13"
          ],
          [
           "Scrypt"
          ],
          [
           "Scrypt"
          ],
          [
           "X13"
          ],
          [
           "X11"
          ],
          [
           "Scrypt"
          ],
          [
           "X11"
          ],
          [
           "SHA3"
          ],
          [
           "QUAIT"
          ],
          [
           "X11"
          ],
          [
           "Scrypt"
          ],
          [
           "X13"
          ],
          [
           "SHA-256"
          ],
          [
           "X15"
          ],
          [
           "BLAKE256"
          ],
          [
           "SHA-256"
          ],
          [
           "X11"
          ],
          [
           "SHA-256"
          ],
          [
           "NIST5"
          ],
          [
           "Scrypt"
          ],
          [
           "Scrypt"
          ],
          [
           "X11"
          ],
          [
           "Scrypt"
          ],
          [
           "SHA-256"
          ],
          [
           "Scrypt"
          ],
          [
           "PoS"
          ],
          [
           "X11"
          ],
          [
           "SHA-256"
          ],
          [
           "SHA-256"
          ],
          [
           "NIST5"
          ],
          [
           "X11"
          ],
          [
           "POS 3.0"
          ],
          [
           "Scrypt"
          ],
          [
           "Scrypt"
          ],
          [
           "Scrypt"
          ],
          [
           "X13"
          ],
          [
           "X11"
          ],
          [
           "X11"
          ],
          [
           "Scrypt"
          ],
          [
           "SHA-256"
          ],
          [
           "X11"
          ],
          [
           "Scrypt"
          ],
          [
           "Scrypt"
          ],
          [
           "Scrypt"
          ],
          [
           "Scrypt"
          ],
          [
           "SHA-256D"
          ],
          [
           "PoS"
          ],
          [
           "Scrypt"
          ],
          [
           "X11"
          ],
          [
           "PoS"
          ],
          [
           "X13"
          ],
          [
           "X14"
          ],
          [
           "PoS"
          ],
          [
           "SHA-256D"
          ],
          [
           "DPoS"
          ],
          [
           "X11"
          ],
          [
           "X13"
          ],
          [
           "X11"
          ],
          [
           "PoS"
          ],
          [
           "Scrypt"
          ],
          [
           "Scrypt"
          ],
          [
           "PoS"
          ],
          [
           "X11"
          ],
          [
           "SHA-256"
          ],
          [
           "Scrypt"
          ],
          [
           "X11"
          ],
          [
           "Scrypt"
          ],
          [
           "Scrypt"
          ],
          [
           "X11"
          ],
          [
           "Scrypt"
          ],
          [
           "Scrypt"
          ],
          [
           "Scrypt"
          ],
          [
           "Scrypt"
          ],
          [
           "Quark"
          ],
          [
           "QuBit"
          ],
          [
           "Scrypt"
          ],
          [
           "SHA-256"
          ],
          [
           "X11"
          ],
          [
           "Scrypt"
          ],
          [
           "Scrypt"
          ],
          [
           "Scrypt"
          ],
          [
           "Scrypt"
          ],
          [
           "X13"
          ],
          [
           "Scrypt"
          ],
          [
           "Scrypt"
          ],
          [
           "X11"
          ],
          [
           "Blake2S"
          ],
          [
           "X11"
          ],
          [
           "PoS"
          ],
          [
           "X11"
          ],
          [
           "PoS"
          ],
          [
           "X11"
          ],
          [
           "Scrypt"
          ],
          [
           "Scrypt"
          ],
          [
           "Scrypt"
          ],
          [
           "SHA-256"
          ],
          [
           "X11"
          ],
          [
           "Scrypt"
          ],
          [
           "PoS"
          ],
          [
           "Scrypt"
          ],
          [
           "X15"
          ],
          [
           "SHA-256"
          ],
          [
           "POS 3.0"
          ],
          [
           "536"
          ],
          [
           "NIST5"
          ],
          [
           "NIST5"
          ],
          [
           "Skein"
          ],
          [
           "X13"
          ],
          [
           "Scrypt"
          ],
          [
           "X13"
          ],
          [
           "SkunkHash v2 Raptor"
          ],
          [
           "Skein"
          ],
          [
           "X11"
          ],
          [
           "Scrypt"
          ],
          [
           "VeChainThor Authority"
          ],
          [
           "PoS"
          ],
          [
           "Scrypt"
          ],
          [
           "Scrypt"
          ],
          [
           "SHA-512"
          ],
          [
           "Ouroboros"
          ],
          [
           "X11"
          ],
          [
           "NeoScrypt"
          ],
          [
           "Scrypt"
          ],
          [
           "Lyra2REv2"
          ],
          [
           "Scrypt"
          ],
          [
           "SHA-256"
          ],
          [
           "NIST5"
          ],
          [
           "PHI1612"
          ],
          [
           "Scrypt"
          ],
          [
           "Quark"
          ],
          [
           "POS 2.0"
          ],
          [
           "Scrypt"
          ],
          [
           "SHA-256"
          ],
          [
           "X11"
          ],
          [
           "DPoS"
          ],
          [
           "NIST5"
          ],
          [
           "X13"
          ],
          [
           "Scrypt"
          ],
          [
           "NIST5"
          ],
          [
           "Quark"
          ],
          [
           "Scrypt"
          ],
          [
           "Scrypt"
          ],
          [
           "X11"
          ],
          [
           "Quark"
          ],
          [
           "Scrypt"
          ],
          [
           "Scrypt"
          ],
          [
           "X11"
          ],
          [
           "POS 3.0"
          ],
          [
           "Ethash"
          ],
          [
           "Scrypt"
          ],
          [
           "Scrypt"
          ],
          [
           "X13"
          ],
          [
           "SHA-256 + Hive"
          ],
          [
           "C11"
          ],
          [
           "X11"
          ],
          [
           "XEVAN"
          ],
          [
           "Scrypt"
          ],
          [
           "VBFT"
          ],
          [
           "NIST5"
          ],
          [
           "Scrypt"
          ],
          [
           "Scrypt"
          ],
          [
           "Scrypt"
          ],
          [
           "Green Protocol"
          ],
          [
           "PoS"
          ],
          [
           "Scrypt"
          ],
          [
           "Semux BFT consensus"
          ],
          [
           "Quark"
          ],
          [
           "PoS"
          ],
          [
           "X16R"
          ],
          [
           "Scrypt"
          ],
          [
           "XEVAN"
          ],
          [
           "Scrypt"
          ],
          [
           "Scrypt"
          ],
          [
           "Scrypt"
          ],
          [
           "SHA-256D"
          ],
          [
           "Scrypt"
          ],
          [
           "X15"
          ],
          [
           "Scrypt"
          ],
          [
           "Quark"
          ],
          [
           "SHA-256"
          ],
          [
           "DPoS"
          ],
          [
           "X16R"
          ],
          [
           "Quark"
          ],
          [
           "Quark"
          ],
          [
           "Scrypt"
          ],
          [
           "Lyra2REv2"
          ],
          [
           "Quark"
          ],
          [
           "Scrypt"
          ],
          [
           "X11"
          ],
          [
           "X11"
          ],
          [
           "Scrypt"
          ],
          [
           "PoS"
          ],
          [
           "Keccak"
          ],
          [
           "X11"
          ],
          [
           "Scrypt"
          ],
          [
           "SHA-512"
          ],
          [
           "XEVAN"
          ],
          [
           "XEVAN"
          ],
          [
           "X11"
          ],
          [
           "Quark"
          ],
          [
           "Equihash"
          ],
          [
           "Scrypt"
          ],
          [
           "Quark"
          ],
          [
           "Quark"
          ],
          [
           "Scrypt"
          ],
          [
           "X11"
          ],
          [
           "Scrypt"
          ],
          [
           "XEVAN"
          ],
          [
           "SHA-256D"
          ],
          [
           "X11"
          ],
          [
           "X11"
          ],
          [
           "DPoS"
          ],
          [
           "Scrypt"
          ],
          [
           "X11"
          ],
          [
           "Scrypt"
          ],
          [
           "Scrypt"
          ],
          [
           "SHA-256"
          ],
          [
           "Scrypt"
          ],
          [
           "X11"
          ],
          [
           "Scrypt"
          ],
          [
           "SHA-256"
          ],
          [
           "X11"
          ],
          [
           "Scrypt"
          ],
          [
           "Scrypt"
          ],
          [
           "X11"
          ],
          [
           "Scrypt"
          ],
          [
           "PoS"
          ],
          [
           "X11"
          ],
          [
           "SHA-256"
          ],
          [
           "DPoS"
          ],
          [
           "Scrypt"
          ],
          [
           "Scrypt"
          ],
          [
           "NeoScrypt"
          ],
          [
           "X13"
          ],
          [
           "DPoS"
          ],
          [
           "DPoS"
          ],
          [
           "SHA-256"
          ],
          [
           "PoS"
          ],
          [
           "PoS"
          ],
          [
           "SHA-256"
          ],
          [
           "Scrypt"
          ],
          [
           "Scrypt"
          ]
         ],
         "hovertemplate": "<b>%{hovertext}</b><br><br>Class=%{marker.color}<br>PC 1=%{x}<br>PC 2=%{y}<br>PC 3=%{z}<br>Algorithm=%{customdata[0]}<extra></extra>",
         "hovertext": [
          "42 Coin",
          "404Coin",
          "EliteCoin",
          "Dash",
          "Bitshares",
          "BitcoinDark",
          "PayCoin",
          "KoboCoin",
          "Aurora Coin",
          "BlueCoin",
          "EnergyCoin",
          "BitBar",
          "CryptoBullion",
          "CasinoCoin",
          "Diamond",
          "Exclusive Coin",
          "FlutterCoin",
          "HoboNickels",
          "HyperStake",
          "IOCoin",
          "MaxCoin",
          "MintCoin",
          "MazaCoin",
          "Nautilus Coin",
          "NavCoin",
          "OpalCoin",
          "Orbitcoin",
          "PotCoin",
          "PhoenixCoin",
          "Reddcoin",
          "SuperCoin",
          "SyncCoin",
          "TeslaCoin",
          "TittieCoin",
          "TorCoin",
          "UnitaryStatus Dollar",
          "UltraCoin",
          "VeriCoin",
          "X11 Coin",
          "Crypti",
          "StealthCoin",
          "ZCC Coin",
          "BurstCoin",
          "StorjCoin",
          "Neutron",
          "FairCoin",
          "RubyCoin",
          "Kore",
          "Dnotes",
          "8BIT Coin",
          "Sativa Coin",
          "Ucoin",
          "Vtorrent",
          "IslaCoin",
          "Nexus",
          "Droidz",
          "Squall Coin",
          "Diggits",
          "Paycon",
          "Emercoin",
          "EverGreenCoin",
          "Decred",
          "EDRCoin",
          "Hitcoin",
          "DubaiCoin",
          "PWR Coin",
          "BillaryCoin",
          "GPU Coin",
          "EuropeCoin",
          "ZeitCoin",
          "SwingCoin",
          "SafeExchangeCoin",
          "Nebuchadnezzar",
          "Ratecoin",
          "Revenu",
          "Clockcoin",
          "VIP Tokens",
          "BitSend",
          "Let it Ride",
          "PutinCoin",
          "iBankCoin",
          "Frankywillcoin",
          "MudraCoin",
          "Lutetium Coin",
          "GoldBlocks",
          "CarterCoin",
          "BitTokens",
          "MustangCoin",
          "ZoneCoin",
          "RootCoin",
          "BitCurrency",
          "Swiscoin",
          "BuzzCoin",
          "Opair",
          "PesoBit",
          "Halloween Coin",
          "CoffeeCoin",
          "RoyalCoin",
          "GanjaCoin V2",
          "TeamUP",
          "LanaCoin",
          "ARK",
          "InsaneCoin",
          "EmberCoin",
          "XenixCoin",
          "FreeCoin",
          "PLNCoin",
          "AquariusCoin",
          "Creatio",
          "Eternity",
          "Eurocoin",
          "BitcoinFast",
          "Stakenet",
          "BitConnect Coin",
          "MoneyCoin",
          "Enigma",
          "Russiacoin",
          "PandaCoin",
          "GameUnits",
          "GAKHcoin",
          "Allsafe",
          "LiteCreed",
          "Klingon Empire Darsek",
          "Internet of People",
          "KushCoin",
          "Printerium",
          "Impeach",
          "Zilbercoin",
          "FirstCoin",
          "FindCoin",
          "OpenChat",
          "RenosCoin",
          "VirtacoinPlus",
          "TajCoin",
          "Impact",
          "Atmos",
          "HappyCoin",
          "MacronCoin",
          "Condensate",
          "Independent Money System",
          "ArgusCoin",
          "LomoCoin",
          "ProCurrency",
          "GoldReserve",
          "GrowthCoin",
          "Phreak",
          "Degas Coin",
          "HTML5 Coin",
          "Ultimate Secure Cash",
          "QTUM",
          "Espers",
          "Denarius",
          "Virta Unique Coin",
          "Bitcoin Planet",
          "BritCoin",
          "Linda",
          "DeepOnion",
          "Signatum",
          "Cream",
          "Monoeci",
          "Draftcoin",
          "Vechain",
          "Stakecoin",
          "CoinonatX",
          "Ethereum Dark",
          "Obsidian",
          "Cardano",
          "Regalcoin",
          "TrezarCoin",
          "TerraNovaCoin",
          "Rupee",
          "WomenCoin",
          "Theresa May Coin",
          "NamoCoin",
          "LUXCoin",
          "Xios",
          "Bitcloud 2.0",
          "KekCoin",
          "BlackholeCoin",
          "Infinity Economics",
          "Magnet",
          "Lamden Tau",
          "Electra",
          "Bitcoin Diamond",
          "Cash & Back Coin",
          "Bulwark",
          "Kalkulus",
          "GermanCoin",
          "LiteCoin Ultra",
          "PhantomX",
          "Digiwage",
          "Trollcoin",
          "Litecoin Plus",
          "Monkey Project",
          "TokenPay",
          "1717 Masonic Commemorative Token",
          "My Big Coin",
          "Unified Society USDEX",
          "Tokyo Coin",
          "LitecoinCash",
          "Stipend",
          "Pushi",
          "Ellerium",
          "Velox",
          "Ontology",
          "Bitspace",
          "Briacoin",
          "Ignition",
          "MedicCoin",
          "Bitcoin Green",
          "Deviant Coin",
          "Abjcoin",
          "Semux",
          "Carebit",
          "Zealium",
          "Proton",
          "iDealCash",
          "Bitcoin Incognito",
          "HollyWoodCoin",
          "Swisscoin",
          "Xt3ch",
          "TheVig",
          "EmaratCoin",
          "Dekado",
          "Lynx",
          "Poseidon Quark",
          "BitcoinWSpectrum",
          "Muse",
          "Trivechain",
          "Dystem",
          "Giant",
          "Peony Coin",
          "Absolute Coin",
          "Vitae",
          "TPCash",
          "ARENON",
          "EUNO",
          "MMOCoin",
          "Ketan",
          "XDNA",
          "PAXEX",
          "ThunderStake",
          "Kcash",
          "Bettex coin",
          "BitMoney",
          "Junson Ming Chan Coin",
          "HerbCoin",
          "PirateCash",
          "Oduwa",
          "Galilel",
          "Crypto Sports",
          "Credit",
          "Dash Platinum",
          "Nasdacoin",
          "Beetle Coin",
          "Titan Coin",
          "Award",
          "Insane Coin",
          "ALAX",
          "LiteDoge",
          "TruckCoin",
          "OrangeCoin",
          "BitstarCoin",
          "NeosCoin",
          "HyperCoin",
          "PinkCoin",
          "AudioCoin",
          "IncaKoin",
          "Piggy Coin",
          "Genstake",
          "XiaoMiCoin",
          "CapriCoin",
          " ClubCoin",
          "Radium",
          "Creditbit ",
          "OKCash",
          "Lisk",
          "HiCoin",
          "WhiteCoin",
          "FriendshipCoin",
          "Triangles Coin",
          "EOS",
          "Oxycoin",
          "TigerCash",
          "Particl",
          "Nxt",
          "ZEPHYR",
          "Gapcoin",
          "BitcoinPlus"
         ],
         "legendgroup": "0",
         "marker": {
          "color": [
           0,
           0,
           0,
           0,
           0,
           0,
           0,
           0,
           0,
           0,
           0,
           0,
           0,
           0,
           0,
           0,
           0,
           0,
           0,
           0,
           0,
           0,
           0,
           0,
           0,
           0,
           0,
           0,
           0,
           0,
           0,
           0,
           0,
           0,
           0,
           0,
           0,
           0,
           0,
           0,
           0,
           0,
           0,
           0,
           0,
           0,
           0,
           0,
           0,
           0,
           0,
           0,
           0,
           0,
           0,
           0,
           0,
           0,
           0,
           0,
           0,
           0,
           0,
           0,
           0,
           0,
           0,
           0,
           0,
           0,
           0,
           0,
           0,
           0,
           0,
           0,
           0,
           0,
           0,
           0,
           0,
           0,
           0,
           0,
           0,
           0,
           0,
           0,
           0,
           0,
           0,
           0,
           0,
           0,
           0,
           0,
           0,
           0,
           0,
           0,
           0,
           0,
           0,
           0,
           0,
           0,
           0,
           0,
           0,
           0,
           0,
           0,
           0,
           0,
           0,
           0,
           0,
           0,
           0,
           0,
           0,
           0,
           0,
           0,
           0,
           0,
           0,
           0,
           0,
           0,
           0,
           0,
           0,
           0,
           0,
           0,
           0,
           0,
           0,
           0,
           0,
           0,
           0,
           0,
           0,
           0,
           0,
           0,
           0,
           0,
           0,
           0,
           0,
           0,
           0,
           0,
           0,
           0,
           0,
           0,
           0,
           0,
           0,
           0,
           0,
           0,
           0,
           0,
           0,
           0,
           0,
           0,
           0,
           0,
           0,
           0,
           0,
           0,
           0,
           0,
           0,
           0,
           0,
           0,
           0,
           0,
           0,
           0,
           0,
           0,
           0,
           0,
           0,
           0,
           0,
           0,
           0,
           0,
           0,
           0,
           0,
           0,
           0,
           0,
           0,
           0,
           0,
           0,
           0,
           0,
           0,
           0,
           0,
           0,
           0,
           0,
           0,
           0,
           0,
           0,
           0,
           0,
           0,
           0,
           0,
           0,
           0,
           0,
           0,
           0,
           0,
           0,
           0,
           0,
           0,
           0,
           0,
           0,
           0,
           0,
           0,
           0,
           0,
           0,
           0,
           0,
           0,
           0,
           0,
           0,
           0,
           0,
           0,
           0,
           0,
           0,
           0,
           0,
           0,
           0,
           0,
           0,
           0,
           0,
           0,
           0,
           0,
           0,
           0,
           0,
           0,
           0,
           0,
           0,
           0,
           0,
           0,
           0,
           0,
           0,
           0,
           0,
           0,
           0,
           0,
           0,
           0,
           0,
           0
          ],
          "coloraxis": "coloraxis",
          "symbol": "circle"
         },
         "mode": "markers",
         "name": "0",
         "scene": "scene",
         "showlegend": true,
         "type": "scatter3d",
         "x": [
          -0.341242167638822,
          -0.3245348500402825,
          2.2923529380022076,
          -0.40218939296965295,
          -0.24701754017982136,
          -0.32432605785235746,
          -0.26158496378916213,
          -0.2561420868299954,
          -0.3409008159842348,
          -0.333458696599619,
          -0.3397347403418413,
          -0.34123809229331725,
          -0.34122233085995984,
          0.8167748619681033,
          -0.38617746760220645,
          -0.32737555689103376,
          -0.26321286733042143,
          -0.33929561270689007,
          -0.31921830958134956,
          -0.40208380901770563,
          -0.4786877449384965,
          -0.017729878067034854,
          -0.28753141569400265,
          -0.27825146391763217,
          -0.29890451655555866,
          -0.2995283802754781,
          -0.36568118822719275,
          -0.3355286805871237,
          -0.33963952221244464,
          0.01785180313689303,
          -0.33915780543921553,
          -0.40245640013278056,
          -0.23829296018233487,
          -0.2949698756459436,
          -0.40236779071538464,
          -0.31640612078392294,
          -0.33991590604175687,
          -0.2903157338895209,
          -0.4023321786230679,
          -0.23876208379608863,
          -0.2993086608958906,
          -0.3323202146771633,
          0.4052235779990152,
          -0.3092384773474498,
          -0.3235356112791503,
          -0.38559749834285006,
          -0.2782316936474798,
          -0.2996039506134729,
          -0.272870806526537,
          -0.341224188487462,
          -0.29955601171860863,
          -0.33960380485110625,
          -0.3409578355470677,
          -0.4024378799071713,
          -0.5444115914381509,
          -0.4248560122709939,
          -0.4021272393378102,
          -0.2766288393157717,
          -0.29907632053227656,
          -0.3168616138720332,
          -0.25859048144012986,
          -0.11455433585358993,
          -0.32429689445122767,
          -0.07901086484992229,
          -0.32436077444128514,
          -0.24820808871099911,
          -0.3408333548287081,
          -0.276497366119816,
          -0.39959901403107106,
          0.8781146787967055,
          -0.32416026415619614,
          0.08400915564055991,
          -0.32705796022953393,
          -0.4002750346232395,
          -0.3229002103962538,
          -0.32056181919293464,
          -0.36988934465973367,
          -0.4011695136661358,
          -0.32416941227184215,
          -0.31706402382518883,
          -0.3408715505584477,
          -0.3393063242597213,
          -0.2355534666600579,
          -0.32706044037296406,
          -0.4019103165978553,
          -0.34007359659414427,
          -0.32434166107573065,
          -0.4024270385523816,
          -0.3410612483891253,
          -0.3412184062493041,
          -0.2764872261541508,
          -0.2523371826600275,
          0.02526658623257591,
          -0.3260121902575893,
          -0.34083153707301744,
          -0.3885505321466306,
          -0.32533909169200026,
          -0.23698815105670595,
          -0.43363503264205494,
          -0.3250869993228919,
          -0.29011324087274964,
          3.6250921521837123,
          -0.4020184603031198,
          0.8356225238670143,
          -0.4023818272567227,
          -0.326477206971889,
          -0.3407588456029847,
          -0.34091357725638427,
          -0.32705796022953393,
          -0.40195552401984147,
          -0.3242039702383416,
          -0.3407595911252065,
          -0.3825485156881257,
          -0.34090738068980647,
          -0.3364828150723454,
          -0.40241089662817003,
          -0.34011582335921225,
          0.3667757645248743,
          -0.3411072076045186,
          -0.3411779799430911,
          -0.3457227604520679,
          -0.3500885113549519,
          -0.3373940188872944,
          -0.32431801205049393,
          -0.40232060261752933,
          -0.34095517738439424,
          -0.34108246540860093,
          -0.278137878585799,
          -0.27745977290458357,
          -0.2367553710681102,
          -0.32188372653036856,
          -0.2778783495117407,
          -0.40158426943442355,
          -0.41997079104787705,
          -0.4003192712639982,
          -0.3252997254201389,
          -0.4014818831107745,
          -0.3196843411905358,
          -0.3974115185262077,
          -0.3410256021385737,
          -0.3410247796990434,
          -0.33412686078503917,
          0.27259957612494257,
          -0.40196171763432964,
          -0.26073112669979137,
          -0.3270923317501348,
          -0.34023407520326515,
          0.8789261572953906,
          -0.2602716318700398,
          -0.32294442226808046,
          0.5816258890038591,
          -0.3714291885550328,
          -0.3699272809875642,
          -0.42044999417409007,
          -0.2992402406499055,
          0.12501068413034408,
          -0.2993112166029755,
          -0.2864112752819947,
          -0.4199535630637716,
          -0.40223486857883123,
          -0.2782123302806142,
          4.634712947269157,
          -0.32695820660614583,
          -0.34065979068005053,
          -0.3411608629958014,
          -0.30524092337967396,
          0.7248570101083123,
          -0.4021755146745908,
          -0.36066658175107796,
          -0.3411163441504723,
          -0.31016776605328766,
          0.4300800309594627,
          -0.3226597751000554,
          -0.35615387307586904,
          -0.3933424881777867,
          -0.34106654352325444,
          -0.40683768772209955,
          -0.31156397659502694,
          -0.34093660684143423,
          -0.08759478536849921,
          -0.40096479482482345,
          3.6299615964273206,
          0.1895926573848772,
          -0.2959729502831357,
          -0.3383898542889769,
          -0.30851458467861,
          -0.3456083539041836,
          0.07437922172703806,
          -0.34007265955758365,
          -0.4015476118639782,
          -0.34477073030653477,
          -0.32760431307156873,
          -0.3411830536195471,
          -0.33957565830089076,
          -0.324452090233252,
          -0.2545607928995188,
          -0.3083416570682142,
          -0.3367161452796643,
          -0.22852821197898626,
          -0.20415251302722506,
          -0.38000735245918654,
          -0.4022521378080427,
          -0.3622595174472248,
          -0.27736993110072716,
          -0.3195675851718003,
          -0.37102702657076747,
          -0.3412104824662601,
          -0.34119214203242254,
          -0.27173589355295324,
          -0.33808995357842303,
          -0.32655154898481015,
          -0.3409078641292927,
          3.8072439457424765,
          -0.4055021749612945,
          -0.3267407307703804,
          -0.29618471044722094,
          -0.28762939062787196,
          -0.36208318381701077,
          -0.27790571501921624,
          -0.1437860608525403,
          -0.27815841760880233,
          -0.3556123976078112,
          -0.3403804211733529,
          -0.1952549076453207,
          2.255784630896152,
          -0.341303991911884,
          -0.26039983825484736,
          0.9767802998834593,
          -0.35819693241825257,
          -0.34572218621885215,
          -0.40852658929828733,
          -0.15854890995648455,
          -0.3727733068051237,
          -0.3444382037677204,
          -0.33406679283875035,
          -0.33915189443251004,
          -0.40172403901923487,
          -0.27539626840172354,
          -0.32583795018053324,
          -0.37953739557422317,
          -0.339012839922362,
          -0.20029322184233295,
          -0.2863662936047964,
          -0.2995751194631196,
          0.41545270857768585,
          -0.12897012559128443,
          -0.4078192740737867,
          -0.2831849150799059,
          -0.3409118615798858,
          -0.40827665481024883,
          -0.34583948467990155,
          0.5681168248218719,
          -0.3396301195117724,
          -0.340393317333566,
          -0.35669976789121405,
          -0.3102047838413564,
          -0.3992816783387162,
          -0.40195190827503224,
          3.6422365508868255,
          0.0952242515286282,
          -0.3994850686458724,
          -0.3397770043783316,
          -0.34060440450359714,
          -0.2616176677874021,
          -0.34112419338979166,
          -0.3935568216292434,
          -0.2545824999157297,
          -0.10339916631628253,
          -0.3892931567527104,
          -0.34040057517326416,
          -0.33344591805684703,
          -0.3985111478108792,
          -0.3388354079786615,
          -0.32733433899228004,
          -0.3494929553654334,
          -0.3228370568125525,
          3.625485057914065,
          -0.08491445302593173,
          -0.3360225321446227,
          -0.3653059697680128,
          -0.29971145698079565,
          3.6353790230311964,
          3.6366264601212643,
          -0.24246232061803125,
          -0.3272700358311551,
          -0.3233860148167735,
          2.4233453516777765,
          -0.3392819784427651,
          -0.2785560024142847
         ],
         "y": [
          0.9951351841473008,
          0.9951434801178349,
          1.6309555654040402,
          1.1978146809146848,
          1.6456213509444844,
          0.783180205285443,
          0.6107003285413236,
          1.8462561147590681,
          0.9951312637903007,
          0.9953108792666961,
          0.9951692111000974,
          0.9951349295184103,
          0.9951349386486623,
          0.29056414799686475,
          0.9567565504734545,
          1.6343374817046332,
          0.23491538939496087,
          0.9950959274243896,
          1.0258001188505748,
          1.1978170642449353,
          2.120036274576551,
          0.8285350690220006,
          0.78234878558343,
          0.8226431378808653,
          1.7902702238694121,
          1.7902561414899643,
          0.5566296983736734,
          0.9949729677115845,
          0.9951034170148124,
          1.00324095694759,
          1.0253500276885137,
          1.1978239057165136,
          0.17606737421200208,
          1.6067650322787952,
          1.197818973573512,
          0.994586523947929,
          0.9950957916446966,
          0.2700580528179196,
          1.1978228972911262,
          0.17612611478710663,
          1.7902611011816025,
          0.994643277743171,
          0.45419120768407106,
          1.5225001758989576,
          0.783166156100113,
          0.9567726786853347,
          0.8226548017509793,
          1.7902461160487875,
          0.8224291620783226,
          0.9951355900170237,
          1.7902485847666616,
          1.0253260942066307,
          0.995127736354828,
          1.197824324464007,
          2.5346957483429122,
          1.8756409213246719,
          0.690644328490207,
          0.8226216527043642,
          1.7902316807497551,
          0.7826706513335538,
          1.8464252702192592,
          0.9331087504163263,
          0.783180863586395,
          1.1867178695785812,
          0.7831873945866928,
          1.47907301659951,
          0.9951152936322627,
          0.8225406946024136,
          1.1976221784299257,
          0.780120100196181,
          0.78317146831555,
          0.30026670177214737,
          1.6343307847590434,
          1.19782114851422,
          0.7830732280172082,
          0.7829164448126286,
          1.4762639273651523,
          1.1977565863576463,
          1.5737346814345858,
          0.9942943530840467,
          0.9951128137454819,
          0.9951095516401652,
          1.6176588691512441,
          1.0251676013455124,
          1.197801568054141,
          0.9950991651232017,
          0.7831805463765906,
          1.1978224892833351,
          0.9951247087324065,
          0.9951357205385932,
          0.8226941793464235,
          0.26891811763024664,
          1.8780461683568985,
          1.6343169525469785,
          0.9951444532767908,
          1.1970978509709702,
          1.6343557185779218,
          1.6177634109651469,
          1.8559805517969676,
          1.6341804575709815,
          1.8795892421538667,
          1.9556216108186877,
          1.1978129929489798,
          1.8152904223676638,
          1.1978229182192224,
          1.6343230950036736,
          0.9951193743365521,
          0.9951134827837862,
          1.6343307847590434,
          1.1977936145909807,
          0.7831843477509082,
          0.9951231983916573,
          0.7095400445385418,
          0.99512332886213,
          0.9947915136496662,
          1.1978214670518985,
          0.9950607737287402,
          0.8146718538914041,
          0.9951292177045339,
          0.9951343342378536,
          1.4766753632760612,
          0.5710473971106733,
          0.9948753976940579,
          0.7831810802023864,
          1.1978204866151552,
          0.9951277963571232,
          0.995123582723852,
          0.8226187879073731,
          0.30686739479024533,
          1.6177603287247229,
          0.9948788589790916,
          0.8226389098842103,
          1.19777426285142,
          1.8184824123568855,
          1.1977958844568488,
          1.6343078750170814,
          1.1977765740020994,
          1.6342337742093065,
          1.1975911335934615,
          0.9951253663061649,
          0.9951202628522368,
          0.9946024965994588,
          0.5707695374391989,
          1.1978073407894811,
          0.8216632387467924,
          1.6343230758930123,
          0.9950851431598268,
          1.8097234631053676,
          0.610599921997826,
          1.5737162284748814,
          1.8455233574338743,
          1.4762846327306176,
          1.4762422720252732,
          1.8520254915115024,
          1.7902418466122478,
          0.9709948228157593,
          1.7902479413728702,
          1.4536597768853283,
          1.8520366973743243,
          1.1978223156135457,
          0.8226431713276781,
          4.165213219844024,
          1.6343041952139616,
          0.9951148769555211,
          0.9951341075923111,
          1.6467400001294068,
          1.4910714438865196,
          1.1978115276857968,
          0.556468185933628,
          0.995127116446103,
          0.7008991757625749,
          0.9952136135955553,
          0.7831637406053793,
          1.475804412711709,
          1.780000183282088,
          0.9951245892061613,
          1.6490702730294922,
          1.5621656513944404,
          0.9951318288369432,
          0.6083967455327777,
          1.197757740942948,
          1.9554715404193534,
          1.4681564162538814,
          1.7901908045993054,
          0.9950539759423206,
          1.3037898036518691,
          1.476674479255905,
          0.9698519266305992,
          0.99505758825677,
          1.19780975533211,
          1.4766240567740538,
          0.9948190590921709,
          0.9951337453468468,
          1.0253260362540635,
          1.57373419364115,
          -0.058019796579963916,
          0.38980579487138683,
          0.9950765037108229,
          1.6174014689605822,
          4.258361291471163,
          0.9717693634604713,
          1.1978111846842339,
          1.2844946452755617,
          0.8225882849466947,
          1.5788471657545529,
          1.4762659786590002,
          0.9951338195000238,
          0.9951328468952054,
          0.8224547802936857,
          1.585699148343839,
          1.6342950714814837,
          0.995121931348925,
          2.0191495925255207,
          1.649100419352887,
          1.6342963475126422,
          0.6921430263678156,
          0.992794326797464,
          0.7773386563236641,
          0.8226441342084304,
          0.9925206673325568,
          0.8226259505864797,
          1.8832453218230256,
          0.9950963990211392,
          1.6739080616057798,
          0.25567487861159255,
          1.476334861765581,
          0.6106662346339946,
          1.7476011705043177,
          0.8646199111379186,
          1.4766712164363383,
          1.6491672385851164,
          0.8136534736848103,
          0.8733689396249626,
          1.4766454288502895,
          0.994603852503938,
          1.0253120296002436,
          1.1978057728691685,
          0.8225385472893073,
          1.634226596800512,
          0.9628076344680623,
          1.025283969942726,
          0.9858373975684788,
          1.9106581519019452,
          1.1120138353897508,
          0.6260216240556853,
          1.0300945617403308,
          1.6491493376761293,
          -0.0876333974748045,
          0.9951280808177919,
          1.6491632538437584,
          1.4766738585575738,
          0.963803141884525,
          1.0253257081999476,
          0.9950961079181053,
          1.2843150925119675,
          1.8808731294081977,
          1.1976043827887157,
          1.1978144952176366,
          1.9554019709214445,
          0.9807219627739004,
          1.1978909778168014,
          0.995029597020482,
          0.9951119645216275,
          0.6106936972664677,
          0.9951378471909279,
          1.1976781450714902,
          0.9898116863264875,
          0.7880506794545129,
          1.197427737970482,
          0.9951437818087253,
          0.9950338475946814,
          1.1977687555190255,
          0.9950785835426721,
          1.6343321724071975,
          0.6742127324394863,
          0.7831562723511479,
          1.955606270881886,
          0.8200793932317213,
          0.9950450161126362,
          0.5565990672711717,
          1.7902519257317195,
          1.9559404773039368,
          1.9559686355088095,
          0.6104473469673117,
          1.634333877563375,
          1.9517362295059206,
          0.8182435438415004,
          0.9950061061495002,
          0.8226467878789475
         ],
         "z": [
          -0.477992293811319,
          -0.478301330476115,
          -0.5900787759748788,
          -0.41138908995774737,
          -0.004751772837013644,
          -0.3306071901146212,
          -0.09035298321135445,
          -0.5368355194291401,
          -0.47799853774775414,
          -0.47813920940458093,
          -0.47802074700111685,
          -0.4779923647959461,
          -0.4779926563588514,
          -0.6199837831855536,
          -0.3550269671196035,
          -0.06610540705111231,
          -0.3436180793679948,
          -0.4780276102324785,
          -0.17151687928477877,
          -0.411391082889796,
          -0.3475246563513445,
          -0.24266011671014362,
          -0.33127322546490495,
          -0.23774249332758451,
          -0.5448997481059942,
          -0.5448879724717359,
          -0.22874411843852385,
          -0.4780951487030404,
          -0.4780213801588594,
          -0.48477031139658666,
          -0.17114051469902963,
          -0.41138431142942294,
          0.033285659682335524,
          -0.31123196496953687,
          -0.41138586518604703,
          -0.47844207644366554,
          -0.4780161395651089,
          -0.3365540069145862,
          -0.4113865908303843,
          0.03329332667241646,
          -0.5448921197477685,
          -0.4781488198933587,
          -1.1153388805215774,
          -0.36029066305906376,
          -0.33062156363360246,
          -0.3550379662602429,
          -0.23774305869590187,
          -0.5448864035117741,
          -0.23783830784794097,
          -0.4779926331742518,
          -0.5448873321317547,
          -0.1711318587377831,
          -0.47799742309949544,
          -0.4113846610166915,
          0.049112613055284624,
          -0.6014662379119933,
          -0.13962618000090515,
          -0.23777212522863192,
          -0.5448959113123325,
          -0.3307364665637551,
          -0.5367931503403685,
          -0.48112296065529836,
          -0.3306077405834727,
          -0.41717407260480516,
          -0.33060667143295736,
          -0.5056007643352017,
          -0.4779995113821094,
          -0.23777316887666555,
          -0.4114336841159543,
          -0.2583934846025395,
          -0.33061010570830635,
          -0.6066022278687973,
          -0.06611116421855742,
          -0.41142459453240365,
          -0.3306317190984466,
          -0.3306722663621384,
          -0.503302921257672,
          -0.4114069507053275,
          -0.14063128746684117,
          -0.4784249068121759,
          -0.47799876270802183,
          -0.47802764562306094,
          -0.3046545657261393,
          -0.17136105214124803,
          -0.4113940250120955,
          -0.4780132818910697,
          -0.3306069074773486,
          -0.4113848300146492,
          -0.4779954592691302,
          -0.47799274231591155,
          -0.2377759860973849,
          -0.25025897476212405,
          -0.5946693824620894,
          -0.06613026202134524,
          -0.478000044599696,
          -0.411628971201756,
          -0.0661433708577978,
          -0.3046298316317439,
          -0.6376585322197705,
          -0.06614502883382807,
          -0.5888648967196386,
          0.8125694011339023,
          -0.41139222133854364,
          -0.5663042246811635,
          -0.41138567325638076,
          -0.06612176976653449,
          -0.47800095886883404,
          -0.4779979971572274,
          -0.06611116421855742,
          -0.41139305291969436,
          -0.3306095183162246,
          -0.4780010106050443,
          -0.29962553421225074,
          -0.4779982804217552,
          -0.47807439915184374,
          -0.4113851109413442,
          -0.4780118433952398,
          -0.2495315519507439,
          -0.47799468680359897,
          -0.47799346598844844,
          -0.1736489556593493,
          -0.2661875240770621,
          -0.47805898952630677,
          -0.3306073538605297,
          -0.4113867635506791,
          -0.47799747327319636,
          -0.47799504770404816,
          -0.2377441761558571,
          -0.1988259965018952,
          -0.30463408259255126,
          -0.4783458120623708,
          -0.23774931924111078,
          -0.41139958532352927,
          -0.5621901836128367,
          -0.4114233437954587,
          -0.06614327895140135,
          -0.4114015178992856,
          -0.06624582980004265,
          -0.4114735958846362,
          -0.47799612958418175,
          -0.4779960573493473,
          -0.4781147188499407,
          -0.0995451366583829,
          -0.4113931735878587,
          -0.2380496302221493,
          -0.06611039665738302,
          -0.47801007462317596,
          -0.5571953797860567,
          -0.09037554452324202,
          -0.14065361962288353,
          -0.4798175746242317,
          -0.5032748064931019,
          -0.5033018488348919,
          -0.7091491317959862,
          -0.544893054840531,
          -0.4861990340313033,
          -0.5448918470213998,
          -0.2169913757739116,
          -0.7091585020975479,
          -0.4113883799883783,
          -0.23774321742590346,
          -6.980235643087603,
          -0.0661125529462881,
          -0.47800271319703025,
          -0.47799377857318787,
          -0.0036944718386838025,
          -0.29190044418108063,
          -0.41138929252148904,
          -0.22883406408501944,
          -0.4779944818797328,
          -0.13944988446395928,
          -0.49225428731370935,
          -0.3306377152119471,
          -0.5035489974360472,
          -0.5508403363781671,
          -0.4779953593217203,
          -0.41393177228132505,
          -0.1791334089855351,
          -0.4779978857070282,
          -0.09353034530684012,
          -0.41141075544756195,
          0.8124819432870729,
          -0.5135080363289615,
          -0.5449525878557185,
          -0.47804363763639013,
          -0.26302355135193073,
          -0.17365105572714534,
          -0.485243348415722,
          -0.47801258685387915,
          -0.41140087118402924,
          -0.17366567827642287,
          -0.4782390219709158,
          -0.4779933620935649,
          -0.17113237813450258,
          -0.14062605279597415,
          0.08729979625606066,
          -0.07083160202091056,
          -0.4780749681159037,
          -0.30478004249345997,
          4.2151240486156425,
          -0.36229975405198656,
          -0.411387869991946,
          -0.3814011474953677,
          -0.23775785178620928,
          -0.3514015067522921,
          -0.5032819222843226,
          -0.47799285624373666,
          -0.47799317866802854,
          -0.23785972970605682,
          0.019176452855938424,
          -0.06611991514451951,
          -0.4779982475392062,
          0.8571431265593189,
          -0.4139569805268375,
          -0.06611643930555956,
          -0.0699633907713333,
          -0.4789434104293489,
          -0.10964059466228226,
          -0.23774890280333838,
          -0.481598180108648,
          -0.23774391914107695,
          -0.5877165523584342,
          -0.47800756174796233,
          -0.2965492948917344,
          -0.43252741460233723,
          -0.17372481838211815,
          -0.09037431034425177,
          0.3471380674977993,
          -0.3102310222189643,
          -0.17364889522578447,
          -0.41390220826444934,
          -0.2398015978246611,
          -0.3797064242849019,
          -0.17367219239962192,
          -0.478115852652314,
          -0.17113997294084465,
          -0.4113975410630636,
          -0.2377934898151973,
          -0.06613193535260345,
          -0.31824655642759236,
          -0.17114206309771146,
          -0.4804389346084125,
          0.24661612685984377,
          -0.1411458763742054,
          -0.08150975724454906,
          -0.17510787674365974,
          -0.4139149788091868,
          0.1227359907644014,
          -0.4779982789946126,
          -0.4139067609244418,
          -0.17364677181324192,
          -0.4942682165235616,
          -0.17113136560347125,
          -0.4780073183286688,
          -0.38150086296577235,
          -0.5885154303028152,
          -0.4114392462977693,
          -0.41139347753010735,
          0.812256188824956,
          -0.4858149862708966,
          -0.4114403963068452,
          -0.47801757350654966,
          -0.47800368730811243,
          -0.09035226494331762,
          -0.47799452061482606,
          -0.4115463545647531,
          -0.47950329701927397,
          -0.3347752627079458,
          -0.41162089328366763,
          -0.4780080009672172,
          -0.47813469911003464,
          -0.4114563086082834,
          -0.4780358215997081,
          -0.06610607814398745,
          0.07734290423038466,
          -0.3306343095672583,
          0.8125623996945612,
          -0.24127309331432967,
          -0.47808725253952306,
          -0.2287505308725789,
          -0.544884515412863,
          0.8123737481991459,
          0.8123502024110772,
          -0.0907021991819547,
          -0.066107296233397,
          0.23596419516498007,
          0.37440950374093257,
          -0.4780263233482519,
          -0.2377369253818242
         ]
        },
        {
         "customdata": [
          [
           "SHA-256"
          ],
          [
           "Ethash"
          ],
          [
           "Scrypt"
          ],
          [
           "CryptoNight-V7"
          ],
          [
           "Ethash"
          ],
          [
           "Equihash"
          ],
          [
           "Multiple"
          ],
          [
           "Scrypt"
          ],
          [
           "X11"
          ],
          [
           "Scrypt"
          ],
          [
           "Multiple"
          ],
          [
           "Scrypt"
          ],
          [
           "SHA-256"
          ],
          [
           "Scrypt"
          ],
          [
           "Scrypt"
          ],
          [
           "Quark"
          ],
          [
           "Groestl"
          ],
          [
           "Scrypt"
          ],
          [
           "Scrypt"
          ],
          [
           "Scrypt"
          ],
          [
           "X11"
          ],
          [
           "Multiple"
          ],
          [
           "SHA-256"
          ],
          [
           "Scrypt"
          ],
          [
           "Scrypt"
          ],
          [
           "Scrypt"
          ],
          [
           "Scrypt"
          ],
          [
           "Scrypt"
          ],
          [
           "NeoScrypt"
          ],
          [
           "Scrypt"
          ],
          [
           "Scrypt"
          ],
          [
           "Scrypt"
          ],
          [
           "Scrypt"
          ],
          [
           "SHA-256"
          ],
          [
           "Scrypt"
          ],
          [
           "Scrypt"
          ],
          [
           "Scrypt"
          ],
          [
           "Scrypt"
          ],
          [
           "HybridScryptHash256"
          ],
          [
           "Scrypt"
          ],
          [
           "Scrypt"
          ],
          [
           "SHA-256"
          ],
          [
           "Scrypt"
          ],
          [
           "Scrypt"
          ],
          [
           "Scrypt"
          ],
          [
           "Scrypt"
          ],
          [
           "SHA-256"
          ],
          [
           "SHA-256"
          ],
          [
           "SHA-256"
          ],
          [
           "SHA-256"
          ],
          [
           "SHA-256"
          ],
          [
           "X11"
          ],
          [
           "Scrypt"
          ],
          [
           "Lyra2REv2"
          ],
          [
           "Scrypt"
          ],
          [
           "SHA-256"
          ],
          [
           "CryptoNight"
          ],
          [
           "CryptoNight"
          ],
          [
           "Scrypt"
          ],
          [
           "Scrypt"
          ],
          [
           "Scrypt"
          ],
          [
           "Scrypt"
          ],
          [
           "Scrypt"
          ],
          [
           "Scrypt"
          ],
          [
           "Stanford Folding"
          ],
          [
           "Multiple"
          ],
          [
           "QuBit"
          ],
          [
           "Scrypt"
          ],
          [
           "Scrypt"
          ],
          [
           "M7 POW"
          ],
          [
           "Scrypt"
          ],
          [
           "SHA-256"
          ],
          [
           "Scrypt"
          ],
          [
           "X11"
          ],
          [
           "Lyra2RE"
          ],
          [
           "SHA-256"
          ],
          [
           "X11"
          ],
          [
           "Scrypt"
          ],
          [
           "Scrypt"
          ],
          [
           "Ethash"
          ],
          [
           "Blake2b"
          ],
          [
           "X11"
          ],
          [
           "SHA-256"
          ],
          [
           "Scrypt"
          ],
          [
           "1GB AES Pattern Search"
          ],
          [
           "Scrypt"
          ],
          [
           "SHA-256"
          ],
          [
           "X11"
          ],
          [
           "Dagger"
          ],
          [
           "Scrypt"
          ],
          [
           "X11GOST"
          ],
          [
           "Scrypt"
          ],
          [
           "X11"
          ],
          [
           "Scrypt"
          ],
          [
           "X11"
          ],
          [
           "Equihash"
          ],
          [
           "CryptoNight"
          ],
          [
           "SHA-256"
          ],
          [
           "Multiple"
          ],
          [
           "Scrypt"
          ],
          [
           "SHA-256"
          ],
          [
           "Scrypt"
          ],
          [
           "Lyra2Z"
          ],
          [
           "Ethash"
          ],
          [
           "Equihash"
          ],
          [
           "Scrypt"
          ],
          [
           "X11"
          ],
          [
           "X11"
          ],
          [
           "CryptoNight"
          ],
          [
           "Scrypt"
          ],
          [
           "CryptoNight"
          ],
          [
           "Lyra2RE"
          ],
          [
           "X11"
          ],
          [
           "CryptoNight-V7"
          ],
          [
           "Scrypt"
          ],
          [
           "X11"
          ],
          [
           "Equihash"
          ],
          [
           "Scrypt"
          ],
          [
           "Lyra2RE"
          ],
          [
           "Dagger-Hashimoto"
          ],
          [
           "Scrypt"
          ],
          [
           "NIST5"
          ],
          [
           "Scrypt"
          ],
          [
           "SHA-256"
          ],
          [
           "Scrypt"
          ],
          [
           "CryptoNight-V7"
          ],
          [
           "Argon2d"
          ],
          [
           "Blake2b"
          ],
          [
           "Cloverhash"
          ],
          [
           "CryptoNight"
          ],
          [
           "X11"
          ],
          [
           "Scrypt"
          ],
          [
           "Scrypt"
          ],
          [
           "X11"
          ],
          [
           "X11"
          ],
          [
           "CryptoNight"
          ],
          [
           "Time Travel"
          ],
          [
           "Scrypt"
          ],
          [
           "Keccak"
          ],
          [
           "X11"
          ],
          [
           "SHA-256"
          ],
          [
           "Scrypt"
          ],
          [
           "Scrypt"
          ],
          [
           "Scrypt"
          ],
          [
           "Scrypt"
          ],
          [
           "Scrypt"
          ],
          [
           "Scrypt"
          ],
          [
           "CryptoNight"
          ],
          [
           "Equihash"
          ],
          [
           "X11"
          ],
          [
           "NeoScrypt"
          ],
          [
           "Equihash"
          ],
          [
           "Dagger"
          ],
          [
           "Scrypt"
          ],
          [
           "X11"
          ],
          [
           "NeoScrypt"
          ],
          [
           "Ethash"
          ],
          [
           "NeoScrypt"
          ],
          [
           "Multiple"
          ],
          [
           "CryptoNight"
          ],
          [
           "CryptoNight"
          ],
          [
           "Ethash"
          ],
          [
           "X11"
          ],
          [
           "CryptoNight-V7"
          ],
          [
           "Scrypt"
          ],
          [
           "BLAKE256"
          ],
          [
           "X11"
          ],
          [
           "NeoScrypt"
          ],
          [
           "NeoScrypt"
          ],
          [
           "Scrypt"
          ],
          [
           "X11"
          ],
          [
           "SHA-256"
          ],
          [
           "C11"
          ],
          [
           "CryptoNight"
          ],
          [
           "SkunkHash"
          ],
          [
           "CryptoNight"
          ],
          [
           "Scrypt"
          ],
          [
           "Dagger"
          ],
          [
           "Lyra2REv2"
          ],
          [
           "Scrypt"
          ],
          [
           "Scrypt"
          ],
          [
           "X11"
          ],
          [
           "Ethash"
          ],
          [
           "CryptoNight"
          ],
          [
           "Scrypt"
          ],
          [
           "IMesh"
          ],
          [
           "Equihash"
          ],
          [
           "Lyra2Z"
          ],
          [
           "X11"
          ],
          [
           "CryptoNight"
          ],
          [
           "NIST5"
          ],
          [
           "Lyra2RE"
          ],
          [
           "Tribus"
          ],
          [
           "Lyra2Z"
          ],
          [
           "CryptoNight"
          ],
          [
           "CryptoNight Heavy"
          ],
          [
           "CryptoNight"
          ],
          [
           "Jump Consistent Hash"
          ],
          [
           "CryptoNight"
          ],
          [
           "X16R"
          ],
          [
           "HMQ1725"
          ],
          [
           "X11"
          ],
          [
           "Scrypt"
          ],
          [
           "CryptoNight-V7"
          ],
          [
           "Cryptonight-GPU"
          ],
          [
           "XEVAN"
          ],
          [
           "CryptoNight Heavy"
          ],
          [
           "SHA-256"
          ],
          [
           "X11"
          ],
          [
           "X16R"
          ],
          [
           "Equihash"
          ],
          [
           "Lyra2Z"
          ],
          [
           "SHA-256"
          ],
          [
           "CryptoNight"
          ],
          [
           "Blake"
          ],
          [
           "Blake"
          ],
          [
           "Exosis"
          ],
          [
           "Scrypt"
          ],
          [
           "Equihash"
          ],
          [
           "Equihash"
          ],
          [
           "QuBit"
          ],
          [
           "SHA-256"
          ],
          [
           "X13"
          ],
          [
           "SHA-256"
          ],
          [
           "Scrypt"
          ],
          [
           "NeoScrypt"
          ],
          [
           "Blake"
          ],
          [
           "Scrypt"
          ],
          [
           "SHA-256"
          ],
          [
           "Scrypt"
          ],
          [
           "Groestl"
          ],
          [
           "Scrypt"
          ],
          [
           "Scrypt"
          ],
          [
           "Multiple"
          ],
          [
           "Equihash+Scrypt"
          ],
          [
           "Ethash"
          ],
          [
           "CryptoNight"
          ],
          [
           "Equihash"
          ]
         ],
         "hovertemplate": "<b>%{hovertext}</b><br><br>Class=%{marker.color}<br>PC 1=%{x}<br>PC 2=%{y}<br>PC 3=%{z}<br>Algorithm=%{customdata[0]}<extra></extra>",
         "hovertext": [
          "Bitcoin",
          "Ethereum",
          "Litecoin",
          "Monero",
          "Ethereum Classic",
          "ZCash",
          "DigiByte",
          "ProsperCoin",
          "Spreadcoin",
          "Argentum",
          "MyriadCoin",
          "MoonCoin",
          "ZetaCoin",
          "SexCoin",
          "Quatloo",
          "QuarkCoin",
          "Riecoin",
          "Digitalcoin ",
          "Catcoin",
          "CannaCoin",
          "CryptCoin",
          "Verge",
          "DevCoin",
          "EarthCoin",
          "E-Gulden",
          "Einsteinium",
          "Emerald",
          "Franko",
          "FeatherCoin",
          "GrandCoin",
          "GlobalCoin",
          "GoldCoin",
          "Infinite Coin",
          "IXcoin",
          "KrugerCoin",
          "LuckyCoin",
          "Litebar ",
          "MegaCoin",
          "MediterraneanCoin",
          "MinCoin",
          "NobleCoin",
          "Namecoin",
          "NyanCoin",
          "RonPaulCoin",
          "StableCoin",
          "SmartCoin",
          "SysCoin",
          "TigerCoin",
          "TerraCoin",
          "UnbreakableCoin",
          "Unobtanium",
          "UroCoin",
          "ViaCoin",
          "Vertcoin",
          "WorldCoin",
          "JouleCoin",
          "ByteCoin",
          "DigitalNote ",
          "MonaCoin",
          "Gulden",
          "PesetaCoin",
          "Wild Beast Coin",
          "Flo",
          "ArtByte",
          "Folding Coin",
          "Unitus",
          "CypherPunkCoin",
          "OmniCron",
          "GreenCoin",
          "Cryptonite",
          "MasterCoin",
          "SoonCoin",
          "1Credit",
          "MarsCoin ",
          "Crypto",
          "Anarchists Prime",
          "BowsCoin",
          "Song Coin",
          "BitZeny",
          "Expanse",
          "Siacoin",
          "MindCoin",
          "I0coin",
          "Revolution VR",
          "HOdlcoin",
          "Gamecredits",
          "CarpeDiemCoin",
          "Adzcoin",
          "SoilCoin",
          "YoCoin",
          "SibCoin",
          "Francs",
          "BolivarCoin",
          "Omni",
          "PizzaCoin",
          "Komodo",
          "Karbo",
          "ZayedCoin",
          "Circuits of Value",
          "DopeCoin",
          "DollarCoin",
          "Shilling",
          "ZCoin",
          "Elementrem",
          "ZClassic",
          "KiloCoin",
          "ArtexCoin",
          "Kurrent",
          "Cannabis Industry Coin",
          "OsmiumCoin",
          "Bikercoins",
          "HexxCoin",
          "PacCoin",
          "Citadel",
          "BeaverCoin",
          "VaultCoin",
          "Zero",
          "Canada eCoin",
          "Zoin",
          "DubaiCoin",
          "EB3coin",
          "Coinonat",
          "BenjiRolls",
          "ILCoin",
          "EquiTrader",
          "Quantum Resistant Ledger",
          "Dynamic",
          "Nano",
          "ChanCoin",
          "Dinastycoin",
          "DigitalPrice",
          "Unify",
          "SocialCoin",
          "ArcticCoin",
          "DAS",
          "LeviarCoin",
          "Bitcore",
          "gCn Coin",
          "SmartCash",
          "Onix",
          "Bitcoin Cash",
          "Sojourn Coin",
          "NewYorkCoin",
          "FrazCoin",
          "Kronecoin",
          "AdCoin",
          "Linx",
          "Sumokoin",
          "BitcoinZ",
          "Elements",
          "VIVO Coin",
          "Bitcoin Gold",
          "Pirl",
          "eBoost",
          "Pura",
          "Innova",
          "Ellaism",
          "GoByte",
          "SHIELD",
          "UltraNote",
          "BitCoal",
          "DaxxCoin",
          "AC3",
          "Lethean",
          "PopularCoin",
          "Photon",
          "Sucre",
          "SparksPay",
          "GunCoin",
          "IrishCoin",
          "Pioneer Coin",
          "UnitedBitcoin",
          "Interzone",
          "TurtleCoin",
          "MUNcoin",
          "Niobio Cash",
          "ShareChain",
          "Travelflex",
          "KREDS",
          "BitFlip",
          "LottoCoin",
          "Crypto Improvement Fund",
          "Callisto Network",
          "BitTube",
          "Poseidon",
          "Aidos Kuneen",
          "Bitrolium",
          "Alpenschillling",
          "FuturoCoin",
          "Monero Classic",
          "Jumpcoin",
          "Infinex",
          "KEYCO",
          "GINcoin",
          "PlatinCoin",
          "Loki",
          "Newton Coin",
          "MassGrid",
          "PluraCoin",
          "Motion",
          "PlusOneCoin",
          "Axe",
          "HexCoin",
          "Webchain",
          "Ryo",
          "Urals Coin",
          "Qwertycoin",
          "Project Pai",
          "Azart",
          "Xchange",
          "CrypticCoin",
          "Actinium",
          "Bitcoin SV",
          "FREDEnergy",
          "Universal Molecule",
          "Lithium",
          "Exosis",
          "Block-Logic",
          "Beam",
          "Bithereum",
          "SLICE",
          "BLAST",
          "Bitcoin Rhodium",
          "GlobalToken",
          "SolarCoin",
          "UFO Coin",
          "BlakeCoin",
          "Crypto Escudo",
          "Crown Coin",
          "SmileyCoin",
          "Groestlcoin",
          "Bata",
          "Pakcoin",
          "JoinCoin",
          "Vollar",
          "Reality Clash",
          "Beldex",
          "Horizen"
         ],
         "legendgroup": "3",
         "marker": {
          "color": [
           3,
           3,
           3,
           3,
           3,
           3,
           3,
           3,
           3,
           3,
           3,
           3,
           3,
           3,
           3,
           3,
           3,
           3,
           3,
           3,
           3,
           3,
           3,
           3,
           3,
           3,
           3,
           3,
           3,
           3,
           3,
           3,
           3,
           3,
           3,
           3,
           3,
           3,
           3,
           3,
           3,
           3,
           3,
           3,
           3,
           3,
           3,
           3,
           3,
           3,
           3,
           3,
           3,
           3,
           3,
           3,
           3,
           3,
           3,
           3,
           3,
           3,
           3,
           3,
           3,
           3,
           3,
           3,
           3,
           3,
           3,
           3,
           3,
           3,
           3,
           3,
           3,
           3,
           3,
           3,
           3,
           3,
           3,
           3,
           3,
           3,
           3,
           3,
           3,
           3,
           3,
           3,
           3,
           3,
           3,
           3,
           3,
           3,
           3,
           3,
           3,
           3,
           3,
           3,
           3,
           3,
           3,
           3,
           3,
           3,
           3,
           3,
           3,
           3,
           3,
           3,
           3,
           3,
           3,
           3,
           3,
           3,
           3,
           3,
           3,
           3,
           3,
           3,
           3,
           3,
           3,
           3,
           3,
           3,
           3,
           3,
           3,
           3,
           3,
           3,
           3,
           3,
           3,
           3,
           3,
           3,
           3,
           3,
           3,
           3,
           3,
           3,
           3,
           3,
           3,
           3,
           3,
           3,
           3,
           3,
           3,
           3,
           3,
           3,
           3,
           3,
           3,
           3,
           3,
           3,
           3,
           3,
           3,
           3,
           3,
           3,
           3,
           3,
           3,
           3,
           3,
           3,
           3,
           3,
           3,
           3,
           3,
           3,
           3,
           3,
           3,
           3,
           3,
           3,
           3,
           3,
           3,
           3,
           3,
           3,
           3,
           3,
           3,
           3,
           3,
           3,
           3,
           3,
           3,
           3,
           3,
           3,
           3,
           3,
           3,
           3,
           3,
           3,
           3,
           3,
           3,
           3,
           3,
           3,
           3,
           3,
           3,
           3,
           3,
           3,
           3,
           3,
           3,
           3,
           3,
           3,
           3,
           3
          ],
          "coloraxis": "coloraxis",
          "symbol": "diamond"
         },
         "mode": "markers",
         "name": "3",
         "scene": "scene",
         "showlegend": true,
         "type": "scatter3d",
         "x": [
          -0.14722396673561852,
          -0.13904515522345767,
          -0.1629674197692447,
          -0.1420672259529561,
          -0.13748270635795487,
          -0.1696288111679692,
          0.16325147360022482,
          -0.16411682478912656,
          -0.22527226872392153,
          -0.16373227549274083,
          -0.09086087188676932,
          2.5655895122803996,
          -0.14430086863968508,
          -0.16098004830427326,
          -0.16353572931845706,
          -0.22679497364779586,
          -0.20813958523148293,
          -0.1635847024231623,
          -0.16409904319354823,
          -0.16418574145233567,
          -0.22536185369054756,
          0.1870583689204654,
          0.23166583036910082,
          0.08523083902454799,
          -0.16393134444335186,
          -0.1595244771755892,
          -0.1638704601153067,
          -0.16424290008230494,
          -0.1838973194714404,
          -0.14340751555000145,
          -0.1630346901881365,
          -0.16331287968634747,
          1.5894860405584939,
          -0.14718523244766654,
          -0.16059472863650445,
          -0.16395785840820898,
          -0.16431365035996232,
          -0.16357085574299307,
          -0.1339301055795306,
          -0.16419458611676288,
          -0.028716470878280876,
          -0.14726305136463283,
          -0.1578410405424798,
          -0.1641739572015332,
          -0.16226286136620272,
          -0.16365928067192642,
          -0.1343794445165713,
          -0.1467253439673921,
          -0.14701332689625377,
          -0.14699621389491987,
          -0.14758861587073133,
          -0.22553623971015183,
          -0.16388968267400203,
          -0.19518044874067259,
          -0.1609847537216492,
          -0.14679282219175488,
          3.8720674120302028,
          0.4616647833050746,
          -0.1627541236075204,
          -0.14730950809473,
          -0.16146941727651376,
          -0.1643158638464925,
          -0.1613341030751091,
          -0.1475195981674826,
          -0.12267176782481955,
          -0.12496151163900605,
          -0.17403586943649318,
          -0.16418859967413277,
          -0.03677168872731428,
          -0.10835038169470082,
          -0.16432478302654097,
          -0.14729090348449828,
          0.4897091448283599,
          -0.22492173491102527,
          -0.14774926073944997,
          -0.14703002223632966,
          -0.2252074152666771,
          -0.16244323972330593,
          -0.1616332578101854,
          -0.14011545709682147,
          0.3691973158383469,
          -0.22524291393034776,
          -0.14718635781321995,
          -0.16027150235190996,
          -0.14255257811646066,
          -0.1628841633119281,
          0.2724508730424809,
          -0.22440128895073236,
          -0.15264320395784503,
          -0.1631321387544774,
          -0.16740781112216838,
          -0.16411410397061227,
          -0.22520604639560765,
          -0.16432484168261993,
          -0.22535642032490663,
          -0.35569502698585087,
          0.30613928411970365,
          -0.14744715676839493,
          -0.10497882280302254,
          -0.16148367110080236,
          -0.14740567408198005,
          -0.16398729770491957,
          -0.1435906704053421,
          -0.13985690874012677,
          -0.16965048630812288,
          -0.09084044011631712,
          -0.21190304752369127,
          -0.22317846114955806,
          0.3061336476809015,
          -0.16430652764351267,
          0.3062647202550333,
          -0.148291232621997,
          0.4919449078166934,
          -0.14082836232415388,
          -0.16427472869868723,
          -0.21806964497971135,
          -0.16966289973695636,
          -0.16240284909535366,
          -0.14800884122014912,
          -0.13991265691859184,
          -0.13511491387146654,
          -0.19417894942952738,
          -0.16383588694265863,
          -0.11367846632216984,
          -0.16365742488151383,
          -0.14068582294698717,
          -0.16256486146735302,
          -0.03218096446353397,
          -0.13500911670048527,
          0.34235537083746875,
          -0.22440968365745884,
          -0.16397761465589938,
          -0.1637402850137915,
          -0.2248054777174858,
          -0.22538453639385103,
          0.30652974076101697,
          -0.17861346935050093,
          3.254803933974385,
          -0.14229458168373635,
          -0.21623069122013286,
          -0.1472231287068954,
          -0.0896844097509268,
          1.5873889446653096,
          -0.16407572417199756,
          -0.16352580828533356,
          -0.1632259585911754,
          -0.16321285439603964,
          0.3067138905293106,
          0.04326196785184886,
          -0.179646520081422,
          -0.18859906875603,
          -0.16950853196093485,
          -0.1513987968215673,
          -0.16240105343757036,
          -0.22091654988231546,
          -0.1884440412782516,
          -0.13821737985260688,
          -0.18854453325597567,
          -0.11516619810506666,
          1.146440953715062,
          0.306116359738731,
          -0.06289183850715019,
          -0.22065716368019755,
          -0.1297674418273984,
          -0.08023233260943606,
          1.0704774501363241,
          -0.22535846392679085,
          -0.18859662882309272,
          -0.181615152455449,
          -0.16332465379483033,
          -0.2252836666581317,
          -0.14720247184724886,
          -0.20306779500634453,
          8.06607900926869,
          -0.17135894033459703,
          0.31000163225710137,
          0.02924764405960523,
          -0.1509007520389686,
          -0.18069833617679018,
          -0.16389995233289847,
          0.14402600082892847,
          -0.21940819736860606,
          -0.0911214483621154,
          0.3140620982631235,
          -0.1641376252293103,
          -0.15837595872439164,
          -0.1684968464559275,
          -0.14136785696470824,
          -0.22445056572818617,
          0.3062993769673208,
          -0.19423860670643486,
          -0.14813603359755295,
          -0.16876961035619067,
          -0.1436752881181374,
          0.3102389194033,
          0.5955526290633455,
          2.1198893183490175,
          -0.14505492653246646,
          0.3199421941515348,
          -0.18207418260140337,
          -0.12396825639309453,
          -0.22534057459348167,
          -0.16416227172202197,
          -0.12964601099820905,
          -0.17367665215908162,
          -0.1841122530610223,
          3.1251344523041804,
          -0.10694012615188139,
          -0.22531185795748865,
          -0.1815002640608181,
          -0.0639617726793702,
          -0.1430713245760392,
          -0.14722316637336638,
          0.3862846107215989,
          -0.13056358184947947,
          -0.1309567652089589,
          -0.126707515100826,
          -0.16305146155562245,
          -0.16756310200547905,
          -0.16934088824459737,
          -0.17324458980342086,
          -0.14649730572974765,
          -0.12277937670927894,
          -0.1453620636698691,
          0.5337547118181393,
          -0.11355575770163316,
          -0.08127984732603245,
          -0.14767058926958052,
          -0.14701269565414943,
          0.5535043207553818,
          -0.20769937715927803,
          -0.16423933917475045,
          -0.16218932090775356,
          -0.12569836978895566,
          -0.13295361793168814,
          -0.13989015870200514,
          0.32793381244357933,
          -0.16962987095853674
         ],
         "y": [
          -1.3356901212157968,
          -2.0043771679772497,
          -1.1237676026504915,
          -2.2196938691562726,
          -2.004487492123236,
          -2.0339778856828077,
          -1.778324611380663,
          -1.1237498700736652,
          -0.921059127514895,
          -1.1237710016146676,
          -1.7708879444253771,
          -1.3283453862735386,
          -1.3357272985995445,
          -1.123837829871028,
          -1.123791523819023,
          -0.46976695365807725,
          -1.1621485464264794,
          -1.1237566927535938,
          -1.1237494686924527,
          -1.1237459763785054,
          -0.9210597631019176,
          -1.7747055021730445,
          -1.341682247311002,
          -1.1274663784953507,
          -1.123745683254451,
          -1.123839494614708,
          -1.1237519352252148,
          -1.123745946438018,
          -1.562365975542675,
          -1.1242527517985572,
          -1.1237594149310701,
          -1.1237672514041548,
          -1.1469645111808375,
          -1.3356892468727084,
          -1.123839823354916,
          -1.1237455884497871,
          -1.1237406896359934,
          -1.123752105304969,
          -2.217923837074239,
          -1.1237439990648075,
          -1.1310784439827668,
          -1.3356910034671086,
          -1.1238272906594893,
          -1.123751159714791,
          -1.1238667866122545,
          -1.123760479670002,
          -1.3360012751587826,
          -1.3356968999862568,
          -1.3356999257815367,
          -1.3357258849038078,
          -1.3356839664032198,
          -0.9210512200852152,
          -1.1237461294303632,
          -1.2455128411294951,
          -1.1238486273309576,
          -1.335697028263781,
          -2.3042567225636854,
          -2.260280885618543,
          -1.1237774304514987,
          -1.1245206663064313,
          -1.1237909067099943,
          -1.1237416256384667,
          -1.1237834248676966,
          -1.124053964433063,
          -2.2036901397535504,
          -1.7702710923021547,
          -1.5477926552778087,
          -1.1237392682797143,
          -1.1277937716707351,
          -2.1867700867688415,
          -1.1237404344608353,
          -1.3356916321687111,
          -1.172760225702612,
          -0.9210602278731493,
          -2.1455409650683017,
          -1.3357084558544017,
          -0.921058356888116,
          -1.1238432926451285,
          -1.1238525746683727,
          -2.004413048946332,
          -2.196908942049516,
          -0.9210556916924698,
          -1.335689272275411,
          -1.1237941039606103,
          -2.303908958176257,
          -1.1237657233153322,
          -1.3411958129504968,
          -0.9210838382421367,
          -2.168177144356374,
          -1.1238298016083323,
          -2.1482508639031606,
          -1.123749115356748,
          -0.9210610991900012,
          -1.12374043368417,
          -0.9210644935574948,
          -1.4520347685775437,
          -2.256865468704927,
          -1.335687349915387,
          -1.7706519865119308,
          -1.1238145330556617,
          -1.335687039096584,
          -1.123753185981489,
          -2.2519509255651293,
          -2.0044136598721267,
          -2.0339783749524,
          -1.129014257249576,
          -0.9210901302925733,
          -0.9211560707821731,
          -2.2568732222386934,
          -1.1237414747159074,
          -2.2568730367589107,
          -2.1455145203154724,
          -0.9741856589173453,
          -2.2197941650343562,
          -1.1237412045969448,
          -0.9215759780951581,
          -2.0339758819576126,
          -1.1237659514886225,
          -2.145515772241946,
          -2.120523777055368,
          -1.125853856309947,
          -0.6426095630718872,
          -1.1237535955047022,
          -1.3366515952574394,
          -1.123774858425776,
          -2.21973548349098,
          -2.185456027749888,
          -2.206205109879655,
          -2.2406048161002814,
          -2.2574276361673427,
          -0.9210951205393593,
          -1.123745533009739,
          -1.1237788087156528,
          -0.9210763227255709,
          -0.921060899085348,
          -2.256887160200645,
          -2.145893989944268,
          -1.1852206002818655,
          -1.1579185916730992,
          -0.9216037977058333,
          -1.3356901022991183,
          -1.1293348125046976,
          -1.0841988414027273,
          -1.1237482490154784,
          -1.1237802070682705,
          -1.1237845314122137,
          -1.1237842356132397,
          -2.2569071918928767,
          -2.0437170819889734,
          -0.9212632990681491,
          -1.5622578776107279,
          -2.033975170638834,
          -2.168236623041886,
          -1.1237659109555165,
          -0.921189595644922,
          -1.5622668576048062,
          -2.0045526068156385,
          -1.5622599744307446,
          -1.770507562399941,
          -2.296821061345148,
          -2.256867719424191,
          -2.0095911739165366,
          -0.9213224006202658,
          -2.2201091688629555,
          -1.125308300574535,
          -1.2253928956843694,
          -0.9210609345258438,
          -1.5622536627326964,
          -1.5624281617881435,
          -1.1237618004330028,
          -0.9210614646996051,
          -1.3356890578025638,
          -1.147107862255667,
          -2.7749949143613546,
          -2.171046649267013,
          -2.2570043004145006,
          -1.1263035274627382,
          -2.168186343279196,
          -1.2458903317431296,
          -1.1237581473508915,
          -1.1295412149800397,
          -0.9212595428814985,
          -2.007801845491388,
          -2.257372995541483,
          -1.1237503395987904,
          -2.1490917989186444,
          -2.033986305732808,
          -2.2520939038040977,
          -0.9210960433640315,
          -2.256867678676313,
          -0.6425920158866082,
          -2.1455223039614326,
          -2.1795618277363453,
          -2.2519452786544267,
          -2.257181975806766,
          -2.2946986952963364,
          -2.343484291397396,
          -2.095292053491876,
          -2.257240265044669,
          -1.2542312907154574,
          -2.234603256651874,
          -0.9210613626730446,
          -1.1237516622194352,
          -2.220626762513872,
          -2.1150175121820864,
          -0.8344567770361518,
          -2.3653879466131067,
          -1.3362221716248441,
          -0.9210634876580543,
          -1.2542723606814175,
          -2.0368472029095535,
          -2.2519826030506875,
          -1.3356901031493575,
          -2.2606512940418684,
          -2.178564980375577,
          -2.178518467048913,
          -2.264358503514862,
          -1.1237944585235704,
          -2.034098896761347,
          -2.033978240409871,
          -1.5478441238748188,
          -1.335703530322006,
          -0.3286243044329947,
          -1.3357500079094506,
          -1.1759951237493431,
          -1.563318418627052,
          -2.1822327286167953,
          -1.1240573727319034,
          -1.3356999115326063,
          -1.1422015744348157,
          -1.162153168983923,
          -1.1237415427671757,
          -1.123817982174423,
          -1.7702896665282704,
          -2.1475511074780624,
          -2.004413219609255,
          -2.257337345934247,
          -2.0339779096052966
         ],
         "z": [
          0.13841830576093386,
          0.3160491708149093,
          -0.008987922528278994,
          0.2525742408078153,
          0.3160221736095132,
          0.35152137357828733,
          0.2568844307879685,
          -0.008966975488259522,
          0.05763988535000448,
          -0.008973723197962297,
          0.26145518948465624,
          -0.05592990176553536,
          0.1383648988198909,
          -0.009023462952729242,
          -0.008977005437633521,
          0.055038788541600644,
          0.11398182304979022,
          -0.008976696776388933,
          -0.008967311121763149,
          -0.008965768030277523,
          0.05764155253843971,
          0.2563822667824352,
          0.1315158393699331,
          -0.013513381733690415,
          -0.008970476491193554,
          -0.009050345868298644,
          -0.008971495036963813,
          -0.008964711761544878,
          0.24019696568476073,
          -0.009341244965535178,
          -0.008986819079131809,
          -0.008981541484178172,
          -0.040990846256676254,
          0.13841757463842788,
          -0.009030552809439608,
          -0.008969987910063253,
          -0.008963493757577878,
          -0.008977031381337977,
          0.42697285342386987,
          -0.008965638383534305,
          -0.011344770432733978,
          0.13841904349624937,
          -0.009081679313578986,
          -0.00896589709506033,
          -0.00899924943148035,
          -0.008975253047172446,
          0.1381861600143258,
          0.13840920308036592,
          0.1384145793176546,
          0.13841470769599715,
          0.1384249421503483,
          0.057644630315074726,
          -0.008971239113414213,
          0.08931019426090746,
          -0.009023190956830596,
          0.1384104528545574,
          0.30572545966099013,
          0.3680254859759181,
          -0.008991697685075888,
          -0.009264512334899581,
          -0.00901521917986179,
          -0.00896343679626407,
          -0.009017849137810438,
          -0.009268624354633121,
          0.4335295317714919,
          0.2620750928809278,
          0.20285685591588828,
          -0.008965830119748368,
          -0.011252119201113542,
          0.38462134248160834,
          -0.008963292302487241,
          0.1384195692142329,
          -0.020215563014950352,
          0.057633423331781564,
          0.32092917566231405,
          0.13841503414164294,
          0.05763867309826228,
          -0.008996317028752502,
          -0.009011133407044937,
          0.31606957394371266,
          0.2452266043440561,
          0.05763928375361943,
          0.13841759588007538,
          -0.009037312141537896,
          0.27658805896594774,
          -0.008989494021473698,
          0.13075344760043828,
          0.05762420555743106,
          0.46839784585590705,
          -0.008983811416206092,
          0.3530032405308046,
          -0.008967038723344098,
          0.057638694775305574,
          -0.008963291231326893,
          0.05764153313300559,
          0.46862023173890344,
          0.3708424127064129,
          0.13842238474463311,
          0.2617121674947317,
          -0.009014550842430283,
          0.13842161246335155,
          -0.008969313446246947,
          0.326169136219986,
          0.31606480421991984,
          0.3515217827037311,
          -0.01023155361793334,
          0.05739323866618606,
          0.05760283481559623,
          0.37084264976214004,
          -0.008963611995217953,
          0.3708402232388463,
          0.3209387428571146,
          0.045289809559680656,
          0.2525530544125372,
          -0.008964204540564078,
          0.05751557460197794,
          0.35152196949637216,
          -0.008998388926910881,
          0.32093354329200324,
          0.29602645318363424,
          -0.009467130674290673,
          -0.03425164069617308,
          -0.0089721057991471,
          0.13781457071726827,
          -0.008975040998154674,
          0.25254941363584804,
          0.36660231428423035,
          0.25280679439420073,
          0.37361186439113375,
          0.37018246076095473,
          0.05762455407005069,
          -0.008969623595047995,
          -0.008973441349521964,
          0.057631549664593336,
          0.057641991372835336,
          0.37083556537235324,
          0.44957547994463914,
          -0.07112473929040042,
          0.1496988213287118,
          0.05748205161438028,
          0.13841828994286717,
          -0.010247434706596087,
          -0.04202747621669453,
          -0.00896776315474951,
          -0.008977382760169265,
          -0.008982852462667851,
          -0.008983099808689436,
          0.3708325039203446,
          0.34775219361145354,
          0.056799828386200374,
          0.24028204223019203,
          0.35151910326843055,
          0.4683758576233545,
          -0.008998422820545946,
          0.05756158969716928,
          0.24027932985244307,
          0.31603687232636574,
          0.24028106987249828,
          0.2618980430597326,
          0.35599101413061207,
          0.3708428751085295,
          0.3147305390938576,
          0.057559069443614316,
          0.25235395088581314,
          -0.010491178831343876,
          -0.03005362294499802,
          0.057641509937248744,
          0.2402819249032434,
          0.24015583713921626,
          -0.008981417192462891,
          0.05764013612598959,
          0.13841789013093803,
          0.10672886504813493,
          0.23624959692837041,
          0.3671530543333134,
          0.37077338207402355,
          -0.01249825596469613,
          0.46836578801046924,
          0.08904890838580548,
          -0.008970843331717226,
          -0.014564871167879207,
          0.0575349008542624,
          0.3152218067554338,
          0.37070462691350975,
          -0.008966582873064548,
          0.3349180794884076,
          0.35150058942756857,
          0.3261304892957923,
          0.05762532573267062,
          0.37083949068228084,
          -0.03425083836459117,
          0.3209360068099545,
          0.21707802985227265,
          0.32617060392912456,
          0.37077203919262225,
          0.32743933246425255,
          0.3387928486740158,
          0.39046117540370817,
          0.37059363815687385,
          0.15881225260926332,
          0.283425070980955,
          0.05764118652464117,
          -0.00896610453322911,
          0.2523605740484655,
          0.24357243172137943,
          0.08760641407759923,
          0.28188212640393007,
          0.13768263082189872,
          0.05764069200356733,
          0.158802345348866,
          0.34961690217153096,
          0.3261600770042917,
          0.13841829065383443,
          0.3694255045196794,
          0.300131077368377,
          0.30013754982809443,
          0.31707203140515805,
          -0.008985908577296616,
          0.3514852549119269,
          0.35151605637095107,
          0.20284310812428538,
          0.1384051005794536,
          -0.07585577512768678,
          0.13838490789810595,
          -0.020974477394169213,
          0.2389127691011013,
          0.29928273301114977,
          -0.009265774347591982,
          0.13841456740275104,
          -0.02191862492747433,
          0.11397376343010925,
          -0.008964853048420362,
          -0.009001445285922048,
          0.2620890345829185,
          0.24969937963957906,
          0.31606541142110345,
          0.3704475478538981,
          0.35152139358218226
         ]
        },
        {
         "customdata": [
          [
           "Proof-of-BibleHash"
          ],
          [
           "Proof-of-Authority"
          ],
          [
           "ECC 256K1"
          ],
          [
           "Leased POS"
          ]
         ],
         "hovertemplate": "<b>%{hovertext}</b><br><br>Class=%{marker.color}<br>PC 1=%{x}<br>PC 2=%{y}<br>PC 3=%{z}<br>Algorithm=%{customdata[0]}<extra></extra>",
         "hovertext": [
          "BiblePay",
          "Poa Network",
          "Acute Angle Cloud",
          "Waves"
         ],
         "legendgroup": "1",
         "marker": {
          "color": [
           1,
           1,
           1,
           1
          ],
          "coloraxis": "coloraxis",
          "symbol": "square"
         },
         "mode": "markers",
         "name": "1",
         "scene": "scene",
         "showlegend": true,
         "type": "scatter3d",
         "x": [
          -0.10925682213075134,
          -0.2841857430926417,
          -0.30570967882813815,
          -0.4522174050290269
         ],
         "y": [
          3.8068962518633995,
          3.633120585820073,
          2.5298432158924014,
          2.7619335488326793
         ],
         "z": [
          15.622825172017327,
          8.141586039584853,
          13.398831958257714,
          21.26687405921393
         ]
        },
        {
         "customdata": [
          [
           "TRC10"
          ]
         ],
         "hovertemplate": "<b>%{hovertext}</b><br><br>Class=%{marker.color}<br>PC 1=%{x}<br>PC 2=%{y}<br>PC 3=%{z}<br>Algorithm=%{customdata[0]}<extra></extra>",
         "hovertext": [
          "BitTorrent"
         ],
         "legendgroup": "2",
         "marker": {
          "color": [
           2
          ],
          "coloraxis": "coloraxis",
          "symbol": "x"
         },
         "mode": "markers",
         "name": "2",
         "scene": "scene",
         "showlegend": true,
         "type": "scatter3d",
         "x": [
          34.08612375678413
         ],
         "y": [
          1.4169930049879225
         ],
         "z": [
          0.07541190057080933
         ]
        }
       ],
       "layout": {
        "coloraxis": {
         "colorbar": {
          "title": {
           "text": "Class"
          }
         },
         "colorscale": [
          [
           0,
           "#0d0887"
          ],
          [
           0.1111111111111111,
           "#46039f"
          ],
          [
           0.2222222222222222,
           "#7201a8"
          ],
          [
           0.3333333333333333,
           "#9c179e"
          ],
          [
           0.4444444444444444,
           "#bd3786"
          ],
          [
           0.5555555555555556,
           "#d8576b"
          ],
          [
           0.6666666666666666,
           "#ed7953"
          ],
          [
           0.7777777777777778,
           "#fb9f3a"
          ],
          [
           0.8888888888888888,
           "#fdca26"
          ],
          [
           1,
           "#f0f921"
          ]
         ]
        },
        "legend": {
         "title": {
          "text": "Class"
         },
         "tracegroupgap": 0,
         "x": 0,
         "y": 1
        },
        "margin": {
         "t": 60
        },
        "scene": {
         "domain": {
          "x": [
           0,
           1
          ],
          "y": [
           0,
           1
          ]
         },
         "xaxis": {
          "title": {
           "text": "PC 1"
          }
         },
         "yaxis": {
          "title": {
           "text": "PC 2"
          }
         },
         "zaxis": {
          "title": {
           "text": "PC 3"
          }
         }
        },
        "template": {
         "data": {
          "bar": [
           {
            "error_x": {
             "color": "#2a3f5f"
            },
            "error_y": {
             "color": "#2a3f5f"
            },
            "marker": {
             "line": {
              "color": "#E5ECF6",
              "width": 0.5
             },
             "pattern": {
              "fillmode": "overlay",
              "size": 10,
              "solidity": 0.2
             }
            },
            "type": "bar"
           }
          ],
          "barpolar": [
           {
            "marker": {
             "line": {
              "color": "#E5ECF6",
              "width": 0.5
             },
             "pattern": {
              "fillmode": "overlay",
              "size": 10,
              "solidity": 0.2
             }
            },
            "type": "barpolar"
           }
          ],
          "carpet": [
           {
            "aaxis": {
             "endlinecolor": "#2a3f5f",
             "gridcolor": "white",
             "linecolor": "white",
             "minorgridcolor": "white",
             "startlinecolor": "#2a3f5f"
            },
            "baxis": {
             "endlinecolor": "#2a3f5f",
             "gridcolor": "white",
             "linecolor": "white",
             "minorgridcolor": "white",
             "startlinecolor": "#2a3f5f"
            },
            "type": "carpet"
           }
          ],
          "choropleth": [
           {
            "colorbar": {
             "outlinewidth": 0,
             "ticks": ""
            },
            "type": "choropleth"
           }
          ],
          "contour": [
           {
            "colorbar": {
             "outlinewidth": 0,
             "ticks": ""
            },
            "colorscale": [
             [
              0,
              "#0d0887"
             ],
             [
              0.1111111111111111,
              "#46039f"
             ],
             [
              0.2222222222222222,
              "#7201a8"
             ],
             [
              0.3333333333333333,
              "#9c179e"
             ],
             [
              0.4444444444444444,
              "#bd3786"
             ],
             [
              0.5555555555555556,
              "#d8576b"
             ],
             [
              0.6666666666666666,
              "#ed7953"
             ],
             [
              0.7777777777777778,
              "#fb9f3a"
             ],
             [
              0.8888888888888888,
              "#fdca26"
             ],
             [
              1,
              "#f0f921"
             ]
            ],
            "type": "contour"
           }
          ],
          "contourcarpet": [
           {
            "colorbar": {
             "outlinewidth": 0,
             "ticks": ""
            },
            "type": "contourcarpet"
           }
          ],
          "heatmap": [
           {
            "colorbar": {
             "outlinewidth": 0,
             "ticks": ""
            },
            "colorscale": [
             [
              0,
              "#0d0887"
             ],
             [
              0.1111111111111111,
              "#46039f"
             ],
             [
              0.2222222222222222,
              "#7201a8"
             ],
             [
              0.3333333333333333,
              "#9c179e"
             ],
             [
              0.4444444444444444,
              "#bd3786"
             ],
             [
              0.5555555555555556,
              "#d8576b"
             ],
             [
              0.6666666666666666,
              "#ed7953"
             ],
             [
              0.7777777777777778,
              "#fb9f3a"
             ],
             [
              0.8888888888888888,
              "#fdca26"
             ],
             [
              1,
              "#f0f921"
             ]
            ],
            "type": "heatmap"
           }
          ],
          "heatmapgl": [
           {
            "colorbar": {
             "outlinewidth": 0,
             "ticks": ""
            },
            "colorscale": [
             [
              0,
              "#0d0887"
             ],
             [
              0.1111111111111111,
              "#46039f"
             ],
             [
              0.2222222222222222,
              "#7201a8"
             ],
             [
              0.3333333333333333,
              "#9c179e"
             ],
             [
              0.4444444444444444,
              "#bd3786"
             ],
             [
              0.5555555555555556,
              "#d8576b"
             ],
             [
              0.6666666666666666,
              "#ed7953"
             ],
             [
              0.7777777777777778,
              "#fb9f3a"
             ],
             [
              0.8888888888888888,
              "#fdca26"
             ],
             [
              1,
              "#f0f921"
             ]
            ],
            "type": "heatmapgl"
           }
          ],
          "histogram": [
           {
            "marker": {
             "pattern": {
              "fillmode": "overlay",
              "size": 10,
              "solidity": 0.2
             }
            },
            "type": "histogram"
           }
          ],
          "histogram2d": [
           {
            "colorbar": {
             "outlinewidth": 0,
             "ticks": ""
            },
            "colorscale": [
             [
              0,
              "#0d0887"
             ],
             [
              0.1111111111111111,
              "#46039f"
             ],
             [
              0.2222222222222222,
              "#7201a8"
             ],
             [
              0.3333333333333333,
              "#9c179e"
             ],
             [
              0.4444444444444444,
              "#bd3786"
             ],
             [
              0.5555555555555556,
              "#d8576b"
             ],
             [
              0.6666666666666666,
              "#ed7953"
             ],
             [
              0.7777777777777778,
              "#fb9f3a"
             ],
             [
              0.8888888888888888,
              "#fdca26"
             ],
             [
              1,
              "#f0f921"
             ]
            ],
            "type": "histogram2d"
           }
          ],
          "histogram2dcontour": [
           {
            "colorbar": {
             "outlinewidth": 0,
             "ticks": ""
            },
            "colorscale": [
             [
              0,
              "#0d0887"
             ],
             [
              0.1111111111111111,
              "#46039f"
             ],
             [
              0.2222222222222222,
              "#7201a8"
             ],
             [
              0.3333333333333333,
              "#9c179e"
             ],
             [
              0.4444444444444444,
              "#bd3786"
             ],
             [
              0.5555555555555556,
              "#d8576b"
             ],
             [
              0.6666666666666666,
              "#ed7953"
             ],
             [
              0.7777777777777778,
              "#fb9f3a"
             ],
             [
              0.8888888888888888,
              "#fdca26"
             ],
             [
              1,
              "#f0f921"
             ]
            ],
            "type": "histogram2dcontour"
           }
          ],
          "mesh3d": [
           {
            "colorbar": {
             "outlinewidth": 0,
             "ticks": ""
            },
            "type": "mesh3d"
           }
          ],
          "parcoords": [
           {
            "line": {
             "colorbar": {
              "outlinewidth": 0,
              "ticks": ""
             }
            },
            "type": "parcoords"
           }
          ],
          "pie": [
           {
            "automargin": true,
            "type": "pie"
           }
          ],
          "scatter": [
           {
            "fillpattern": {
             "fillmode": "overlay",
             "size": 10,
             "solidity": 0.2
            },
            "type": "scatter"
           }
          ],
          "scatter3d": [
           {
            "line": {
             "colorbar": {
              "outlinewidth": 0,
              "ticks": ""
             }
            },
            "marker": {
             "colorbar": {
              "outlinewidth": 0,
              "ticks": ""
             }
            },
            "type": "scatter3d"
           }
          ],
          "scattercarpet": [
           {
            "marker": {
             "colorbar": {
              "outlinewidth": 0,
              "ticks": ""
             }
            },
            "type": "scattercarpet"
           }
          ],
          "scattergeo": [
           {
            "marker": {
             "colorbar": {
              "outlinewidth": 0,
              "ticks": ""
             }
            },
            "type": "scattergeo"
           }
          ],
          "scattergl": [
           {
            "marker": {
             "colorbar": {
              "outlinewidth": 0,
              "ticks": ""
             }
            },
            "type": "scattergl"
           }
          ],
          "scattermapbox": [
           {
            "marker": {
             "colorbar": {
              "outlinewidth": 0,
              "ticks": ""
             }
            },
            "type": "scattermapbox"
           }
          ],
          "scatterpolar": [
           {
            "marker": {
             "colorbar": {
              "outlinewidth": 0,
              "ticks": ""
             }
            },
            "type": "scatterpolar"
           }
          ],
          "scatterpolargl": [
           {
            "marker": {
             "colorbar": {
              "outlinewidth": 0,
              "ticks": ""
             }
            },
            "type": "scatterpolargl"
           }
          ],
          "scatterternary": [
           {
            "marker": {
             "colorbar": {
              "outlinewidth": 0,
              "ticks": ""
             }
            },
            "type": "scatterternary"
           }
          ],
          "surface": [
           {
            "colorbar": {
             "outlinewidth": 0,
             "ticks": ""
            },
            "colorscale": [
             [
              0,
              "#0d0887"
             ],
             [
              0.1111111111111111,
              "#46039f"
             ],
             [
              0.2222222222222222,
              "#7201a8"
             ],
             [
              0.3333333333333333,
              "#9c179e"
             ],
             [
              0.4444444444444444,
              "#bd3786"
             ],
             [
              0.5555555555555556,
              "#d8576b"
             ],
             [
              0.6666666666666666,
              "#ed7953"
             ],
             [
              0.7777777777777778,
              "#fb9f3a"
             ],
             [
              0.8888888888888888,
              "#fdca26"
             ],
             [
              1,
              "#f0f921"
             ]
            ],
            "type": "surface"
           }
          ],
          "table": [
           {
            "cells": {
             "fill": {
              "color": "#EBF0F8"
             },
             "line": {
              "color": "white"
             }
            },
            "header": {
             "fill": {
              "color": "#C8D4E3"
             },
             "line": {
              "color": "white"
             }
            },
            "type": "table"
           }
          ]
         },
         "layout": {
          "annotationdefaults": {
           "arrowcolor": "#2a3f5f",
           "arrowhead": 0,
           "arrowwidth": 1
          },
          "autotypenumbers": "strict",
          "coloraxis": {
           "colorbar": {
            "outlinewidth": 0,
            "ticks": ""
           }
          },
          "colorscale": {
           "diverging": [
            [
             0,
             "#8e0152"
            ],
            [
             0.1,
             "#c51b7d"
            ],
            [
             0.2,
             "#de77ae"
            ],
            [
             0.3,
             "#f1b6da"
            ],
            [
             0.4,
             "#fde0ef"
            ],
            [
             0.5,
             "#f7f7f7"
            ],
            [
             0.6,
             "#e6f5d0"
            ],
            [
             0.7,
             "#b8e186"
            ],
            [
             0.8,
             "#7fbc41"
            ],
            [
             0.9,
             "#4d9221"
            ],
            [
             1,
             "#276419"
            ]
           ],
           "sequential": [
            [
             0,
             "#0d0887"
            ],
            [
             0.1111111111111111,
             "#46039f"
            ],
            [
             0.2222222222222222,
             "#7201a8"
            ],
            [
             0.3333333333333333,
             "#9c179e"
            ],
            [
             0.4444444444444444,
             "#bd3786"
            ],
            [
             0.5555555555555556,
             "#d8576b"
            ],
            [
             0.6666666666666666,
             "#ed7953"
            ],
            [
             0.7777777777777778,
             "#fb9f3a"
            ],
            [
             0.8888888888888888,
             "#fdca26"
            ],
            [
             1,
             "#f0f921"
            ]
           ],
           "sequentialminus": [
            [
             0,
             "#0d0887"
            ],
            [
             0.1111111111111111,
             "#46039f"
            ],
            [
             0.2222222222222222,
             "#7201a8"
            ],
            [
             0.3333333333333333,
             "#9c179e"
            ],
            [
             0.4444444444444444,
             "#bd3786"
            ],
            [
             0.5555555555555556,
             "#d8576b"
            ],
            [
             0.6666666666666666,
             "#ed7953"
            ],
            [
             0.7777777777777778,
             "#fb9f3a"
            ],
            [
             0.8888888888888888,
             "#fdca26"
            ],
            [
             1,
             "#f0f921"
            ]
           ]
          },
          "colorway": [
           "#636efa",
           "#EF553B",
           "#00cc96",
           "#ab63fa",
           "#FFA15A",
           "#19d3f3",
           "#FF6692",
           "#B6E880",
           "#FF97FF",
           "#FECB52"
          ],
          "font": {
           "color": "#2a3f5f"
          },
          "geo": {
           "bgcolor": "white",
           "lakecolor": "white",
           "landcolor": "#E5ECF6",
           "showlakes": true,
           "showland": true,
           "subunitcolor": "white"
          },
          "hoverlabel": {
           "align": "left"
          },
          "hovermode": "closest",
          "mapbox": {
           "style": "light"
          },
          "paper_bgcolor": "white",
          "plot_bgcolor": "#E5ECF6",
          "polar": {
           "angularaxis": {
            "gridcolor": "white",
            "linecolor": "white",
            "ticks": ""
           },
           "bgcolor": "#E5ECF6",
           "radialaxis": {
            "gridcolor": "white",
            "linecolor": "white",
            "ticks": ""
           }
          },
          "scene": {
           "xaxis": {
            "backgroundcolor": "#E5ECF6",
            "gridcolor": "white",
            "gridwidth": 2,
            "linecolor": "white",
            "showbackground": true,
            "ticks": "",
            "zerolinecolor": "white"
           },
           "yaxis": {
            "backgroundcolor": "#E5ECF6",
            "gridcolor": "white",
            "gridwidth": 2,
            "linecolor": "white",
            "showbackground": true,
            "ticks": "",
            "zerolinecolor": "white"
           },
           "zaxis": {
            "backgroundcolor": "#E5ECF6",
            "gridcolor": "white",
            "gridwidth": 2,
            "linecolor": "white",
            "showbackground": true,
            "ticks": "",
            "zerolinecolor": "white"
           }
          },
          "shapedefaults": {
           "line": {
            "color": "#2a3f5f"
           }
          },
          "ternary": {
           "aaxis": {
            "gridcolor": "white",
            "linecolor": "white",
            "ticks": ""
           },
           "baxis": {
            "gridcolor": "white",
            "linecolor": "white",
            "ticks": ""
           },
           "bgcolor": "#E5ECF6",
           "caxis": {
            "gridcolor": "white",
            "linecolor": "white",
            "ticks": ""
           }
          },
          "title": {
           "x": 0.05
          },
          "xaxis": {
           "automargin": true,
           "gridcolor": "white",
           "linecolor": "white",
           "ticks": "",
           "title": {
            "standoff": 15
           },
           "zerolinecolor": "white",
           "zerolinewidth": 2
          },
          "yaxis": {
           "automargin": true,
           "gridcolor": "white",
           "linecolor": "white",
           "ticks": "",
           "title": {
            "standoff": 15
           },
           "zerolinecolor": "white",
           "zerolinewidth": 2
          }
         }
        },
        "width": 800
       }
      },
      "text/html": [
       "<div>                            <div id=\"0842b94e-c0ca-45a8-94a2-654172bfde94\" class=\"plotly-graph-div\" style=\"height:525px; width:800px;\"></div>            <script type=\"text/javascript\">                require([\"plotly\"], function(Plotly) {                    window.PLOTLYENV=window.PLOTLYENV || {};                                    if (document.getElementById(\"0842b94e-c0ca-45a8-94a2-654172bfde94\")) {                    Plotly.newPlot(                        \"0842b94e-c0ca-45a8-94a2-654172bfde94\",                        [{\"customdata\":[[\"Scrypt\"],[\"Scrypt\"],[\"X13\"],[\"X11\"],[\"SHA-512\"],[\"SHA-256\"],[\"SHA-256\"],[\"X15\"],[\"Scrypt\"],[\"Scrypt\"],[\"Scrypt\"],[\"Scrypt\"],[\"Scrypt\"],[\"Scrypt\"],[\"Groestl\"],[\"PoS\"],[\"Scrypt\"],[\"Scrypt\"],[\"X11\"],[\"X11\"],[\"SHA3\"],[\"Scrypt\"],[\"SHA-256\"],[\"Scrypt\"],[\"X13\"],[\"X13\"],[\"NeoScrypt\"],[\"Scrypt\"],[\"Scrypt\"],[\"Scrypt\"],[\"X11\"],[\"X11\"],[\"Multiple\"],[\"PHI1612\"],[\"X11\"],[\"Scrypt\"],[\"Scrypt\"],[\"Scrypt\"],[\"X11\"],[\"Multiple\"],[\"X13\"],[\"Scrypt\"],[\"Shabal256\"],[\"Counterparty\"],[\"SHA-256\"],[\"Groestl\"],[\"Scrypt\"],[\"X13\"],[\"Scrypt\"],[\"Scrypt\"],[\"X13\"],[\"X11\"],[\"Scrypt\"],[\"X11\"],[\"SHA3\"],[\"QUAIT\"],[\"X11\"],[\"Scrypt\"],[\"X13\"],[\"SHA-256\"],[\"X15\"],[\"BLAKE256\"],[\"SHA-256\"],[\"X11\"],[\"SHA-256\"],[\"NIST5\"],[\"Scrypt\"],[\"Scrypt\"],[\"X11\"],[\"Scrypt\"],[\"SHA-256\"],[\"Scrypt\"],[\"PoS\"],[\"X11\"],[\"SHA-256\"],[\"SHA-256\"],[\"NIST5\"],[\"X11\"],[\"POS 3.0\"],[\"Scrypt\"],[\"Scrypt\"],[\"Scrypt\"],[\"X13\"],[\"X11\"],[\"X11\"],[\"Scrypt\"],[\"SHA-256\"],[\"X11\"],[\"Scrypt\"],[\"Scrypt\"],[\"Scrypt\"],[\"Scrypt\"],[\"SHA-256D\"],[\"PoS\"],[\"Scrypt\"],[\"X11\"],[\"PoS\"],[\"X13\"],[\"X14\"],[\"PoS\"],[\"SHA-256D\"],[\"DPoS\"],[\"X11\"],[\"X13\"],[\"X11\"],[\"PoS\"],[\"Scrypt\"],[\"Scrypt\"],[\"PoS\"],[\"X11\"],[\"SHA-256\"],[\"Scrypt\"],[\"X11\"],[\"Scrypt\"],[\"Scrypt\"],[\"X11\"],[\"Scrypt\"],[\"Scrypt\"],[\"Scrypt\"],[\"Scrypt\"],[\"Quark\"],[\"QuBit\"],[\"Scrypt\"],[\"SHA-256\"],[\"X11\"],[\"Scrypt\"],[\"Scrypt\"],[\"Scrypt\"],[\"Scrypt\"],[\"X13\"],[\"Scrypt\"],[\"Scrypt\"],[\"X11\"],[\"Blake2S\"],[\"X11\"],[\"PoS\"],[\"X11\"],[\"PoS\"],[\"X11\"],[\"Scrypt\"],[\"Scrypt\"],[\"Scrypt\"],[\"SHA-256\"],[\"X11\"],[\"Scrypt\"],[\"PoS\"],[\"Scrypt\"],[\"X15\"],[\"SHA-256\"],[\"POS 3.0\"],[\"536\"],[\"NIST5\"],[\"NIST5\"],[\"Skein\"],[\"X13\"],[\"Scrypt\"],[\"X13\"],[\"SkunkHash v2 Raptor\"],[\"Skein\"],[\"X11\"],[\"Scrypt\"],[\"VeChainThor Authority\"],[\"PoS\"],[\"Scrypt\"],[\"Scrypt\"],[\"SHA-512\"],[\"Ouroboros\"],[\"X11\"],[\"NeoScrypt\"],[\"Scrypt\"],[\"Lyra2REv2\"],[\"Scrypt\"],[\"SHA-256\"],[\"NIST5\"],[\"PHI1612\"],[\"Scrypt\"],[\"Quark\"],[\"POS 2.0\"],[\"Scrypt\"],[\"SHA-256\"],[\"X11\"],[\"DPoS\"],[\"NIST5\"],[\"X13\"],[\"Scrypt\"],[\"NIST5\"],[\"Quark\"],[\"Scrypt\"],[\"Scrypt\"],[\"X11\"],[\"Quark\"],[\"Scrypt\"],[\"Scrypt\"],[\"X11\"],[\"POS 3.0\"],[\"Ethash\"],[\"Scrypt\"],[\"Scrypt\"],[\"X13\"],[\"SHA-256 + Hive\"],[\"C11\"],[\"X11\"],[\"XEVAN\"],[\"Scrypt\"],[\"VBFT\"],[\"NIST5\"],[\"Scrypt\"],[\"Scrypt\"],[\"Scrypt\"],[\"Green Protocol\"],[\"PoS\"],[\"Scrypt\"],[\"Semux BFT consensus\"],[\"Quark\"],[\"PoS\"],[\"X16R\"],[\"Scrypt\"],[\"XEVAN\"],[\"Scrypt\"],[\"Scrypt\"],[\"Scrypt\"],[\"SHA-256D\"],[\"Scrypt\"],[\"X15\"],[\"Scrypt\"],[\"Quark\"],[\"SHA-256\"],[\"DPoS\"],[\"X16R\"],[\"Quark\"],[\"Quark\"],[\"Scrypt\"],[\"Lyra2REv2\"],[\"Quark\"],[\"Scrypt\"],[\"X11\"],[\"X11\"],[\"Scrypt\"],[\"PoS\"],[\"Keccak\"],[\"X11\"],[\"Scrypt\"],[\"SHA-512\"],[\"XEVAN\"],[\"XEVAN\"],[\"X11\"],[\"Quark\"],[\"Equihash\"],[\"Scrypt\"],[\"Quark\"],[\"Quark\"],[\"Scrypt\"],[\"X11\"],[\"Scrypt\"],[\"XEVAN\"],[\"SHA-256D\"],[\"X11\"],[\"X11\"],[\"DPoS\"],[\"Scrypt\"],[\"X11\"],[\"Scrypt\"],[\"Scrypt\"],[\"SHA-256\"],[\"Scrypt\"],[\"X11\"],[\"Scrypt\"],[\"SHA-256\"],[\"X11\"],[\"Scrypt\"],[\"Scrypt\"],[\"X11\"],[\"Scrypt\"],[\"PoS\"],[\"X11\"],[\"SHA-256\"],[\"DPoS\"],[\"Scrypt\"],[\"Scrypt\"],[\"NeoScrypt\"],[\"X13\"],[\"DPoS\"],[\"DPoS\"],[\"SHA-256\"],[\"PoS\"],[\"PoS\"],[\"SHA-256\"],[\"Scrypt\"],[\"Scrypt\"]],\"hovertemplate\":\"<b>%{hovertext}</b><br><br>Class=%{marker.color}<br>PC 1=%{x}<br>PC 2=%{y}<br>PC 3=%{z}<br>Algorithm=%{customdata[0]}<extra></extra>\",\"hovertext\":[\"42 Coin\",\"404Coin\",\"EliteCoin\",\"Dash\",\"Bitshares\",\"BitcoinDark\",\"PayCoin\",\"KoboCoin\",\"Aurora Coin\",\"BlueCoin\",\"EnergyCoin\",\"BitBar\",\"CryptoBullion\",\"CasinoCoin\",\"Diamond\",\"Exclusive Coin\",\"FlutterCoin\",\"HoboNickels\",\"HyperStake\",\"IOCoin\",\"MaxCoin\",\"MintCoin\",\"MazaCoin\",\"Nautilus Coin\",\"NavCoin\",\"OpalCoin\",\"Orbitcoin\",\"PotCoin\",\"PhoenixCoin\",\"Reddcoin\",\"SuperCoin\",\"SyncCoin\",\"TeslaCoin\",\"TittieCoin\",\"TorCoin\",\"UnitaryStatus Dollar\",\"UltraCoin\",\"VeriCoin\",\"X11 Coin\",\"Crypti\",\"StealthCoin\",\"ZCC Coin\",\"BurstCoin\",\"StorjCoin\",\"Neutron\",\"FairCoin\",\"RubyCoin\",\"Kore\",\"Dnotes\",\"8BIT Coin\",\"Sativa Coin\",\"Ucoin\",\"Vtorrent\",\"IslaCoin\",\"Nexus\",\"Droidz\",\"Squall Coin\",\"Diggits\",\"Paycon\",\"Emercoin\",\"EverGreenCoin\",\"Decred\",\"EDRCoin\",\"Hitcoin\",\"DubaiCoin\",\"PWR Coin\",\"BillaryCoin\",\"GPU Coin\",\"EuropeCoin\",\"ZeitCoin\",\"SwingCoin\",\"SafeExchangeCoin\",\"Nebuchadnezzar\",\"Ratecoin\",\"Revenu\",\"Clockcoin\",\"VIP Tokens\",\"BitSend\",\"Let it Ride\",\"PutinCoin\",\"iBankCoin\",\"Frankywillcoin\",\"MudraCoin\",\"Lutetium Coin\",\"GoldBlocks\",\"CarterCoin\",\"BitTokens\",\"MustangCoin\",\"ZoneCoin\",\"RootCoin\",\"BitCurrency\",\"Swiscoin\",\"BuzzCoin\",\"Opair\",\"PesoBit\",\"Halloween Coin\",\"CoffeeCoin\",\"RoyalCoin\",\"GanjaCoin V2\",\"TeamUP\",\"LanaCoin\",\"ARK\",\"InsaneCoin\",\"EmberCoin\",\"XenixCoin\",\"FreeCoin\",\"PLNCoin\",\"AquariusCoin\",\"Creatio\",\"Eternity\",\"Eurocoin\",\"BitcoinFast\",\"Stakenet\",\"BitConnect Coin\",\"MoneyCoin\",\"Enigma\",\"Russiacoin\",\"PandaCoin\",\"GameUnits\",\"GAKHcoin\",\"Allsafe\",\"LiteCreed\",\"Klingon Empire Darsek\",\"Internet of People\",\"KushCoin\",\"Printerium\",\"Impeach\",\"Zilbercoin\",\"FirstCoin\",\"FindCoin\",\"OpenChat\",\"RenosCoin\",\"VirtacoinPlus\",\"TajCoin\",\"Impact\",\"Atmos\",\"HappyCoin\",\"MacronCoin\",\"Condensate\",\"Independent Money System\",\"ArgusCoin\",\"LomoCoin\",\"ProCurrency\",\"GoldReserve\",\"GrowthCoin\",\"Phreak\",\"Degas Coin\",\"HTML5 Coin\",\"Ultimate Secure Cash\",\"QTUM\",\"Espers\",\"Denarius\",\"Virta Unique Coin\",\"Bitcoin Planet\",\"BritCoin\",\"Linda\",\"DeepOnion\",\"Signatum\",\"Cream\",\"Monoeci\",\"Draftcoin\",\"Vechain\",\"Stakecoin\",\"CoinonatX\",\"Ethereum Dark\",\"Obsidian\",\"Cardano\",\"Regalcoin\",\"TrezarCoin\",\"TerraNovaCoin\",\"Rupee\",\"WomenCoin\",\"Theresa May Coin\",\"NamoCoin\",\"LUXCoin\",\"Xios\",\"Bitcloud 2.0\",\"KekCoin\",\"BlackholeCoin\",\"Infinity Economics\",\"Magnet\",\"Lamden Tau\",\"Electra\",\"Bitcoin Diamond\",\"Cash & Back Coin\",\"Bulwark\",\"Kalkulus\",\"GermanCoin\",\"LiteCoin Ultra\",\"PhantomX\",\"Digiwage\",\"Trollcoin\",\"Litecoin Plus\",\"Monkey Project\",\"TokenPay\",\"1717 Masonic Commemorative Token\",\"My Big Coin\",\"Unified Society USDEX\",\"Tokyo Coin\",\"LitecoinCash\",\"Stipend\",\"Pushi\",\"Ellerium\",\"Velox\",\"Ontology\",\"Bitspace\",\"Briacoin\",\"Ignition\",\"MedicCoin\",\"Bitcoin Green\",\"Deviant Coin\",\"Abjcoin\",\"Semux\",\"Carebit\",\"Zealium\",\"Proton\",\"iDealCash\",\"Bitcoin Incognito\",\"HollyWoodCoin\",\"Swisscoin\",\"Xt3ch\",\"TheVig\",\"EmaratCoin\",\"Dekado\",\"Lynx\",\"Poseidon Quark\",\"BitcoinWSpectrum\",\"Muse\",\"Trivechain\",\"Dystem\",\"Giant\",\"Peony Coin\",\"Absolute Coin\",\"Vitae\",\"TPCash\",\"ARENON\",\"EUNO\",\"MMOCoin\",\"Ketan\",\"XDNA\",\"PAXEX\",\"ThunderStake\",\"Kcash\",\"Bettex coin\",\"BitMoney\",\"Junson Ming Chan Coin\",\"HerbCoin\",\"PirateCash\",\"Oduwa\",\"Galilel\",\"Crypto Sports\",\"Credit\",\"Dash Platinum\",\"Nasdacoin\",\"Beetle Coin\",\"Titan Coin\",\"Award\",\"Insane Coin\",\"ALAX\",\"LiteDoge\",\"TruckCoin\",\"OrangeCoin\",\"BitstarCoin\",\"NeosCoin\",\"HyperCoin\",\"PinkCoin\",\"AudioCoin\",\"IncaKoin\",\"Piggy Coin\",\"Genstake\",\"XiaoMiCoin\",\"CapriCoin\",\" ClubCoin\",\"Radium\",\"Creditbit \",\"OKCash\",\"Lisk\",\"HiCoin\",\"WhiteCoin\",\"FriendshipCoin\",\"Triangles Coin\",\"EOS\",\"Oxycoin\",\"TigerCash\",\"Particl\",\"Nxt\",\"ZEPHYR\",\"Gapcoin\",\"BitcoinPlus\"],\"legendgroup\":\"0\",\"marker\":{\"color\":[0,0,0,0,0,0,0,0,0,0,0,0,0,0,0,0,0,0,0,0,0,0,0,0,0,0,0,0,0,0,0,0,0,0,0,0,0,0,0,0,0,0,0,0,0,0,0,0,0,0,0,0,0,0,0,0,0,0,0,0,0,0,0,0,0,0,0,0,0,0,0,0,0,0,0,0,0,0,0,0,0,0,0,0,0,0,0,0,0,0,0,0,0,0,0,0,0,0,0,0,0,0,0,0,0,0,0,0,0,0,0,0,0,0,0,0,0,0,0,0,0,0,0,0,0,0,0,0,0,0,0,0,0,0,0,0,0,0,0,0,0,0,0,0,0,0,0,0,0,0,0,0,0,0,0,0,0,0,0,0,0,0,0,0,0,0,0,0,0,0,0,0,0,0,0,0,0,0,0,0,0,0,0,0,0,0,0,0,0,0,0,0,0,0,0,0,0,0,0,0,0,0,0,0,0,0,0,0,0,0,0,0,0,0,0,0,0,0,0,0,0,0,0,0,0,0,0,0,0,0,0,0,0,0,0,0,0,0,0,0,0,0,0,0,0,0,0,0,0,0,0,0,0,0,0,0,0,0,0,0,0,0,0,0,0,0,0,0,0,0,0,0,0,0,0,0,0,0,0,0,0,0,0,0,0,0,0,0,0],\"coloraxis\":\"coloraxis\",\"symbol\":\"circle\"},\"mode\":\"markers\",\"name\":\"0\",\"scene\":\"scene\",\"showlegend\":true,\"x\":[-0.341242167638822,-0.3245348500402825,2.2923529380022076,-0.40218939296965295,-0.24701754017982136,-0.32432605785235746,-0.26158496378916213,-0.2561420868299954,-0.3409008159842348,-0.333458696599619,-0.3397347403418413,-0.34123809229331725,-0.34122233085995984,0.8167748619681033,-0.38617746760220645,-0.32737555689103376,-0.26321286733042143,-0.33929561270689007,-0.31921830958134956,-0.40208380901770563,-0.4786877449384965,-0.017729878067034854,-0.28753141569400265,-0.27825146391763217,-0.29890451655555866,-0.2995283802754781,-0.36568118822719275,-0.3355286805871237,-0.33963952221244464,0.01785180313689303,-0.33915780543921553,-0.40245640013278056,-0.23829296018233487,-0.2949698756459436,-0.40236779071538464,-0.31640612078392294,-0.33991590604175687,-0.2903157338895209,-0.4023321786230679,-0.23876208379608863,-0.2993086608958906,-0.3323202146771633,0.4052235779990152,-0.3092384773474498,-0.3235356112791503,-0.38559749834285006,-0.2782316936474798,-0.2996039506134729,-0.272870806526537,-0.341224188487462,-0.29955601171860863,-0.33960380485110625,-0.3409578355470677,-0.4024378799071713,-0.5444115914381509,-0.4248560122709939,-0.4021272393378102,-0.2766288393157717,-0.29907632053227656,-0.3168616138720332,-0.25859048144012986,-0.11455433585358993,-0.32429689445122767,-0.07901086484992229,-0.32436077444128514,-0.24820808871099911,-0.3408333548287081,-0.276497366119816,-0.39959901403107106,0.8781146787967055,-0.32416026415619614,0.08400915564055991,-0.32705796022953393,-0.4002750346232395,-0.3229002103962538,-0.32056181919293464,-0.36988934465973367,-0.4011695136661358,-0.32416941227184215,-0.31706402382518883,-0.3408715505584477,-0.3393063242597213,-0.2355534666600579,-0.32706044037296406,-0.4019103165978553,-0.34007359659414427,-0.32434166107573065,-0.4024270385523816,-0.3410612483891253,-0.3412184062493041,-0.2764872261541508,-0.2523371826600275,0.02526658623257591,-0.3260121902575893,-0.34083153707301744,-0.3885505321466306,-0.32533909169200026,-0.23698815105670595,-0.43363503264205494,-0.3250869993228919,-0.29011324087274964,3.6250921521837123,-0.4020184603031198,0.8356225238670143,-0.4023818272567227,-0.326477206971889,-0.3407588456029847,-0.34091357725638427,-0.32705796022953393,-0.40195552401984147,-0.3242039702383416,-0.3407595911252065,-0.3825485156881257,-0.34090738068980647,-0.3364828150723454,-0.40241089662817003,-0.34011582335921225,0.3667757645248743,-0.3411072076045186,-0.3411779799430911,-0.3457227604520679,-0.3500885113549519,-0.3373940188872944,-0.32431801205049393,-0.40232060261752933,-0.34095517738439424,-0.34108246540860093,-0.278137878585799,-0.27745977290458357,-0.2367553710681102,-0.32188372653036856,-0.2778783495117407,-0.40158426943442355,-0.41997079104787705,-0.4003192712639982,-0.3252997254201389,-0.4014818831107745,-0.3196843411905358,-0.3974115185262077,-0.3410256021385737,-0.3410247796990434,-0.33412686078503917,0.27259957612494257,-0.40196171763432964,-0.26073112669979137,-0.3270923317501348,-0.34023407520326515,0.8789261572953906,-0.2602716318700398,-0.32294442226808046,0.5816258890038591,-0.3714291885550328,-0.3699272809875642,-0.42044999417409007,-0.2992402406499055,0.12501068413034408,-0.2993112166029755,-0.2864112752819947,-0.4199535630637716,-0.40223486857883123,-0.2782123302806142,4.634712947269157,-0.32695820660614583,-0.34065979068005053,-0.3411608629958014,-0.30524092337967396,0.7248570101083123,-0.4021755146745908,-0.36066658175107796,-0.3411163441504723,-0.31016776605328766,0.4300800309594627,-0.3226597751000554,-0.35615387307586904,-0.3933424881777867,-0.34106654352325444,-0.40683768772209955,-0.31156397659502694,-0.34093660684143423,-0.08759478536849921,-0.40096479482482345,3.6299615964273206,0.1895926573848772,-0.2959729502831357,-0.3383898542889769,-0.30851458467861,-0.3456083539041836,0.07437922172703806,-0.34007265955758365,-0.4015476118639782,-0.34477073030653477,-0.32760431307156873,-0.3411830536195471,-0.33957565830089076,-0.324452090233252,-0.2545607928995188,-0.3083416570682142,-0.3367161452796643,-0.22852821197898626,-0.20415251302722506,-0.38000735245918654,-0.4022521378080427,-0.3622595174472248,-0.27736993110072716,-0.3195675851718003,-0.37102702657076747,-0.3412104824662601,-0.34119214203242254,-0.27173589355295324,-0.33808995357842303,-0.32655154898481015,-0.3409078641292927,3.8072439457424765,-0.4055021749612945,-0.3267407307703804,-0.29618471044722094,-0.28762939062787196,-0.36208318381701077,-0.27790571501921624,-0.1437860608525403,-0.27815841760880233,-0.3556123976078112,-0.3403804211733529,-0.1952549076453207,2.255784630896152,-0.341303991911884,-0.26039983825484736,0.9767802998834593,-0.35819693241825257,-0.34572218621885215,-0.40852658929828733,-0.15854890995648455,-0.3727733068051237,-0.3444382037677204,-0.33406679283875035,-0.33915189443251004,-0.40172403901923487,-0.27539626840172354,-0.32583795018053324,-0.37953739557422317,-0.339012839922362,-0.20029322184233295,-0.2863662936047964,-0.2995751194631196,0.41545270857768585,-0.12897012559128443,-0.4078192740737867,-0.2831849150799059,-0.3409118615798858,-0.40827665481024883,-0.34583948467990155,0.5681168248218719,-0.3396301195117724,-0.340393317333566,-0.35669976789121405,-0.3102047838413564,-0.3992816783387162,-0.40195190827503224,3.6422365508868255,0.0952242515286282,-0.3994850686458724,-0.3397770043783316,-0.34060440450359714,-0.2616176677874021,-0.34112419338979166,-0.3935568216292434,-0.2545824999157297,-0.10339916631628253,-0.3892931567527104,-0.34040057517326416,-0.33344591805684703,-0.3985111478108792,-0.3388354079786615,-0.32733433899228004,-0.3494929553654334,-0.3228370568125525,3.625485057914065,-0.08491445302593173,-0.3360225321446227,-0.3653059697680128,-0.29971145698079565,3.6353790230311964,3.6366264601212643,-0.24246232061803125,-0.3272700358311551,-0.3233860148167735,2.4233453516777765,-0.3392819784427651,-0.2785560024142847],\"y\":[0.9951351841473008,0.9951434801178349,1.6309555654040402,1.1978146809146848,1.6456213509444844,0.783180205285443,0.6107003285413236,1.8462561147590681,0.9951312637903007,0.9953108792666961,0.9951692111000974,0.9951349295184103,0.9951349386486623,0.29056414799686475,0.9567565504734545,1.6343374817046332,0.23491538939496087,0.9950959274243896,1.0258001188505748,1.1978170642449353,2.120036274576551,0.8285350690220006,0.78234878558343,0.8226431378808653,1.7902702238694121,1.7902561414899643,0.5566296983736734,0.9949729677115845,0.9951034170148124,1.00324095694759,1.0253500276885137,1.1978239057165136,0.17606737421200208,1.6067650322787952,1.197818973573512,0.994586523947929,0.9950957916446966,0.2700580528179196,1.1978228972911262,0.17612611478710663,1.7902611011816025,0.994643277743171,0.45419120768407106,1.5225001758989576,0.783166156100113,0.9567726786853347,0.8226548017509793,1.7902461160487875,0.8224291620783226,0.9951355900170237,1.7902485847666616,1.0253260942066307,0.995127736354828,1.197824324464007,2.5346957483429122,1.8756409213246719,0.690644328490207,0.8226216527043642,1.7902316807497551,0.7826706513335538,1.8464252702192592,0.9331087504163263,0.783180863586395,1.1867178695785812,0.7831873945866928,1.47907301659951,0.9951152936322627,0.8225406946024136,1.1976221784299257,0.780120100196181,0.78317146831555,0.30026670177214737,1.6343307847590434,1.19782114851422,0.7830732280172082,0.7829164448126286,1.4762639273651523,1.1977565863576463,1.5737346814345858,0.9942943530840467,0.9951128137454819,0.9951095516401652,1.6176588691512441,1.0251676013455124,1.197801568054141,0.9950991651232017,0.7831805463765906,1.1978224892833351,0.9951247087324065,0.9951357205385932,0.8226941793464235,0.26891811763024664,1.8780461683568985,1.6343169525469785,0.9951444532767908,1.1970978509709702,1.6343557185779218,1.6177634109651469,1.8559805517969676,1.6341804575709815,1.8795892421538667,1.9556216108186877,1.1978129929489798,1.8152904223676638,1.1978229182192224,1.6343230950036736,0.9951193743365521,0.9951134827837862,1.6343307847590434,1.1977936145909807,0.7831843477509082,0.9951231983916573,0.7095400445385418,0.99512332886213,0.9947915136496662,1.1978214670518985,0.9950607737287402,0.8146718538914041,0.9951292177045339,0.9951343342378536,1.4766753632760612,0.5710473971106733,0.9948753976940579,0.7831810802023864,1.1978204866151552,0.9951277963571232,0.995123582723852,0.8226187879073731,0.30686739479024533,1.6177603287247229,0.9948788589790916,0.8226389098842103,1.19777426285142,1.8184824123568855,1.1977958844568488,1.6343078750170814,1.1977765740020994,1.6342337742093065,1.1975911335934615,0.9951253663061649,0.9951202628522368,0.9946024965994588,0.5707695374391989,1.1978073407894811,0.8216632387467924,1.6343230758930123,0.9950851431598268,1.8097234631053676,0.610599921997826,1.5737162284748814,1.8455233574338743,1.4762846327306176,1.4762422720252732,1.8520254915115024,1.7902418466122478,0.9709948228157593,1.7902479413728702,1.4536597768853283,1.8520366973743243,1.1978223156135457,0.8226431713276781,4.165213219844024,1.6343041952139616,0.9951148769555211,0.9951341075923111,1.6467400001294068,1.4910714438865196,1.1978115276857968,0.556468185933628,0.995127116446103,0.7008991757625749,0.9952136135955553,0.7831637406053793,1.475804412711709,1.780000183282088,0.9951245892061613,1.6490702730294922,1.5621656513944404,0.9951318288369432,0.6083967455327777,1.197757740942948,1.9554715404193534,1.4681564162538814,1.7901908045993054,0.9950539759423206,1.3037898036518691,1.476674479255905,0.9698519266305992,0.99505758825677,1.19780975533211,1.4766240567740538,0.9948190590921709,0.9951337453468468,1.0253260362540635,1.57373419364115,-0.058019796579963916,0.38980579487138683,0.9950765037108229,1.6174014689605822,4.258361291471163,0.9717693634604713,1.1978111846842339,1.2844946452755617,0.8225882849466947,1.5788471657545529,1.4762659786590002,0.9951338195000238,0.9951328468952054,0.8224547802936857,1.585699148343839,1.6342950714814837,0.995121931348925,2.0191495925255207,1.649100419352887,1.6342963475126422,0.6921430263678156,0.992794326797464,0.7773386563236641,0.8226441342084304,0.9925206673325568,0.8226259505864797,1.8832453218230256,0.9950963990211392,1.6739080616057798,0.25567487861159255,1.476334861765581,0.6106662346339946,1.7476011705043177,0.8646199111379186,1.4766712164363383,1.6491672385851164,0.8136534736848103,0.8733689396249626,1.4766454288502895,0.994603852503938,1.0253120296002436,1.1978057728691685,0.8225385472893073,1.634226596800512,0.9628076344680623,1.025283969942726,0.9858373975684788,1.9106581519019452,1.1120138353897508,0.6260216240556853,1.0300945617403308,1.6491493376761293,-0.0876333974748045,0.9951280808177919,1.6491632538437584,1.4766738585575738,0.963803141884525,1.0253257081999476,0.9950961079181053,1.2843150925119675,1.8808731294081977,1.1976043827887157,1.1978144952176366,1.9554019709214445,0.9807219627739004,1.1978909778168014,0.995029597020482,0.9951119645216275,0.6106936972664677,0.9951378471909279,1.1976781450714902,0.9898116863264875,0.7880506794545129,1.197427737970482,0.9951437818087253,0.9950338475946814,1.1977687555190255,0.9950785835426721,1.6343321724071975,0.6742127324394863,0.7831562723511479,1.955606270881886,0.8200793932317213,0.9950450161126362,0.5565990672711717,1.7902519257317195,1.9559404773039368,1.9559686355088095,0.6104473469673117,1.634333877563375,1.9517362295059206,0.8182435438415004,0.9950061061495002,0.8226467878789475],\"z\":[-0.477992293811319,-0.478301330476115,-0.5900787759748788,-0.41138908995774737,-0.004751772837013644,-0.3306071901146212,-0.09035298321135445,-0.5368355194291401,-0.47799853774775414,-0.47813920940458093,-0.47802074700111685,-0.4779923647959461,-0.4779926563588514,-0.6199837831855536,-0.3550269671196035,-0.06610540705111231,-0.3436180793679948,-0.4780276102324785,-0.17151687928477877,-0.411391082889796,-0.3475246563513445,-0.24266011671014362,-0.33127322546490495,-0.23774249332758451,-0.5448997481059942,-0.5448879724717359,-0.22874411843852385,-0.4780951487030404,-0.4780213801588594,-0.48477031139658666,-0.17114051469902963,-0.41138431142942294,0.033285659682335524,-0.31123196496953687,-0.41138586518604703,-0.47844207644366554,-0.4780161395651089,-0.3365540069145862,-0.4113865908303843,0.03329332667241646,-0.5448921197477685,-0.4781488198933587,-1.1153388805215774,-0.36029066305906376,-0.33062156363360246,-0.3550379662602429,-0.23774305869590187,-0.5448864035117741,-0.23783830784794097,-0.4779926331742518,-0.5448873321317547,-0.1711318587377831,-0.47799742309949544,-0.4113846610166915,0.049112613055284624,-0.6014662379119933,-0.13962618000090515,-0.23777212522863192,-0.5448959113123325,-0.3307364665637551,-0.5367931503403685,-0.48112296065529836,-0.3306077405834727,-0.41717407260480516,-0.33060667143295736,-0.5056007643352017,-0.4779995113821094,-0.23777316887666555,-0.4114336841159543,-0.2583934846025395,-0.33061010570830635,-0.6066022278687973,-0.06611116421855742,-0.41142459453240365,-0.3306317190984466,-0.3306722663621384,-0.503302921257672,-0.4114069507053275,-0.14063128746684117,-0.4784249068121759,-0.47799876270802183,-0.47802764562306094,-0.3046545657261393,-0.17136105214124803,-0.4113940250120955,-0.4780132818910697,-0.3306069074773486,-0.4113848300146492,-0.4779954592691302,-0.47799274231591155,-0.2377759860973849,-0.25025897476212405,-0.5946693824620894,-0.06613026202134524,-0.478000044599696,-0.411628971201756,-0.0661433708577978,-0.3046298316317439,-0.6376585322197705,-0.06614502883382807,-0.5888648967196386,0.8125694011339023,-0.41139222133854364,-0.5663042246811635,-0.41138567325638076,-0.06612176976653449,-0.47800095886883404,-0.4779979971572274,-0.06611116421855742,-0.41139305291969436,-0.3306095183162246,-0.4780010106050443,-0.29962553421225074,-0.4779982804217552,-0.47807439915184374,-0.4113851109413442,-0.4780118433952398,-0.2495315519507439,-0.47799468680359897,-0.47799346598844844,-0.1736489556593493,-0.2661875240770621,-0.47805898952630677,-0.3306073538605297,-0.4113867635506791,-0.47799747327319636,-0.47799504770404816,-0.2377441761558571,-0.1988259965018952,-0.30463408259255126,-0.4783458120623708,-0.23774931924111078,-0.41139958532352927,-0.5621901836128367,-0.4114233437954587,-0.06614327895140135,-0.4114015178992856,-0.06624582980004265,-0.4114735958846362,-0.47799612958418175,-0.4779960573493473,-0.4781147188499407,-0.0995451366583829,-0.4113931735878587,-0.2380496302221493,-0.06611039665738302,-0.47801007462317596,-0.5571953797860567,-0.09037554452324202,-0.14065361962288353,-0.4798175746242317,-0.5032748064931019,-0.5033018488348919,-0.7091491317959862,-0.544893054840531,-0.4861990340313033,-0.5448918470213998,-0.2169913757739116,-0.7091585020975479,-0.4113883799883783,-0.23774321742590346,-6.980235643087603,-0.0661125529462881,-0.47800271319703025,-0.47799377857318787,-0.0036944718386838025,-0.29190044418108063,-0.41138929252148904,-0.22883406408501944,-0.4779944818797328,-0.13944988446395928,-0.49225428731370935,-0.3306377152119471,-0.5035489974360472,-0.5508403363781671,-0.4779953593217203,-0.41393177228132505,-0.1791334089855351,-0.4779978857070282,-0.09353034530684012,-0.41141075544756195,0.8124819432870729,-0.5135080363289615,-0.5449525878557185,-0.47804363763639013,-0.26302355135193073,-0.17365105572714534,-0.485243348415722,-0.47801258685387915,-0.41140087118402924,-0.17366567827642287,-0.4782390219709158,-0.4779933620935649,-0.17113237813450258,-0.14062605279597415,0.08729979625606066,-0.07083160202091056,-0.4780749681159037,-0.30478004249345997,4.2151240486156425,-0.36229975405198656,-0.411387869991946,-0.3814011474953677,-0.23775785178620928,-0.3514015067522921,-0.5032819222843226,-0.47799285624373666,-0.47799317866802854,-0.23785972970605682,0.019176452855938424,-0.06611991514451951,-0.4779982475392062,0.8571431265593189,-0.4139569805268375,-0.06611643930555956,-0.0699633907713333,-0.4789434104293489,-0.10964059466228226,-0.23774890280333838,-0.481598180108648,-0.23774391914107695,-0.5877165523584342,-0.47800756174796233,-0.2965492948917344,-0.43252741460233723,-0.17372481838211815,-0.09037431034425177,0.3471380674977993,-0.3102310222189643,-0.17364889522578447,-0.41390220826444934,-0.2398015978246611,-0.3797064242849019,-0.17367219239962192,-0.478115852652314,-0.17113997294084465,-0.4113975410630636,-0.2377934898151973,-0.06613193535260345,-0.31824655642759236,-0.17114206309771146,-0.4804389346084125,0.24661612685984377,-0.1411458763742054,-0.08150975724454906,-0.17510787674365974,-0.4139149788091868,0.1227359907644014,-0.4779982789946126,-0.4139067609244418,-0.17364677181324192,-0.4942682165235616,-0.17113136560347125,-0.4780073183286688,-0.38150086296577235,-0.5885154303028152,-0.4114392462977693,-0.41139347753010735,0.812256188824956,-0.4858149862708966,-0.4114403963068452,-0.47801757350654966,-0.47800368730811243,-0.09035226494331762,-0.47799452061482606,-0.4115463545647531,-0.47950329701927397,-0.3347752627079458,-0.41162089328366763,-0.4780080009672172,-0.47813469911003464,-0.4114563086082834,-0.4780358215997081,-0.06610607814398745,0.07734290423038466,-0.3306343095672583,0.8125623996945612,-0.24127309331432967,-0.47808725253952306,-0.2287505308725789,-0.544884515412863,0.8123737481991459,0.8123502024110772,-0.0907021991819547,-0.066107296233397,0.23596419516498007,0.37440950374093257,-0.4780263233482519,-0.2377369253818242],\"type\":\"scatter3d\"},{\"customdata\":[[\"SHA-256\"],[\"Ethash\"],[\"Scrypt\"],[\"CryptoNight-V7\"],[\"Ethash\"],[\"Equihash\"],[\"Multiple\"],[\"Scrypt\"],[\"X11\"],[\"Scrypt\"],[\"Multiple\"],[\"Scrypt\"],[\"SHA-256\"],[\"Scrypt\"],[\"Scrypt\"],[\"Quark\"],[\"Groestl\"],[\"Scrypt\"],[\"Scrypt\"],[\"Scrypt\"],[\"X11\"],[\"Multiple\"],[\"SHA-256\"],[\"Scrypt\"],[\"Scrypt\"],[\"Scrypt\"],[\"Scrypt\"],[\"Scrypt\"],[\"NeoScrypt\"],[\"Scrypt\"],[\"Scrypt\"],[\"Scrypt\"],[\"Scrypt\"],[\"SHA-256\"],[\"Scrypt\"],[\"Scrypt\"],[\"Scrypt\"],[\"Scrypt\"],[\"HybridScryptHash256\"],[\"Scrypt\"],[\"Scrypt\"],[\"SHA-256\"],[\"Scrypt\"],[\"Scrypt\"],[\"Scrypt\"],[\"Scrypt\"],[\"SHA-256\"],[\"SHA-256\"],[\"SHA-256\"],[\"SHA-256\"],[\"SHA-256\"],[\"X11\"],[\"Scrypt\"],[\"Lyra2REv2\"],[\"Scrypt\"],[\"SHA-256\"],[\"CryptoNight\"],[\"CryptoNight\"],[\"Scrypt\"],[\"Scrypt\"],[\"Scrypt\"],[\"Scrypt\"],[\"Scrypt\"],[\"Scrypt\"],[\"Stanford Folding\"],[\"Multiple\"],[\"QuBit\"],[\"Scrypt\"],[\"Scrypt\"],[\"M7 POW\"],[\"Scrypt\"],[\"SHA-256\"],[\"Scrypt\"],[\"X11\"],[\"Lyra2RE\"],[\"SHA-256\"],[\"X11\"],[\"Scrypt\"],[\"Scrypt\"],[\"Ethash\"],[\"Blake2b\"],[\"X11\"],[\"SHA-256\"],[\"Scrypt\"],[\"1GB AES Pattern Search\"],[\"Scrypt\"],[\"SHA-256\"],[\"X11\"],[\"Dagger\"],[\"Scrypt\"],[\"X11GOST\"],[\"Scrypt\"],[\"X11\"],[\"Scrypt\"],[\"X11\"],[\"Equihash\"],[\"CryptoNight\"],[\"SHA-256\"],[\"Multiple\"],[\"Scrypt\"],[\"SHA-256\"],[\"Scrypt\"],[\"Lyra2Z\"],[\"Ethash\"],[\"Equihash\"],[\"Scrypt\"],[\"X11\"],[\"X11\"],[\"CryptoNight\"],[\"Scrypt\"],[\"CryptoNight\"],[\"Lyra2RE\"],[\"X11\"],[\"CryptoNight-V7\"],[\"Scrypt\"],[\"X11\"],[\"Equihash\"],[\"Scrypt\"],[\"Lyra2RE\"],[\"Dagger-Hashimoto\"],[\"Scrypt\"],[\"NIST5\"],[\"Scrypt\"],[\"SHA-256\"],[\"Scrypt\"],[\"CryptoNight-V7\"],[\"Argon2d\"],[\"Blake2b\"],[\"Cloverhash\"],[\"CryptoNight\"],[\"X11\"],[\"Scrypt\"],[\"Scrypt\"],[\"X11\"],[\"X11\"],[\"CryptoNight\"],[\"Time Travel\"],[\"Scrypt\"],[\"Keccak\"],[\"X11\"],[\"SHA-256\"],[\"Scrypt\"],[\"Scrypt\"],[\"Scrypt\"],[\"Scrypt\"],[\"Scrypt\"],[\"Scrypt\"],[\"CryptoNight\"],[\"Equihash\"],[\"X11\"],[\"NeoScrypt\"],[\"Equihash\"],[\"Dagger\"],[\"Scrypt\"],[\"X11\"],[\"NeoScrypt\"],[\"Ethash\"],[\"NeoScrypt\"],[\"Multiple\"],[\"CryptoNight\"],[\"CryptoNight\"],[\"Ethash\"],[\"X11\"],[\"CryptoNight-V7\"],[\"Scrypt\"],[\"BLAKE256\"],[\"X11\"],[\"NeoScrypt\"],[\"NeoScrypt\"],[\"Scrypt\"],[\"X11\"],[\"SHA-256\"],[\"C11\"],[\"CryptoNight\"],[\"SkunkHash\"],[\"CryptoNight\"],[\"Scrypt\"],[\"Dagger\"],[\"Lyra2REv2\"],[\"Scrypt\"],[\"Scrypt\"],[\"X11\"],[\"Ethash\"],[\"CryptoNight\"],[\"Scrypt\"],[\"IMesh\"],[\"Equihash\"],[\"Lyra2Z\"],[\"X11\"],[\"CryptoNight\"],[\"NIST5\"],[\"Lyra2RE\"],[\"Tribus\"],[\"Lyra2Z\"],[\"CryptoNight\"],[\"CryptoNight Heavy\"],[\"CryptoNight\"],[\"Jump Consistent Hash\"],[\"CryptoNight\"],[\"X16R\"],[\"HMQ1725\"],[\"X11\"],[\"Scrypt\"],[\"CryptoNight-V7\"],[\"Cryptonight-GPU\"],[\"XEVAN\"],[\"CryptoNight Heavy\"],[\"SHA-256\"],[\"X11\"],[\"X16R\"],[\"Equihash\"],[\"Lyra2Z\"],[\"SHA-256\"],[\"CryptoNight\"],[\"Blake\"],[\"Blake\"],[\"Exosis\"],[\"Scrypt\"],[\"Equihash\"],[\"Equihash\"],[\"QuBit\"],[\"SHA-256\"],[\"X13\"],[\"SHA-256\"],[\"Scrypt\"],[\"NeoScrypt\"],[\"Blake\"],[\"Scrypt\"],[\"SHA-256\"],[\"Scrypt\"],[\"Groestl\"],[\"Scrypt\"],[\"Scrypt\"],[\"Multiple\"],[\"Equihash+Scrypt\"],[\"Ethash\"],[\"CryptoNight\"],[\"Equihash\"]],\"hovertemplate\":\"<b>%{hovertext}</b><br><br>Class=%{marker.color}<br>PC 1=%{x}<br>PC 2=%{y}<br>PC 3=%{z}<br>Algorithm=%{customdata[0]}<extra></extra>\",\"hovertext\":[\"Bitcoin\",\"Ethereum\",\"Litecoin\",\"Monero\",\"Ethereum Classic\",\"ZCash\",\"DigiByte\",\"ProsperCoin\",\"Spreadcoin\",\"Argentum\",\"MyriadCoin\",\"MoonCoin\",\"ZetaCoin\",\"SexCoin\",\"Quatloo\",\"QuarkCoin\",\"Riecoin\",\"Digitalcoin \",\"Catcoin\",\"CannaCoin\",\"CryptCoin\",\"Verge\",\"DevCoin\",\"EarthCoin\",\"E-Gulden\",\"Einsteinium\",\"Emerald\",\"Franko\",\"FeatherCoin\",\"GrandCoin\",\"GlobalCoin\",\"GoldCoin\",\"Infinite Coin\",\"IXcoin\",\"KrugerCoin\",\"LuckyCoin\",\"Litebar \",\"MegaCoin\",\"MediterraneanCoin\",\"MinCoin\",\"NobleCoin\",\"Namecoin\",\"NyanCoin\",\"RonPaulCoin\",\"StableCoin\",\"SmartCoin\",\"SysCoin\",\"TigerCoin\",\"TerraCoin\",\"UnbreakableCoin\",\"Unobtanium\",\"UroCoin\",\"ViaCoin\",\"Vertcoin\",\"WorldCoin\",\"JouleCoin\",\"ByteCoin\",\"DigitalNote \",\"MonaCoin\",\"Gulden\",\"PesetaCoin\",\"Wild Beast Coin\",\"Flo\",\"ArtByte\",\"Folding Coin\",\"Unitus\",\"CypherPunkCoin\",\"OmniCron\",\"GreenCoin\",\"Cryptonite\",\"MasterCoin\",\"SoonCoin\",\"1Credit\",\"MarsCoin \",\"Crypto\",\"Anarchists Prime\",\"BowsCoin\",\"Song Coin\",\"BitZeny\",\"Expanse\",\"Siacoin\",\"MindCoin\",\"I0coin\",\"Revolution VR\",\"HOdlcoin\",\"Gamecredits\",\"CarpeDiemCoin\",\"Adzcoin\",\"SoilCoin\",\"YoCoin\",\"SibCoin\",\"Francs\",\"BolivarCoin\",\"Omni\",\"PizzaCoin\",\"Komodo\",\"Karbo\",\"ZayedCoin\",\"Circuits of Value\",\"DopeCoin\",\"DollarCoin\",\"Shilling\",\"ZCoin\",\"Elementrem\",\"ZClassic\",\"KiloCoin\",\"ArtexCoin\",\"Kurrent\",\"Cannabis Industry Coin\",\"OsmiumCoin\",\"Bikercoins\",\"HexxCoin\",\"PacCoin\",\"Citadel\",\"BeaverCoin\",\"VaultCoin\",\"Zero\",\"Canada eCoin\",\"Zoin\",\"DubaiCoin\",\"EB3coin\",\"Coinonat\",\"BenjiRolls\",\"ILCoin\",\"EquiTrader\",\"Quantum Resistant Ledger\",\"Dynamic\",\"Nano\",\"ChanCoin\",\"Dinastycoin\",\"DigitalPrice\",\"Unify\",\"SocialCoin\",\"ArcticCoin\",\"DAS\",\"LeviarCoin\",\"Bitcore\",\"gCn Coin\",\"SmartCash\",\"Onix\",\"Bitcoin Cash\",\"Sojourn Coin\",\"NewYorkCoin\",\"FrazCoin\",\"Kronecoin\",\"AdCoin\",\"Linx\",\"Sumokoin\",\"BitcoinZ\",\"Elements\",\"VIVO Coin\",\"Bitcoin Gold\",\"Pirl\",\"eBoost\",\"Pura\",\"Innova\",\"Ellaism\",\"GoByte\",\"SHIELD\",\"UltraNote\",\"BitCoal\",\"DaxxCoin\",\"AC3\",\"Lethean\",\"PopularCoin\",\"Photon\",\"Sucre\",\"SparksPay\",\"GunCoin\",\"IrishCoin\",\"Pioneer Coin\",\"UnitedBitcoin\",\"Interzone\",\"TurtleCoin\",\"MUNcoin\",\"Niobio Cash\",\"ShareChain\",\"Travelflex\",\"KREDS\",\"BitFlip\",\"LottoCoin\",\"Crypto Improvement Fund\",\"Callisto Network\",\"BitTube\",\"Poseidon\",\"Aidos Kuneen\",\"Bitrolium\",\"Alpenschillling\",\"FuturoCoin\",\"Monero Classic\",\"Jumpcoin\",\"Infinex\",\"KEYCO\",\"GINcoin\",\"PlatinCoin\",\"Loki\",\"Newton Coin\",\"MassGrid\",\"PluraCoin\",\"Motion\",\"PlusOneCoin\",\"Axe\",\"HexCoin\",\"Webchain\",\"Ryo\",\"Urals Coin\",\"Qwertycoin\",\"Project Pai\",\"Azart\",\"Xchange\",\"CrypticCoin\",\"Actinium\",\"Bitcoin SV\",\"FREDEnergy\",\"Universal Molecule\",\"Lithium\",\"Exosis\",\"Block-Logic\",\"Beam\",\"Bithereum\",\"SLICE\",\"BLAST\",\"Bitcoin Rhodium\",\"GlobalToken\",\"SolarCoin\",\"UFO Coin\",\"BlakeCoin\",\"Crypto Escudo\",\"Crown Coin\",\"SmileyCoin\",\"Groestlcoin\",\"Bata\",\"Pakcoin\",\"JoinCoin\",\"Vollar\",\"Reality Clash\",\"Beldex\",\"Horizen\"],\"legendgroup\":\"3\",\"marker\":{\"color\":[3,3,3,3,3,3,3,3,3,3,3,3,3,3,3,3,3,3,3,3,3,3,3,3,3,3,3,3,3,3,3,3,3,3,3,3,3,3,3,3,3,3,3,3,3,3,3,3,3,3,3,3,3,3,3,3,3,3,3,3,3,3,3,3,3,3,3,3,3,3,3,3,3,3,3,3,3,3,3,3,3,3,3,3,3,3,3,3,3,3,3,3,3,3,3,3,3,3,3,3,3,3,3,3,3,3,3,3,3,3,3,3,3,3,3,3,3,3,3,3,3,3,3,3,3,3,3,3,3,3,3,3,3,3,3,3,3,3,3,3,3,3,3,3,3,3,3,3,3,3,3,3,3,3,3,3,3,3,3,3,3,3,3,3,3,3,3,3,3,3,3,3,3,3,3,3,3,3,3,3,3,3,3,3,3,3,3,3,3,3,3,3,3,3,3,3,3,3,3,3,3,3,3,3,3,3,3,3,3,3,3,3,3,3,3,3,3,3,3,3,3,3,3,3,3,3,3,3,3,3,3,3,3,3,3,3,3,3],\"coloraxis\":\"coloraxis\",\"symbol\":\"diamond\"},\"mode\":\"markers\",\"name\":\"3\",\"scene\":\"scene\",\"showlegend\":true,\"x\":[-0.14722396673561852,-0.13904515522345767,-0.1629674197692447,-0.1420672259529561,-0.13748270635795487,-0.1696288111679692,0.16325147360022482,-0.16411682478912656,-0.22527226872392153,-0.16373227549274083,-0.09086087188676932,2.5655895122803996,-0.14430086863968508,-0.16098004830427326,-0.16353572931845706,-0.22679497364779586,-0.20813958523148293,-0.1635847024231623,-0.16409904319354823,-0.16418574145233567,-0.22536185369054756,0.1870583689204654,0.23166583036910082,0.08523083902454799,-0.16393134444335186,-0.1595244771755892,-0.1638704601153067,-0.16424290008230494,-0.1838973194714404,-0.14340751555000145,-0.1630346901881365,-0.16331287968634747,1.5894860405584939,-0.14718523244766654,-0.16059472863650445,-0.16395785840820898,-0.16431365035996232,-0.16357085574299307,-0.1339301055795306,-0.16419458611676288,-0.028716470878280876,-0.14726305136463283,-0.1578410405424798,-0.1641739572015332,-0.16226286136620272,-0.16365928067192642,-0.1343794445165713,-0.1467253439673921,-0.14701332689625377,-0.14699621389491987,-0.14758861587073133,-0.22553623971015183,-0.16388968267400203,-0.19518044874067259,-0.1609847537216492,-0.14679282219175488,3.8720674120302028,0.4616647833050746,-0.1627541236075204,-0.14730950809473,-0.16146941727651376,-0.1643158638464925,-0.1613341030751091,-0.1475195981674826,-0.12267176782481955,-0.12496151163900605,-0.17403586943649318,-0.16418859967413277,-0.03677168872731428,-0.10835038169470082,-0.16432478302654097,-0.14729090348449828,0.4897091448283599,-0.22492173491102527,-0.14774926073944997,-0.14703002223632966,-0.2252074152666771,-0.16244323972330593,-0.1616332578101854,-0.14011545709682147,0.3691973158383469,-0.22524291393034776,-0.14718635781321995,-0.16027150235190996,-0.14255257811646066,-0.1628841633119281,0.2724508730424809,-0.22440128895073236,-0.15264320395784503,-0.1631321387544774,-0.16740781112216838,-0.16411410397061227,-0.22520604639560765,-0.16432484168261993,-0.22535642032490663,-0.35569502698585087,0.30613928411970365,-0.14744715676839493,-0.10497882280302254,-0.16148367110080236,-0.14740567408198005,-0.16398729770491957,-0.1435906704053421,-0.13985690874012677,-0.16965048630812288,-0.09084044011631712,-0.21190304752369127,-0.22317846114955806,0.3061336476809015,-0.16430652764351267,0.3062647202550333,-0.148291232621997,0.4919449078166934,-0.14082836232415388,-0.16427472869868723,-0.21806964497971135,-0.16966289973695636,-0.16240284909535366,-0.14800884122014912,-0.13991265691859184,-0.13511491387146654,-0.19417894942952738,-0.16383588694265863,-0.11367846632216984,-0.16365742488151383,-0.14068582294698717,-0.16256486146735302,-0.03218096446353397,-0.13500911670048527,0.34235537083746875,-0.22440968365745884,-0.16397761465589938,-0.1637402850137915,-0.2248054777174858,-0.22538453639385103,0.30652974076101697,-0.17861346935050093,3.254803933974385,-0.14229458168373635,-0.21623069122013286,-0.1472231287068954,-0.0896844097509268,1.5873889446653096,-0.16407572417199756,-0.16352580828533356,-0.1632259585911754,-0.16321285439603964,0.3067138905293106,0.04326196785184886,-0.179646520081422,-0.18859906875603,-0.16950853196093485,-0.1513987968215673,-0.16240105343757036,-0.22091654988231546,-0.1884440412782516,-0.13821737985260688,-0.18854453325597567,-0.11516619810506666,1.146440953715062,0.306116359738731,-0.06289183850715019,-0.22065716368019755,-0.1297674418273984,-0.08023233260943606,1.0704774501363241,-0.22535846392679085,-0.18859662882309272,-0.181615152455449,-0.16332465379483033,-0.2252836666581317,-0.14720247184724886,-0.20306779500634453,8.06607900926869,-0.17135894033459703,0.31000163225710137,0.02924764405960523,-0.1509007520389686,-0.18069833617679018,-0.16389995233289847,0.14402600082892847,-0.21940819736860606,-0.0911214483621154,0.3140620982631235,-0.1641376252293103,-0.15837595872439164,-0.1684968464559275,-0.14136785696470824,-0.22445056572818617,0.3062993769673208,-0.19423860670643486,-0.14813603359755295,-0.16876961035619067,-0.1436752881181374,0.3102389194033,0.5955526290633455,2.1198893183490175,-0.14505492653246646,0.3199421941515348,-0.18207418260140337,-0.12396825639309453,-0.22534057459348167,-0.16416227172202197,-0.12964601099820905,-0.17367665215908162,-0.1841122530610223,3.1251344523041804,-0.10694012615188139,-0.22531185795748865,-0.1815002640608181,-0.0639617726793702,-0.1430713245760392,-0.14722316637336638,0.3862846107215989,-0.13056358184947947,-0.1309567652089589,-0.126707515100826,-0.16305146155562245,-0.16756310200547905,-0.16934088824459737,-0.17324458980342086,-0.14649730572974765,-0.12277937670927894,-0.1453620636698691,0.5337547118181393,-0.11355575770163316,-0.08127984732603245,-0.14767058926958052,-0.14701269565414943,0.5535043207553818,-0.20769937715927803,-0.16423933917475045,-0.16218932090775356,-0.12569836978895566,-0.13295361793168814,-0.13989015870200514,0.32793381244357933,-0.16962987095853674],\"y\":[-1.3356901212157968,-2.0043771679772497,-1.1237676026504915,-2.2196938691562726,-2.004487492123236,-2.0339778856828077,-1.778324611380663,-1.1237498700736652,-0.921059127514895,-1.1237710016146676,-1.7708879444253771,-1.3283453862735386,-1.3357272985995445,-1.123837829871028,-1.123791523819023,-0.46976695365807725,-1.1621485464264794,-1.1237566927535938,-1.1237494686924527,-1.1237459763785054,-0.9210597631019176,-1.7747055021730445,-1.341682247311002,-1.1274663784953507,-1.123745683254451,-1.123839494614708,-1.1237519352252148,-1.123745946438018,-1.562365975542675,-1.1242527517985572,-1.1237594149310701,-1.1237672514041548,-1.1469645111808375,-1.3356892468727084,-1.123839823354916,-1.1237455884497871,-1.1237406896359934,-1.123752105304969,-2.217923837074239,-1.1237439990648075,-1.1310784439827668,-1.3356910034671086,-1.1238272906594893,-1.123751159714791,-1.1238667866122545,-1.123760479670002,-1.3360012751587826,-1.3356968999862568,-1.3356999257815367,-1.3357258849038078,-1.3356839664032198,-0.9210512200852152,-1.1237461294303632,-1.2455128411294951,-1.1238486273309576,-1.335697028263781,-2.3042567225636854,-2.260280885618543,-1.1237774304514987,-1.1245206663064313,-1.1237909067099943,-1.1237416256384667,-1.1237834248676966,-1.124053964433063,-2.2036901397535504,-1.7702710923021547,-1.5477926552778087,-1.1237392682797143,-1.1277937716707351,-2.1867700867688415,-1.1237404344608353,-1.3356916321687111,-1.172760225702612,-0.9210602278731493,-2.1455409650683017,-1.3357084558544017,-0.921058356888116,-1.1238432926451285,-1.1238525746683727,-2.004413048946332,-2.196908942049516,-0.9210556916924698,-1.335689272275411,-1.1237941039606103,-2.303908958176257,-1.1237657233153322,-1.3411958129504968,-0.9210838382421367,-2.168177144356374,-1.1238298016083323,-2.1482508639031606,-1.123749115356748,-0.9210610991900012,-1.12374043368417,-0.9210644935574948,-1.4520347685775437,-2.256865468704927,-1.335687349915387,-1.7706519865119308,-1.1238145330556617,-1.335687039096584,-1.123753185981489,-2.2519509255651293,-2.0044136598721267,-2.0339783749524,-1.129014257249576,-0.9210901302925733,-0.9211560707821731,-2.2568732222386934,-1.1237414747159074,-2.2568730367589107,-2.1455145203154724,-0.9741856589173453,-2.2197941650343562,-1.1237412045969448,-0.9215759780951581,-2.0339758819576126,-1.1237659514886225,-2.145515772241946,-2.120523777055368,-1.125853856309947,-0.6426095630718872,-1.1237535955047022,-1.3366515952574394,-1.123774858425776,-2.21973548349098,-2.185456027749888,-2.206205109879655,-2.2406048161002814,-2.2574276361673427,-0.9210951205393593,-1.123745533009739,-1.1237788087156528,-0.9210763227255709,-0.921060899085348,-2.256887160200645,-2.145893989944268,-1.1852206002818655,-1.1579185916730992,-0.9216037977058333,-1.3356901022991183,-1.1293348125046976,-1.0841988414027273,-1.1237482490154784,-1.1237802070682705,-1.1237845314122137,-1.1237842356132397,-2.2569071918928767,-2.0437170819889734,-0.9212632990681491,-1.5622578776107279,-2.033975170638834,-2.168236623041886,-1.1237659109555165,-0.921189595644922,-1.5622668576048062,-2.0045526068156385,-1.5622599744307446,-1.770507562399941,-2.296821061345148,-2.256867719424191,-2.0095911739165366,-0.9213224006202658,-2.2201091688629555,-1.125308300574535,-1.2253928956843694,-0.9210609345258438,-1.5622536627326964,-1.5624281617881435,-1.1237618004330028,-0.9210614646996051,-1.3356890578025638,-1.147107862255667,-2.7749949143613546,-2.171046649267013,-2.2570043004145006,-1.1263035274627382,-2.168186343279196,-1.2458903317431296,-1.1237581473508915,-1.1295412149800397,-0.9212595428814985,-2.007801845491388,-2.257372995541483,-1.1237503395987904,-2.1490917989186444,-2.033986305732808,-2.2520939038040977,-0.9210960433640315,-2.256867678676313,-0.6425920158866082,-2.1455223039614326,-2.1795618277363453,-2.2519452786544267,-2.257181975806766,-2.2946986952963364,-2.343484291397396,-2.095292053491876,-2.257240265044669,-1.2542312907154574,-2.234603256651874,-0.9210613626730446,-1.1237516622194352,-2.220626762513872,-2.1150175121820864,-0.8344567770361518,-2.3653879466131067,-1.3362221716248441,-0.9210634876580543,-1.2542723606814175,-2.0368472029095535,-2.2519826030506875,-1.3356901031493575,-2.2606512940418684,-2.178564980375577,-2.178518467048913,-2.264358503514862,-1.1237944585235704,-2.034098896761347,-2.033978240409871,-1.5478441238748188,-1.335703530322006,-0.3286243044329947,-1.3357500079094506,-1.1759951237493431,-1.563318418627052,-2.1822327286167953,-1.1240573727319034,-1.3356999115326063,-1.1422015744348157,-1.162153168983923,-1.1237415427671757,-1.123817982174423,-1.7702896665282704,-2.1475511074780624,-2.004413219609255,-2.257337345934247,-2.0339779096052966],\"z\":[0.13841830576093386,0.3160491708149093,-0.008987922528278994,0.2525742408078153,0.3160221736095132,0.35152137357828733,0.2568844307879685,-0.008966975488259522,0.05763988535000448,-0.008973723197962297,0.26145518948465624,-0.05592990176553536,0.1383648988198909,-0.009023462952729242,-0.008977005437633521,0.055038788541600644,0.11398182304979022,-0.008976696776388933,-0.008967311121763149,-0.008965768030277523,0.05764155253843971,0.2563822667824352,0.1315158393699331,-0.013513381733690415,-0.008970476491193554,-0.009050345868298644,-0.008971495036963813,-0.008964711761544878,0.24019696568476073,-0.009341244965535178,-0.008986819079131809,-0.008981541484178172,-0.040990846256676254,0.13841757463842788,-0.009030552809439608,-0.008969987910063253,-0.008963493757577878,-0.008977031381337977,0.42697285342386987,-0.008965638383534305,-0.011344770432733978,0.13841904349624937,-0.009081679313578986,-0.00896589709506033,-0.00899924943148035,-0.008975253047172446,0.1381861600143258,0.13840920308036592,0.1384145793176546,0.13841470769599715,0.1384249421503483,0.057644630315074726,-0.008971239113414213,0.08931019426090746,-0.009023190956830596,0.1384104528545574,0.30572545966099013,0.3680254859759181,-0.008991697685075888,-0.009264512334899581,-0.00901521917986179,-0.00896343679626407,-0.009017849137810438,-0.009268624354633121,0.4335295317714919,0.2620750928809278,0.20285685591588828,-0.008965830119748368,-0.011252119201113542,0.38462134248160834,-0.008963292302487241,0.1384195692142329,-0.020215563014950352,0.057633423331781564,0.32092917566231405,0.13841503414164294,0.05763867309826228,-0.008996317028752502,-0.009011133407044937,0.31606957394371266,0.2452266043440561,0.05763928375361943,0.13841759588007538,-0.009037312141537896,0.27658805896594774,-0.008989494021473698,0.13075344760043828,0.05762420555743106,0.46839784585590705,-0.008983811416206092,0.3530032405308046,-0.008967038723344098,0.057638694775305574,-0.008963291231326893,0.05764153313300559,0.46862023173890344,0.3708424127064129,0.13842238474463311,0.2617121674947317,-0.009014550842430283,0.13842161246335155,-0.008969313446246947,0.326169136219986,0.31606480421991984,0.3515217827037311,-0.01023155361793334,0.05739323866618606,0.05760283481559623,0.37084264976214004,-0.008963611995217953,0.3708402232388463,0.3209387428571146,0.045289809559680656,0.2525530544125372,-0.008964204540564078,0.05751557460197794,0.35152196949637216,-0.008998388926910881,0.32093354329200324,0.29602645318363424,-0.009467130674290673,-0.03425164069617308,-0.0089721057991471,0.13781457071726827,-0.008975040998154674,0.25254941363584804,0.36660231428423035,0.25280679439420073,0.37361186439113375,0.37018246076095473,0.05762455407005069,-0.008969623595047995,-0.008973441349521964,0.057631549664593336,0.057641991372835336,0.37083556537235324,0.44957547994463914,-0.07112473929040042,0.1496988213287118,0.05748205161438028,0.13841828994286717,-0.010247434706596087,-0.04202747621669453,-0.00896776315474951,-0.008977382760169265,-0.008982852462667851,-0.008983099808689436,0.3708325039203446,0.34775219361145354,0.056799828386200374,0.24028204223019203,0.35151910326843055,0.4683758576233545,-0.008998422820545946,0.05756158969716928,0.24027932985244307,0.31603687232636574,0.24028106987249828,0.2618980430597326,0.35599101413061207,0.3708428751085295,0.3147305390938576,0.057559069443614316,0.25235395088581314,-0.010491178831343876,-0.03005362294499802,0.057641509937248744,0.2402819249032434,0.24015583713921626,-0.008981417192462891,0.05764013612598959,0.13841789013093803,0.10672886504813493,0.23624959692837041,0.3671530543333134,0.37077338207402355,-0.01249825596469613,0.46836578801046924,0.08904890838580548,-0.008970843331717226,-0.014564871167879207,0.0575349008542624,0.3152218067554338,0.37070462691350975,-0.008966582873064548,0.3349180794884076,0.35150058942756857,0.3261304892957923,0.05762532573267062,0.37083949068228084,-0.03425083836459117,0.3209360068099545,0.21707802985227265,0.32617060392912456,0.37077203919262225,0.32743933246425255,0.3387928486740158,0.39046117540370817,0.37059363815687385,0.15881225260926332,0.283425070980955,0.05764118652464117,-0.00896610453322911,0.2523605740484655,0.24357243172137943,0.08760641407759923,0.28188212640393007,0.13768263082189872,0.05764069200356733,0.158802345348866,0.34961690217153096,0.3261600770042917,0.13841829065383443,0.3694255045196794,0.300131077368377,0.30013754982809443,0.31707203140515805,-0.008985908577296616,0.3514852549119269,0.35151605637095107,0.20284310812428538,0.1384051005794536,-0.07585577512768678,0.13838490789810595,-0.020974477394169213,0.2389127691011013,0.29928273301114977,-0.009265774347591982,0.13841456740275104,-0.02191862492747433,0.11397376343010925,-0.008964853048420362,-0.009001445285922048,0.2620890345829185,0.24969937963957906,0.31606541142110345,0.3704475478538981,0.35152139358218226],\"type\":\"scatter3d\"},{\"customdata\":[[\"Proof-of-BibleHash\"],[\"Proof-of-Authority\"],[\"ECC 256K1\"],[\"Leased POS\"]],\"hovertemplate\":\"<b>%{hovertext}</b><br><br>Class=%{marker.color}<br>PC 1=%{x}<br>PC 2=%{y}<br>PC 3=%{z}<br>Algorithm=%{customdata[0]}<extra></extra>\",\"hovertext\":[\"BiblePay\",\"Poa Network\",\"Acute Angle Cloud\",\"Waves\"],\"legendgroup\":\"1\",\"marker\":{\"color\":[1,1,1,1],\"coloraxis\":\"coloraxis\",\"symbol\":\"square\"},\"mode\":\"markers\",\"name\":\"1\",\"scene\":\"scene\",\"showlegend\":true,\"x\":[-0.10925682213075134,-0.2841857430926417,-0.30570967882813815,-0.4522174050290269],\"y\":[3.8068962518633995,3.633120585820073,2.5298432158924014,2.7619335488326793],\"z\":[15.622825172017327,8.141586039584853,13.398831958257714,21.26687405921393],\"type\":\"scatter3d\"},{\"customdata\":[[\"TRC10\"]],\"hovertemplate\":\"<b>%{hovertext}</b><br><br>Class=%{marker.color}<br>PC 1=%{x}<br>PC 2=%{y}<br>PC 3=%{z}<br>Algorithm=%{customdata[0]}<extra></extra>\",\"hovertext\":[\"BitTorrent\"],\"legendgroup\":\"2\",\"marker\":{\"color\":[2],\"coloraxis\":\"coloraxis\",\"symbol\":\"x\"},\"mode\":\"markers\",\"name\":\"2\",\"scene\":\"scene\",\"showlegend\":true,\"x\":[34.08612375678413],\"y\":[1.4169930049879225],\"z\":[0.07541190057080933],\"type\":\"scatter3d\"}],                        {\"template\":{\"data\":{\"histogram2dcontour\":[{\"type\":\"histogram2dcontour\",\"colorbar\":{\"outlinewidth\":0,\"ticks\":\"\"},\"colorscale\":[[0.0,\"#0d0887\"],[0.1111111111111111,\"#46039f\"],[0.2222222222222222,\"#7201a8\"],[0.3333333333333333,\"#9c179e\"],[0.4444444444444444,\"#bd3786\"],[0.5555555555555556,\"#d8576b\"],[0.6666666666666666,\"#ed7953\"],[0.7777777777777778,\"#fb9f3a\"],[0.8888888888888888,\"#fdca26\"],[1.0,\"#f0f921\"]]}],\"choropleth\":[{\"type\":\"choropleth\",\"colorbar\":{\"outlinewidth\":0,\"ticks\":\"\"}}],\"histogram2d\":[{\"type\":\"histogram2d\",\"colorbar\":{\"outlinewidth\":0,\"ticks\":\"\"},\"colorscale\":[[0.0,\"#0d0887\"],[0.1111111111111111,\"#46039f\"],[0.2222222222222222,\"#7201a8\"],[0.3333333333333333,\"#9c179e\"],[0.4444444444444444,\"#bd3786\"],[0.5555555555555556,\"#d8576b\"],[0.6666666666666666,\"#ed7953\"],[0.7777777777777778,\"#fb9f3a\"],[0.8888888888888888,\"#fdca26\"],[1.0,\"#f0f921\"]]}],\"heatmap\":[{\"type\":\"heatmap\",\"colorbar\":{\"outlinewidth\":0,\"ticks\":\"\"},\"colorscale\":[[0.0,\"#0d0887\"],[0.1111111111111111,\"#46039f\"],[0.2222222222222222,\"#7201a8\"],[0.3333333333333333,\"#9c179e\"],[0.4444444444444444,\"#bd3786\"],[0.5555555555555556,\"#d8576b\"],[0.6666666666666666,\"#ed7953\"],[0.7777777777777778,\"#fb9f3a\"],[0.8888888888888888,\"#fdca26\"],[1.0,\"#f0f921\"]]}],\"heatmapgl\":[{\"type\":\"heatmapgl\",\"colorbar\":{\"outlinewidth\":0,\"ticks\":\"\"},\"colorscale\":[[0.0,\"#0d0887\"],[0.1111111111111111,\"#46039f\"],[0.2222222222222222,\"#7201a8\"],[0.3333333333333333,\"#9c179e\"],[0.4444444444444444,\"#bd3786\"],[0.5555555555555556,\"#d8576b\"],[0.6666666666666666,\"#ed7953\"],[0.7777777777777778,\"#fb9f3a\"],[0.8888888888888888,\"#fdca26\"],[1.0,\"#f0f921\"]]}],\"contourcarpet\":[{\"type\":\"contourcarpet\",\"colorbar\":{\"outlinewidth\":0,\"ticks\":\"\"}}],\"contour\":[{\"type\":\"contour\",\"colorbar\":{\"outlinewidth\":0,\"ticks\":\"\"},\"colorscale\":[[0.0,\"#0d0887\"],[0.1111111111111111,\"#46039f\"],[0.2222222222222222,\"#7201a8\"],[0.3333333333333333,\"#9c179e\"],[0.4444444444444444,\"#bd3786\"],[0.5555555555555556,\"#d8576b\"],[0.6666666666666666,\"#ed7953\"],[0.7777777777777778,\"#fb9f3a\"],[0.8888888888888888,\"#fdca26\"],[1.0,\"#f0f921\"]]}],\"surface\":[{\"type\":\"surface\",\"colorbar\":{\"outlinewidth\":0,\"ticks\":\"\"},\"colorscale\":[[0.0,\"#0d0887\"],[0.1111111111111111,\"#46039f\"],[0.2222222222222222,\"#7201a8\"],[0.3333333333333333,\"#9c179e\"],[0.4444444444444444,\"#bd3786\"],[0.5555555555555556,\"#d8576b\"],[0.6666666666666666,\"#ed7953\"],[0.7777777777777778,\"#fb9f3a\"],[0.8888888888888888,\"#fdca26\"],[1.0,\"#f0f921\"]]}],\"mesh3d\":[{\"type\":\"mesh3d\",\"colorbar\":{\"outlinewidth\":0,\"ticks\":\"\"}}],\"scatter\":[{\"fillpattern\":{\"fillmode\":\"overlay\",\"size\":10,\"solidity\":0.2},\"type\":\"scatter\"}],\"parcoords\":[{\"type\":\"parcoords\",\"line\":{\"colorbar\":{\"outlinewidth\":0,\"ticks\":\"\"}}}],\"scatterpolargl\":[{\"type\":\"scatterpolargl\",\"marker\":{\"colorbar\":{\"outlinewidth\":0,\"ticks\":\"\"}}}],\"bar\":[{\"error_x\":{\"color\":\"#2a3f5f\"},\"error_y\":{\"color\":\"#2a3f5f\"},\"marker\":{\"line\":{\"color\":\"#E5ECF6\",\"width\":0.5},\"pattern\":{\"fillmode\":\"overlay\",\"size\":10,\"solidity\":0.2}},\"type\":\"bar\"}],\"scattergeo\":[{\"type\":\"scattergeo\",\"marker\":{\"colorbar\":{\"outlinewidth\":0,\"ticks\":\"\"}}}],\"scatterpolar\":[{\"type\":\"scatterpolar\",\"marker\":{\"colorbar\":{\"outlinewidth\":0,\"ticks\":\"\"}}}],\"histogram\":[{\"marker\":{\"pattern\":{\"fillmode\":\"overlay\",\"size\":10,\"solidity\":0.2}},\"type\":\"histogram\"}],\"scattergl\":[{\"type\":\"scattergl\",\"marker\":{\"colorbar\":{\"outlinewidth\":0,\"ticks\":\"\"}}}],\"scatter3d\":[{\"type\":\"scatter3d\",\"line\":{\"colorbar\":{\"outlinewidth\":0,\"ticks\":\"\"}},\"marker\":{\"colorbar\":{\"outlinewidth\":0,\"ticks\":\"\"}}}],\"scattermapbox\":[{\"type\":\"scattermapbox\",\"marker\":{\"colorbar\":{\"outlinewidth\":0,\"ticks\":\"\"}}}],\"scatterternary\":[{\"type\":\"scatterternary\",\"marker\":{\"colorbar\":{\"outlinewidth\":0,\"ticks\":\"\"}}}],\"scattercarpet\":[{\"type\":\"scattercarpet\",\"marker\":{\"colorbar\":{\"outlinewidth\":0,\"ticks\":\"\"}}}],\"carpet\":[{\"aaxis\":{\"endlinecolor\":\"#2a3f5f\",\"gridcolor\":\"white\",\"linecolor\":\"white\",\"minorgridcolor\":\"white\",\"startlinecolor\":\"#2a3f5f\"},\"baxis\":{\"endlinecolor\":\"#2a3f5f\",\"gridcolor\":\"white\",\"linecolor\":\"white\",\"minorgridcolor\":\"white\",\"startlinecolor\":\"#2a3f5f\"},\"type\":\"carpet\"}],\"table\":[{\"cells\":{\"fill\":{\"color\":\"#EBF0F8\"},\"line\":{\"color\":\"white\"}},\"header\":{\"fill\":{\"color\":\"#C8D4E3\"},\"line\":{\"color\":\"white\"}},\"type\":\"table\"}],\"barpolar\":[{\"marker\":{\"line\":{\"color\":\"#E5ECF6\",\"width\":0.5},\"pattern\":{\"fillmode\":\"overlay\",\"size\":10,\"solidity\":0.2}},\"type\":\"barpolar\"}],\"pie\":[{\"automargin\":true,\"type\":\"pie\"}]},\"layout\":{\"autotypenumbers\":\"strict\",\"colorway\":[\"#636efa\",\"#EF553B\",\"#00cc96\",\"#ab63fa\",\"#FFA15A\",\"#19d3f3\",\"#FF6692\",\"#B6E880\",\"#FF97FF\",\"#FECB52\"],\"font\":{\"color\":\"#2a3f5f\"},\"hovermode\":\"closest\",\"hoverlabel\":{\"align\":\"left\"},\"paper_bgcolor\":\"white\",\"plot_bgcolor\":\"#E5ECF6\",\"polar\":{\"bgcolor\":\"#E5ECF6\",\"angularaxis\":{\"gridcolor\":\"white\",\"linecolor\":\"white\",\"ticks\":\"\"},\"radialaxis\":{\"gridcolor\":\"white\",\"linecolor\":\"white\",\"ticks\":\"\"}},\"ternary\":{\"bgcolor\":\"#E5ECF6\",\"aaxis\":{\"gridcolor\":\"white\",\"linecolor\":\"white\",\"ticks\":\"\"},\"baxis\":{\"gridcolor\":\"white\",\"linecolor\":\"white\",\"ticks\":\"\"},\"caxis\":{\"gridcolor\":\"white\",\"linecolor\":\"white\",\"ticks\":\"\"}},\"coloraxis\":{\"colorbar\":{\"outlinewidth\":0,\"ticks\":\"\"}},\"colorscale\":{\"sequential\":[[0.0,\"#0d0887\"],[0.1111111111111111,\"#46039f\"],[0.2222222222222222,\"#7201a8\"],[0.3333333333333333,\"#9c179e\"],[0.4444444444444444,\"#bd3786\"],[0.5555555555555556,\"#d8576b\"],[0.6666666666666666,\"#ed7953\"],[0.7777777777777778,\"#fb9f3a\"],[0.8888888888888888,\"#fdca26\"],[1.0,\"#f0f921\"]],\"sequentialminus\":[[0.0,\"#0d0887\"],[0.1111111111111111,\"#46039f\"],[0.2222222222222222,\"#7201a8\"],[0.3333333333333333,\"#9c179e\"],[0.4444444444444444,\"#bd3786\"],[0.5555555555555556,\"#d8576b\"],[0.6666666666666666,\"#ed7953\"],[0.7777777777777778,\"#fb9f3a\"],[0.8888888888888888,\"#fdca26\"],[1.0,\"#f0f921\"]],\"diverging\":[[0,\"#8e0152\"],[0.1,\"#c51b7d\"],[0.2,\"#de77ae\"],[0.3,\"#f1b6da\"],[0.4,\"#fde0ef\"],[0.5,\"#f7f7f7\"],[0.6,\"#e6f5d0\"],[0.7,\"#b8e186\"],[0.8,\"#7fbc41\"],[0.9,\"#4d9221\"],[1,\"#276419\"]]},\"xaxis\":{\"gridcolor\":\"white\",\"linecolor\":\"white\",\"ticks\":\"\",\"title\":{\"standoff\":15},\"zerolinecolor\":\"white\",\"automargin\":true,\"zerolinewidth\":2},\"yaxis\":{\"gridcolor\":\"white\",\"linecolor\":\"white\",\"ticks\":\"\",\"title\":{\"standoff\":15},\"zerolinecolor\":\"white\",\"automargin\":true,\"zerolinewidth\":2},\"scene\":{\"xaxis\":{\"backgroundcolor\":\"#E5ECF6\",\"gridcolor\":\"white\",\"linecolor\":\"white\",\"showbackground\":true,\"ticks\":\"\",\"zerolinecolor\":\"white\",\"gridwidth\":2},\"yaxis\":{\"backgroundcolor\":\"#E5ECF6\",\"gridcolor\":\"white\",\"linecolor\":\"white\",\"showbackground\":true,\"ticks\":\"\",\"zerolinecolor\":\"white\",\"gridwidth\":2},\"zaxis\":{\"backgroundcolor\":\"#E5ECF6\",\"gridcolor\":\"white\",\"linecolor\":\"white\",\"showbackground\":true,\"ticks\":\"\",\"zerolinecolor\":\"white\",\"gridwidth\":2}},\"shapedefaults\":{\"line\":{\"color\":\"#2a3f5f\"}},\"annotationdefaults\":{\"arrowcolor\":\"#2a3f5f\",\"arrowhead\":0,\"arrowwidth\":1},\"geo\":{\"bgcolor\":\"white\",\"landcolor\":\"#E5ECF6\",\"subunitcolor\":\"white\",\"showland\":true,\"showlakes\":true,\"lakecolor\":\"white\"},\"title\":{\"x\":0.05},\"mapbox\":{\"style\":\"light\"}}},\"scene\":{\"domain\":{\"x\":[0.0,1.0],\"y\":[0.0,1.0]},\"xaxis\":{\"title\":{\"text\":\"PC 1\"}},\"yaxis\":{\"title\":{\"text\":\"PC 2\"}},\"zaxis\":{\"title\":{\"text\":\"PC 3\"}}},\"coloraxis\":{\"colorbar\":{\"title\":{\"text\":\"Class\"}},\"colorscale\":[[0.0,\"#0d0887\"],[0.1111111111111111,\"#46039f\"],[0.2222222222222222,\"#7201a8\"],[0.3333333333333333,\"#9c179e\"],[0.4444444444444444,\"#bd3786\"],[0.5555555555555556,\"#d8576b\"],[0.6666666666666666,\"#ed7953\"],[0.7777777777777778,\"#fb9f3a\"],[0.8888888888888888,\"#fdca26\"],[1.0,\"#f0f921\"]]},\"legend\":{\"title\":{\"text\":\"Class\"},\"tracegroupgap\":0,\"x\":0,\"y\":1},\"margin\":{\"t\":60},\"width\":800},                        {\"responsive\": true}                    ).then(function(){\n",
       "                            \n",
       "var gd = document.getElementById('0842b94e-c0ca-45a8-94a2-654172bfde94');\n",
       "var x = new MutationObserver(function (mutations, observer) {{\n",
       "        var display = window.getComputedStyle(gd).display;\n",
       "        if (!display || display === 'none') {{\n",
       "            console.log([gd, 'removed!']);\n",
       "            Plotly.purge(gd);\n",
       "            observer.disconnect();\n",
       "        }}\n",
       "}});\n",
       "\n",
       "// Listen for the removal of the full notebook cells\n",
       "var notebookContainer = gd.closest('#notebook-container');\n",
       "if (notebookContainer) {{\n",
       "    x.observe(notebookContainer, {childList: true});\n",
       "}}\n",
       "\n",
       "// Listen for the clearing of the current output cell\n",
       "var outputEl = gd.closest('.output');\n",
       "if (outputEl) {{\n",
       "    x.observe(outputEl, {childList: true});\n",
       "}}\n",
       "\n",
       "                        })                };                });            </script>        </div>"
      ]
     },
     "metadata": {},
     "output_type": "display_data"
    }
   ],
   "source": [
    "# Creating a 3D-Scatter with the PCA data and the clusters\n",
    "fig = px.scatter_3d(\n",
    "    clustered_df,\n",
    "    x=\"PC 1\",\n",
    "    y=\"PC 2\",\n",
    "    z=\"PC 3\",\n",
    "    color=\"Class\",\n",
    "    symbol=\"Class\",\n",
    "    width=800,\n",
    "    hover_name = \"CoinName\",\n",
    "    hover_data = [\"Algorithm\"],\n",
    ")\n",
    "fig.update_layout(legend=dict(x=0, y=1))\n",
    "fig.show()\n"
   ]
  },
  {
   "cell_type": "code",
   "execution_count": 105,
   "metadata": {},
   "outputs": [
    {
     "data": {},
     "metadata": {},
     "output_type": "display_data"
    },
    {
     "data": {
      "application/vnd.holoviews_exec.v0+json": "",
      "text/html": [
       "<div id='1438'>\n",
       "  <div class=\"bk-root\" id=\"4d9fc2ba-df43-472a-94f9-9cdece553d1a\" data-root-id=\"1438\"></div>\n",
       "</div>\n",
       "<script type=\"application/javascript\">(function(root) {\n",
       "  function embed_document(root) {\n",
       "    var docs_json = {\"a199754b-a2f1-402a-86e7-4a593288a7a5\":{\"defs\":[{\"extends\":null,\"module\":null,\"name\":\"ReactiveHTML1\",\"overrides\":[],\"properties\":[]},{\"extends\":null,\"module\":null,\"name\":\"FlexBox1\",\"overrides\":[],\"properties\":[{\"default\":\"flex-start\",\"kind\":null,\"name\":\"align_content\"},{\"default\":\"flex-start\",\"kind\":null,\"name\":\"align_items\"},{\"default\":\"row\",\"kind\":null,\"name\":\"flex_direction\"},{\"default\":\"wrap\",\"kind\":null,\"name\":\"flex_wrap\"},{\"default\":\"flex-start\",\"kind\":null,\"name\":\"justify_content\"}]},{\"extends\":null,\"module\":null,\"name\":\"GridStack1\",\"overrides\":[],\"properties\":[{\"default\":\"warn\",\"kind\":null,\"name\":\"mode\"},{\"default\":null,\"kind\":null,\"name\":\"ncols\"},{\"default\":null,\"kind\":null,\"name\":\"nrows\"},{\"default\":true,\"kind\":null,\"name\":\"allow_resize\"},{\"default\":true,\"kind\":null,\"name\":\"allow_drag\"},{\"default\":[],\"kind\":null,\"name\":\"state\"}]},{\"extends\":null,\"module\":null,\"name\":\"click1\",\"overrides\":[],\"properties\":[{\"default\":\"\",\"kind\":null,\"name\":\"terminal_output\"},{\"default\":\"\",\"kind\":null,\"name\":\"debug_name\"},{\"default\":0,\"kind\":null,\"name\":\"clears\"}]},{\"extends\":null,\"module\":null,\"name\":\"NotificationAreaBase1\",\"overrides\":[],\"properties\":[{\"default\":\"bottom-right\",\"kind\":null,\"name\":\"position\"},{\"default\":0,\"kind\":null,\"name\":\"_clear\"}]},{\"extends\":null,\"module\":null,\"name\":\"NotificationArea1\",\"overrides\":[],\"properties\":[{\"default\":[],\"kind\":null,\"name\":\"notifications\"},{\"default\":\"bottom-right\",\"kind\":null,\"name\":\"position\"},{\"default\":0,\"kind\":null,\"name\":\"_clear\"},{\"default\":[{\"background\":\"#ffc107\",\"icon\":{\"className\":\"fas fa-exclamation-triangle\",\"color\":\"white\",\"tagName\":\"i\"},\"type\":\"warning\"},{\"background\":\"#007bff\",\"icon\":{\"className\":\"fas fa-info-circle\",\"color\":\"white\",\"tagName\":\"i\"},\"type\":\"info\"}],\"kind\":null,\"name\":\"types\"}]},{\"extends\":null,\"module\":null,\"name\":\"Notification\",\"overrides\":[],\"properties\":[{\"default\":null,\"kind\":null,\"name\":\"background\"},{\"default\":3000,\"kind\":null,\"name\":\"duration\"},{\"default\":null,\"kind\":null,\"name\":\"icon\"},{\"default\":\"\",\"kind\":null,\"name\":\"message\"},{\"default\":null,\"kind\":null,\"name\":\"notification_type\"},{\"default\":false,\"kind\":null,\"name\":\"_destroyed\"}]},{\"extends\":null,\"module\":null,\"name\":\"TemplateActions1\",\"overrides\":[],\"properties\":[{\"default\":0,\"kind\":null,\"name\":\"open_modal\"},{\"default\":0,\"kind\":null,\"name\":\"close_modal\"}]},{\"extends\":null,\"module\":null,\"name\":\"MaterialTemplateActions1\",\"overrides\":[],\"properties\":[{\"default\":0,\"kind\":null,\"name\":\"open_modal\"},{\"default\":0,\"kind\":null,\"name\":\"close_modal\"}]}],\"roots\":{\"references\":[{\"attributes\":{\"format\":\"0,0.0[00000]\"},\"id\":\"1462\",\"type\":\"NumberFormatter\"},{\"attributes\":{},\"id\":\"1448\",\"type\":\"StringEditor\"},{\"attributes\":{},\"id\":\"1468\",\"type\":\"NumberEditor\"},{\"attributes\":{},\"id\":\"1483\",\"type\":\"IntEditor\"},{\"attributes\":{},\"id\":\"1463\",\"type\":\"NumberEditor\"},{\"attributes\":{\"data\":{\"Algorithm\":[\"Scrypt\",\"Scrypt\",\"X13\",\"SHA-256\",\"Ethash\",\"Scrypt\",\"X11\",\"CryptoNight-V7\",\"Ethash\",\"Equihash\",\"SHA-512\",\"Multiple\",\"SHA-256\",\"SHA-256\",\"Scrypt\",\"X15\",\"X11\",\"Scrypt\",\"Scrypt\",\"Scrypt\",\"Multiple\",\"Scrypt\",\"SHA-256\",\"Scrypt\",\"Scrypt\",\"Scrypt\",\"Quark\",\"Groestl\",\"Scrypt\",\"Scrypt\",\"Scrypt\",\"Scrypt\",\"Scrypt\",\"X11\",\"Scrypt\",\"Groestl\",\"Multiple\",\"SHA-256\",\"Scrypt\",\"Scrypt\",\"Scrypt\",\"Scrypt\",\"PoS\",\"Scrypt\",\"Scrypt\",\"NeoScrypt\",\"Scrypt\",\"Scrypt\",\"Scrypt\",\"Scrypt\",\"X11\",\"Scrypt\",\"X11\",\"SHA-256\",\"Scrypt\",\"Scrypt\",\"Scrypt\",\"SHA3\",\"Scrypt\",\"HybridScryptHash256\",\"Scrypt\",\"Scrypt\",\"SHA-256\",\"Scrypt\",\"X13\",\"Scrypt\",\"SHA-256\",\"Scrypt\",\"X13\",\"NeoScrypt\",\"Scrypt\",\"Scrypt\",\"Scrypt\",\"Scrypt\",\"Scrypt\",\"Scrypt\",\"X11\",\"X11\",\"SHA-256\",\"Multiple\",\"SHA-256\",\"PHI1612\",\"X11\",\"SHA-256\",\"SHA-256\",\"SHA-256\",\"X11\",\"Scrypt\",\"Scrypt\",\"Scrypt\",\"Scrypt\",\"Lyra2REv2\",\"Scrypt\",\"X11\",\"Multiple\",\"SHA-256\",\"X13\",\"Scrypt\",\"CryptoNight\",\"CryptoNight\",\"Shabal256\",\"Counterparty\",\"Scrypt\",\"SHA-256\",\"Groestl\",\"Scrypt\",\"Scrypt\",\"Scrypt\",\"X13\",\"Scrypt\",\"Scrypt\",\"Scrypt\",\"Scrypt\",\"X13\",\"Scrypt\",\"Stanford Folding\",\"X11\",\"Multiple\",\"QuBit\",\"Scrypt\",\"Scrypt\",\"Scrypt\",\"M7 POW\",\"Scrypt\",\"SHA-256\",\"Scrypt\",\"X11\",\"SHA3\",\"X11\",\"Lyra2RE\",\"SHA-256\",\"QUAIT\",\"X11\",\"X11\",\"Scrypt\",\"Scrypt\",\"Scrypt\",\"Ethash\",\"X13\",\"Blake2b\",\"SHA-256\",\"X15\",\"X11\",\"SHA-256\",\"BLAKE256\",\"Scrypt\",\"1GB AES Pattern Search\",\"SHA-256\",\"X11\",\"Scrypt\",\"SHA-256\",\"SHA-256\",\"NIST5\",\"Scrypt\",\"Scrypt\",\"X11\",\"Dagger\",\"Scrypt\",\"X11GOST\",\"X11\",\"Scrypt\",\"SHA-256\",\"Scrypt\",\"PoS\",\"Scrypt\",\"X11\",\"X11\",\"SHA-256\",\"SHA-256\",\"NIST5\",\"X11\",\"Scrypt\",\"POS 3.0\",\"Scrypt\",\"Scrypt\",\"Scrypt\",\"X13\",\"X11\",\"X11\",\"Equihash\",\"X11\",\"Scrypt\",\"CryptoNight\",\"SHA-256\",\"SHA-256\",\"X11\",\"Scrypt\",\"Multiple\",\"Scrypt\",\"Scrypt\",\"Scrypt\",\"SHA-256\",\"Scrypt\",\"Scrypt\",\"SHA-256D\",\"PoS\",\"Scrypt\",\"X11\",\"Lyra2Z\",\"PoS\",\"X13\",\"X14\",\"PoS\",\"SHA-256D\",\"Ethash\",\"Equihash\",\"DPoS\",\"X11\",\"Scrypt\",\"X11\",\"X13\",\"X11\",\"PoS\",\"Scrypt\",\"Scrypt\",\"X11\",\"PoS\",\"X11\",\"SHA-256\",\"Scrypt\",\"X11\",\"Scrypt\",\"Scrypt\",\"X11\",\"CryptoNight\",\"Scrypt\",\"Scrypt\",\"Scrypt\",\"Scrypt\",\"Quark\",\"QuBit\",\"Scrypt\",\"CryptoNight\",\"Lyra2RE\",\"Scrypt\",\"SHA-256\",\"X11\",\"Scrypt\",\"X11\",\"Scrypt\",\"CryptoNight-V7\",\"Scrypt\",\"Scrypt\",\"Scrypt\",\"X13\",\"X11\",\"Equihash\",\"Scrypt\",\"Scrypt\",\"Lyra2RE\",\"Scrypt\",\"Dagger-Hashimoto\",\"X11\",\"Blake2S\",\"X11\",\"Scrypt\",\"PoS\",\"X11\",\"NIST5\",\"PoS\",\"X11\",\"Scrypt\",\"Scrypt\",\"Scrypt\",\"SHA-256\",\"X11\",\"Scrypt\",\"Scrypt\",\"SHA-256\",\"PoS\",\"Scrypt\",\"X15\",\"SHA-256\",\"Scrypt\",\"POS 3.0\",\"CryptoNight-V7\",\"536\",\"Argon2d\",\"Blake2b\",\"Cloverhash\",\"CryptoNight\",\"NIST5\",\"X11\",\"NIST5\",\"Skein\",\"Scrypt\",\"X13\",\"Scrypt\",\"X11\",\"X11\",\"Scrypt\",\"CryptoNight\",\"X13\",\"Time Travel\",\"Scrypt\",\"Keccak\",\"SkunkHash v2 Raptor\",\"X11\",\"Skein\",\"SHA-256\",\"X11\",\"Scrypt\",\"VeChainThor Authority\",\"Scrypt\",\"PoS\",\"Scrypt\",\"Scrypt\",\"Scrypt\",\"Scrypt\",\"Scrypt\",\"Scrypt\",\"Scrypt\",\"CryptoNight\",\"SHA-512\",\"Ouroboros\",\"X11\",\"Equihash\",\"NeoScrypt\",\"X11\",\"Scrypt\",\"NeoScrypt\",\"Lyra2REv2\",\"Equihash\",\"Scrypt\",\"SHA-256\",\"NIST5\",\"PHI1612\",\"Dagger\",\"Scrypt\",\"Quark\",\"Scrypt\",\"POS 2.0\",\"Scrypt\",\"SHA-256\",\"X11\",\"NeoScrypt\",\"Ethash\",\"NeoScrypt\",\"X11\",\"DPoS\",\"NIST5\",\"X13\",\"Multiple\",\"Scrypt\",\"CryptoNight\",\"CryptoNight\",\"Ethash\",\"NIST5\",\"Quark\",\"X11\",\"CryptoNight-V7\",\"Scrypt\",\"Scrypt\",\"Scrypt\",\"X11\",\"BLAKE256\",\"X11\",\"NeoScrypt\",\"Quark\",\"NeoScrypt\",\"Scrypt\",\"Scrypt\",\"Scrypt\",\"X11\",\"X11\",\"SHA-256\",\"C11\",\"POS 3.0\",\"Ethash\",\"Scrypt\",\"CryptoNight\",\"SkunkHash\",\"Scrypt\",\"CryptoNight\",\"Scrypt\",\"Dagger\",\"Lyra2REv2\",\"X13\",\"Proof-of-BibleHash\",\"SHA-256 + Hive\",\"Scrypt\",\"Scrypt\",\"X11\",\"C11\",\"Proof-of-Authority\",\"X11\",\"XEVAN\",\"Scrypt\",\"VBFT\",\"Ethash\",\"CryptoNight\",\"Scrypt\",\"IMesh\",\"NIST5\",\"Scrypt\",\"Scrypt\",\"Equihash\",\"Scrypt\",\"Lyra2Z\",\"Green Protocol\",\"PoS\",\"Scrypt\",\"Semux BFT consensus\",\"X11\",\"Quark\",\"PoS\",\"CryptoNight\",\"X16R\",\"Scrypt\",\"NIST5\",\"Lyra2RE\",\"XEVAN\",\"Tribus\",\"Scrypt\",\"Lyra2Z\",\"CryptoNight\",\"CryptoNight Heavy\",\"CryptoNight\",\"Scrypt\",\"Scrypt\",\"Jump Consistent Hash\",\"SHA-256D\",\"CryptoNight\",\"Scrypt\",\"X15\",\"Scrypt\",\"Quark\",\"SHA-256\",\"DPoS\",\"X16R\",\"HMQ1725\",\"X11\",\"X16R\",\"Quark\",\"Quark\",\"Scrypt\",\"Lyra2REv2\",\"Quark\",\"Scrypt\",\"Scrypt\",\"CryptoNight-V7\",\"Cryptonight-GPU\",\"XEVAN\",\"CryptoNight Heavy\",\"X11\",\"X11\",\"Scrypt\",\"PoS\",\"SHA-256\",\"Keccak\",\"X11\",\"X11\",\"Scrypt\",\"SHA-512\",\"X16R\",\"ECC 256K1\",\"Equihash\",\"XEVAN\",\"Lyra2Z\",\"SHA-256\",\"XEVAN\",\"X11\",\"CryptoNight\",\"Quark\",\"Blake\",\"Blake\",\"Equihash\",\"Exosis\",\"Scrypt\",\"Scrypt\",\"Equihash\",\"Quark\",\"Equihash\",\"Quark\",\"Scrypt\",\"QuBit\",\"X11\",\"Scrypt\",\"XEVAN\",\"SHA-256D\",\"X11\",\"SHA-256\",\"X13\",\"SHA-256\",\"X11\",\"DPoS\",\"Scrypt\",\"Scrypt\",\"X11\",\"NeoScrypt\",\"Scrypt\",\"Blake\",\"Scrypt\",\"SHA-256\",\"Scrypt\",\"X11\",\"Scrypt\",\"Scrypt\",\"SHA-256\",\"X11\",\"SHA-256\",\"Scrypt\",\"Scrypt\",\"Scrypt\",\"Groestl\",\"X11\",\"Scrypt\",\"PoS\",\"Scrypt\",\"Scrypt\",\"X11\",\"SHA-256\",\"DPoS\",\"Scrypt\",\"Scrypt\",\"NeoScrypt\",\"Multiple\",\"X13\",\"Equihash+Scrypt\",\"DPoS\",\"Ethash\",\"DPoS\",\"SHA-256\",\"Leased POS\",\"PoS\",\"TRC10\",\"PoS\",\"SHA-256\",\"Scrypt\",\"CryptoNight\",\"Equihash\",\"Scrypt\"],\"Class\":{\"__ndarray__\":\"AAAAAAAAAAAAAAAAAwAAAAMAAAADAAAAAAAAAAMAAAADAAAAAwAAAAAAAAADAAAAAAAAAAAAAAADAAAAAAAAAAMAAAADAAAAAAAAAAAAAAADAAAAAwAAAAMAAAADAAAAAwAAAAAAAAADAAAAAwAAAAMAAAAAAAAAAwAAAAAAAAADAAAAAwAAAAAAAAAAAAAAAwAAAAMAAAADAAAAAwAAAAMAAAADAAAAAAAAAAAAAAADAAAAAwAAAAMAAAADAAAAAwAAAAAAAAAAAAAAAwAAAAAAAAADAAAAAwAAAAMAAAADAAAAAAAAAAMAAAADAAAAAAAAAAMAAAAAAAAAAAAAAAAAAAADAAAAAwAAAAMAAAAAAAAAAAAAAAAAAAAAAAAAAAAAAAMAAAADAAAAAwAAAAAAAAAAAAAAAwAAAAAAAAADAAAAAAAAAAAAAAADAAAAAwAAAAMAAAADAAAAAAAAAAAAAAADAAAAAAAAAAMAAAADAAAAAAAAAAAAAAADAAAAAAAAAAAAAAADAAAAAwAAAAAAAAAAAAAAAwAAAAAAAAAAAAAAAwAAAAAAAAADAAAAAAAAAAMAAAAAAAAAAwAAAAAAAAAAAAAAAwAAAAMAAAAAAAAAAwAAAAMAAAADAAAAAAAAAAMAAAADAAAAAwAAAAMAAAADAAAAAAAAAAAAAAADAAAAAwAAAAMAAAAAAAAAAwAAAAAAAAADAAAAAwAAAAAAAAADAAAAAAAAAAMAAAAAAAAAAAAAAAMAAAADAAAAAAAAAAMAAAADAAAAAAAAAAAAAAADAAAAAAAAAAMAAAAAAAAAAAAAAAAAAAADAAAAAwAAAAMAAAADAAAAAAAAAAAAAAAAAAAAAAAAAAAAAAADAAAAAwAAAAAAAAAAAAAAAAAAAAAAAAAAAAAAAwAAAAAAAAAAAAAAAAAAAAAAAAAAAAAAAwAAAAAAAAADAAAAAAAAAAAAAAADAAAAAAAAAAMAAAAAAAAAAAAAAAMAAAAAAAAAAwAAAAAAAAADAAAAAAAAAAMAAAAAAAAAAAAAAAAAAAAAAAAAAwAAAAAAAAAAAAAAAAAAAAAAAAAAAAAAAwAAAAMAAAAAAAAAAAAAAAMAAAADAAAAAAAAAAAAAAAAAAAAAAAAAAAAAAADAAAAAAAAAAAAAAAAAAAAAAAAAAAAAAAAAAAAAAAAAAAAAAADAAAAAAAAAAAAAAAAAAAAAAAAAAAAAAAAAAAAAwAAAAMAAAADAAAAAAAAAAAAAAAAAAAAAAAAAAMAAAAAAAAAAwAAAAAAAAAAAAAAAwAAAAAAAAADAAAAAwAAAAAAAAADAAAAAwAAAAAAAAADAAAAAAAAAAAAAAAAAAAAAwAAAAAAAAAAAAAAAwAAAAAAAAAAAAAAAAAAAAAAAAAAAAAAAAAAAAAAAAADAAAAAAAAAAMAAAAAAAAAAAAAAAAAAAAAAAAAAwAAAAAAAAADAAAAAAAAAAMAAAADAAAAAwAAAAMAAAAAAAAAAwAAAAAAAAAAAAAAAwAAAAAAAAADAAAAAwAAAAMAAAAAAAAAAwAAAAAAAAADAAAAAwAAAAMAAAAAAAAAAwAAAAAAAAADAAAAAAAAAAAAAAAAAAAAAwAAAAAAAAADAAAAAwAAAAMAAAADAAAAAwAAAAAAAAAAAAAAAwAAAAAAAAAAAAAAAAAAAAMAAAAAAAAAAwAAAAAAAAADAAAAAAAAAAMAAAAAAAAAAAAAAAAAAAAAAAAAAwAAAAAAAAAAAAAAAwAAAAAAAAAAAAAAAAAAAAMAAAADAAAAAwAAAAMAAAAAAAAAAAAAAAAAAAAAAAAAAwAAAAAAAAADAAAAAwAAAAMAAAAAAAAAAAAAAAMAAAADAAAAAAAAAAAAAAADAAAAAAAAAAMAAAADAAAAAwAAAAAAAAADAAAAAwAAAAAAAAAAAAAAAAAAAAMAAAADAAAAAwAAAAAAAAAAAAAAAAAAAAMAAAADAAAAAAAAAAMAAAADAAAAAwAAAAMAAAAAAAAAAQAAAAAAAAADAAAAAwAAAAMAAAAAAAAAAQAAAAAAAAAAAAAAAAAAAAAAAAADAAAAAwAAAAMAAAADAAAAAAAAAAAAAAAAAAAAAwAAAAAAAAADAAAAAAAAAAAAAAAAAAAAAAAAAAMAAAAAAAAAAAAAAAMAAAAAAAAAAAAAAAMAAAADAAAAAAAAAAMAAAAAAAAAAwAAAAMAAAADAAAAAwAAAAAAAAAAAAAAAwAAAAAAAAADAAAAAAAAAAAAAAAAAAAAAAAAAAAAAAAAAAAAAwAAAAMAAAADAAAAAAAAAAAAAAAAAAAAAAAAAAAAAAAAAAAAAwAAAAAAAAADAAAAAwAAAAMAAAADAAAAAAAAAAAAAAAAAAAAAAAAAAMAAAAAAAAAAAAAAAMAAAAAAAAAAAAAAAMAAAABAAAAAwAAAAAAAAADAAAAAwAAAAAAAAAAAAAAAwAAAAAAAAADAAAAAwAAAAAAAAADAAAAAwAAAAAAAAADAAAAAAAAAAMAAAAAAAAAAAAAAAMAAAAAAAAAAAAAAAAAAAAAAAAAAAAAAAMAAAADAAAAAwAAAAAAAAAAAAAAAAAAAAMAAAAAAAAAAwAAAAAAAAADAAAAAAAAAAAAAAAAAAAAAAAAAAMAAAAAAAAAAAAAAAAAAAADAAAAAAAAAAMAAAAAAAAAAwAAAAAAAAAAAAAAAAAAAAMAAAADAAAAAAAAAAAAAAAAAAAAAAAAAAAAAAAAAAAAAwAAAAAAAAADAAAAAAAAAAMAAAAAAAAAAAAAAAEAAAAAAAAAAgAAAAAAAAAAAAAAAAAAAAMAAAADAAAAAAAAAA==\",\"dtype\":\"int32\",\"order\":\"little\",\"shape\":[532]},\"CoinName\":[\"42 Coin\",\"404Coin\",\"EliteCoin\",\"Bitcoin\",\"Ethereum\",\"Litecoin\",\"Dash\",\"Monero\",\"Ethereum Classic\",\"ZCash\",\"Bitshares\",\"DigiByte\",\"BitcoinDark\",\"PayCoin\",\"ProsperCoin\",\"KoboCoin\",\"Spreadcoin\",\"Argentum\",\"Aurora Coin\",\"BlueCoin\",\"MyriadCoin\",\"MoonCoin\",\"ZetaCoin\",\"SexCoin\",\"Quatloo\",\"EnergyCoin\",\"QuarkCoin\",\"Riecoin\",\"Digitalcoin \",\"BitBar\",\"Catcoin\",\"CryptoBullion\",\"CannaCoin\",\"CryptCoin\",\"CasinoCoin\",\"Diamond\",\"Verge\",\"DevCoin\",\"EarthCoin\",\"E-Gulden\",\"Einsteinium\",\"Emerald\",\"Exclusive Coin\",\"FlutterCoin\",\"Franko\",\"FeatherCoin\",\"GrandCoin\",\"GlobalCoin\",\"GoldCoin\",\"HoboNickels\",\"HyperStake\",\"Infinite Coin\",\"IOCoin\",\"IXcoin\",\"KrugerCoin\",\"LuckyCoin\",\"Litebar \",\"MaxCoin\",\"MegaCoin\",\"MediterraneanCoin\",\"MintCoin\",\"MinCoin\",\"MazaCoin\",\"Nautilus Coin\",\"NavCoin\",\"NobleCoin\",\"Namecoin\",\"NyanCoin\",\"OpalCoin\",\"Orbitcoin\",\"PotCoin\",\"PhoenixCoin\",\"Reddcoin\",\"RonPaulCoin\",\"StableCoin\",\"SmartCoin\",\"SuperCoin\",\"SyncCoin\",\"SysCoin\",\"TeslaCoin\",\"TigerCoin\",\"TittieCoin\",\"TorCoin\",\"TerraCoin\",\"UnbreakableCoin\",\"Unobtanium\",\"UroCoin\",\"UnitaryStatus Dollar\",\"UltraCoin\",\"ViaCoin\",\"VeriCoin\",\"Vertcoin\",\"WorldCoin\",\"X11 Coin\",\"Crypti\",\"JouleCoin\",\"StealthCoin\",\"ZCC Coin\",\"ByteCoin\",\"DigitalNote \",\"BurstCoin\",\"StorjCoin\",\"MonaCoin\",\"Neutron\",\"FairCoin\",\"Gulden\",\"RubyCoin\",\"PesetaCoin\",\"Kore\",\"Wild Beast Coin\",\"Dnotes\",\"Flo\",\"8BIT Coin\",\"Sativa Coin\",\"ArtByte\",\"Folding Coin\",\"Ucoin\",\"Unitus\",\"CypherPunkCoin\",\"OmniCron\",\"Vtorrent\",\"GreenCoin\",\"Cryptonite\",\"MasterCoin\",\"SoonCoin\",\"1Credit\",\"IslaCoin\",\"Nexus\",\"MarsCoin \",\"Crypto\",\"Anarchists Prime\",\"Droidz\",\"BowsCoin\",\"Squall Coin\",\"Song Coin\",\"BitZeny\",\"Diggits\",\"Expanse\",\"Paycon\",\"Siacoin\",\"Emercoin\",\"EverGreenCoin\",\"MindCoin\",\"I0coin\",\"Decred\",\"Revolution VR\",\"HOdlcoin\",\"EDRCoin\",\"Hitcoin\",\"Gamecredits\",\"DubaiCoin\",\"CarpeDiemCoin\",\"PWR Coin\",\"BillaryCoin\",\"GPU Coin\",\"Adzcoin\",\"SoilCoin\",\"YoCoin\",\"SibCoin\",\"EuropeCoin\",\"ZeitCoin\",\"SwingCoin\",\"SafeExchangeCoin\",\"Nebuchadnezzar\",\"Francs\",\"BolivarCoin\",\"Ratecoin\",\"Revenu\",\"Clockcoin\",\"VIP Tokens\",\"BitSend\",\"Omni\",\"Let it Ride\",\"PutinCoin\",\"iBankCoin\",\"Frankywillcoin\",\"MudraCoin\",\"PizzaCoin\",\"Lutetium Coin\",\"Komodo\",\"GoldBlocks\",\"CarterCoin\",\"Karbo\",\"BitTokens\",\"ZayedCoin\",\"MustangCoin\",\"ZoneCoin\",\"Circuits of Value\",\"RootCoin\",\"DopeCoin\",\"BitCurrency\",\"DollarCoin\",\"Swiscoin\",\"Shilling\",\"BuzzCoin\",\"Opair\",\"PesoBit\",\"Halloween Coin\",\"ZCoin\",\"CoffeeCoin\",\"RoyalCoin\",\"GanjaCoin V2\",\"TeamUP\",\"LanaCoin\",\"Elementrem\",\"ZClassic\",\"ARK\",\"InsaneCoin\",\"KiloCoin\",\"ArtexCoin\",\"EmberCoin\",\"XenixCoin\",\"FreeCoin\",\"PLNCoin\",\"AquariusCoin\",\"Kurrent\",\"Creatio\",\"Eternity\",\"Eurocoin\",\"BitcoinFast\",\"Stakenet\",\"BitConnect Coin\",\"MoneyCoin\",\"Enigma\",\"Cannabis Industry Coin\",\"Russiacoin\",\"PandaCoin\",\"GameUnits\",\"GAKHcoin\",\"Allsafe\",\"LiteCreed\",\"OsmiumCoin\",\"Bikercoins\",\"HexxCoin\",\"Klingon Empire Darsek\",\"Internet of People\",\"KushCoin\",\"Printerium\",\"PacCoin\",\"Impeach\",\"Citadel\",\"Zilbercoin\",\"FirstCoin\",\"BeaverCoin\",\"FindCoin\",\"VaultCoin\",\"Zero\",\"OpenChat\",\"Canada eCoin\",\"Zoin\",\"RenosCoin\",\"DubaiCoin\",\"VirtacoinPlus\",\"TajCoin\",\"Impact\",\"EB3coin\",\"Atmos\",\"HappyCoin\",\"Coinonat\",\"MacronCoin\",\"Condensate\",\"Independent Money System\",\"ArgusCoin\",\"LomoCoin\",\"ProCurrency\",\"GoldReserve\",\"BenjiRolls\",\"GrowthCoin\",\"ILCoin\",\"Phreak\",\"Degas Coin\",\"HTML5 Coin\",\"Ultimate Secure Cash\",\"EquiTrader\",\"QTUM\",\"Quantum Resistant Ledger\",\"Espers\",\"Dynamic\",\"Nano\",\"ChanCoin\",\"Dinastycoin\",\"Denarius\",\"DigitalPrice\",\"Virta Unique Coin\",\"Bitcoin Planet\",\"Unify\",\"BritCoin\",\"SocialCoin\",\"ArcticCoin\",\"DAS\",\"Linda\",\"LeviarCoin\",\"DeepOnion\",\"Bitcore\",\"gCn Coin\",\"SmartCash\",\"Signatum\",\"Onix\",\"Cream\",\"Bitcoin Cash\",\"Monoeci\",\"Draftcoin\",\"Vechain\",\"Sojourn Coin\",\"Stakecoin\",\"NewYorkCoin\",\"FrazCoin\",\"Kronecoin\",\"AdCoin\",\"Linx\",\"CoinonatX\",\"Ethereum Dark\",\"Sumokoin\",\"Obsidian\",\"Cardano\",\"Regalcoin\",\"BitcoinZ\",\"TrezarCoin\",\"Elements\",\"TerraNovaCoin\",\"VIVO Coin\",\"Rupee\",\"Bitcoin Gold\",\"WomenCoin\",\"Theresa May Coin\",\"NamoCoin\",\"LUXCoin\",\"Pirl\",\"Xios\",\"Bitcloud 2.0\",\"eBoost\",\"KekCoin\",\"BlackholeCoin\",\"Infinity Economics\",\"Pura\",\"Innova\",\"Ellaism\",\"GoByte\",\"Magnet\",\"Lamden Tau\",\"Electra\",\"Bitcoin Diamond\",\"SHIELD\",\"Cash & Back Coin\",\"UltraNote\",\"BitCoal\",\"DaxxCoin\",\"Bulwark\",\"Kalkulus\",\"AC3\",\"Lethean\",\"GermanCoin\",\"LiteCoin Ultra\",\"PopularCoin\",\"PhantomX\",\"Photon\",\"Sucre\",\"SparksPay\",\"Digiwage\",\"GunCoin\",\"IrishCoin\",\"Trollcoin\",\"Litecoin Plus\",\"Monkey Project\",\"Pioneer Coin\",\"UnitedBitcoin\",\"Interzone\",\"TokenPay\",\"1717 Masonic Commemorative Token\",\"My Big Coin\",\"TurtleCoin\",\"MUNcoin\",\"Unified Society USDEX\",\"Niobio Cash\",\"ShareChain\",\"Travelflex\",\"KREDS\",\"Tokyo Coin\",\"BiblePay\",\"LitecoinCash\",\"BitFlip\",\"LottoCoin\",\"Crypto Improvement Fund\",\"Stipend\",\"Poa Network\",\"Pushi\",\"Ellerium\",\"Velox\",\"Ontology\",\"Callisto Network\",\"BitTube\",\"Poseidon\",\"Aidos Kuneen\",\"Bitspace\",\"Briacoin\",\"Ignition\",\"Bitrolium\",\"MedicCoin\",\"Alpenschillling\",\"Bitcoin Green\",\"Deviant Coin\",\"Abjcoin\",\"Semux\",\"FuturoCoin\",\"Carebit\",\"Zealium\",\"Monero Classic\",\"Proton\",\"iDealCash\",\"Jumpcoin\",\"Infinex\",\"Bitcoin Incognito\",\"KEYCO\",\"HollyWoodCoin\",\"GINcoin\",\"PlatinCoin\",\"Loki\",\"Newton Coin\",\"Swisscoin\",\"Xt3ch\",\"MassGrid\",\"TheVig\",\"PluraCoin\",\"EmaratCoin\",\"Dekado\",\"Lynx\",\"Poseidon Quark\",\"BitcoinWSpectrum\",\"Muse\",\"Motion\",\"PlusOneCoin\",\"Axe\",\"Trivechain\",\"Dystem\",\"Giant\",\"Peony Coin\",\"Absolute Coin\",\"Vitae\",\"HexCoin\",\"TPCash\",\"Webchain\",\"Ryo\",\"Urals Coin\",\"Qwertycoin\",\"ARENON\",\"EUNO\",\"MMOCoin\",\"Ketan\",\"Project Pai\",\"XDNA\",\"PAXEX\",\"Azart\",\"ThunderStake\",\"Kcash\",\"Xchange\",\"Acute Angle Cloud\",\"CrypticCoin\",\"Bettex coin\",\"Actinium\",\"Bitcoin SV\",\"BitMoney\",\"Junson Ming Chan Coin\",\"FREDEnergy\",\"HerbCoin\",\"Universal Molecule\",\"Lithium\",\"PirateCash\",\"Exosis\",\"Block-Logic\",\"Oduwa\",\"Beam\",\"Galilel\",\"Bithereum\",\"Crypto Sports\",\"Credit\",\"SLICE\",\"Dash Platinum\",\"Nasdacoin\",\"Beetle Coin\",\"Titan Coin\",\"Award\",\"BLAST\",\"Bitcoin Rhodium\",\"GlobalToken\",\"Insane Coin\",\"ALAX\",\"LiteDoge\",\"SolarCoin\",\"TruckCoin\",\"UFO Coin\",\"OrangeCoin\",\"BlakeCoin\",\"BitstarCoin\",\"NeosCoin\",\"HyperCoin\",\"PinkCoin\",\"Crypto Escudo\",\"AudioCoin\",\"IncaKoin\",\"Piggy Coin\",\"Crown Coin\",\"Genstake\",\"SmileyCoin\",\"XiaoMiCoin\",\"Groestlcoin\",\"CapriCoin\",\" ClubCoin\",\"Radium\",\"Bata\",\"Pakcoin\",\"Creditbit \",\"OKCash\",\"Lisk\",\"HiCoin\",\"WhiteCoin\",\"FriendshipCoin\",\"JoinCoin\",\"Triangles Coin\",\"Vollar\",\"EOS\",\"Reality Clash\",\"Oxycoin\",\"TigerCash\",\"Waves\",\"Particl\",\"BitTorrent\",\"Nxt\",\"ZEPHYR\",\"Gapcoin\",\"Beldex\",\"Horizen\",\"BitcoinPlus\"],\"PC_1\":{\"__ndarray__\":\"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\",\"dtype\":\"float64\",\"order\":\"little\",\"shape\":[532]},\"PC_2\":{\"__ndarray__\":\"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\",\"dtype\":\"float64\",\"order\":\"little\",\"shape\":[532]},\"PC_3\":{\"__ndarray__\":\"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\",\"dtype\":\"float64\",\"order\":\"little\",\"shape\":[532]},\"ProofType\":[\"PoW/PoS\",\"PoW/PoS\",\"PoW/PoS\",\"PoW\",\"PoW\",\"PoW\",\"PoW/PoS\",\"PoW\",\"PoW\",\"PoW\",\"PoS\",\"PoW\",\"PoW/PoS\",\"PoS\",\"PoW\",\"PoW/PoS\",\"PoW\",\"PoW\",\"PoW/PoS\",\"PoW/PoS\",\"PoW\",\"PoW\",\"PoW\",\"PoW\",\"PoW\",\"PoW/PoS\",\"PoW\",\"PoW\",\"PoW\",\"PoW/PoS\",\"PoW\",\"PoW/PoS\",\"PoW\",\"PoW\",\"PoC\",\"PoW/PoS\",\"PoW\",\"PoW\",\"PoW\",\"PoW\",\"PoW\",\"PoW\",\"PoS\",\"PoS/PoW/PoT\",\"PoW\",\"PoW\",\"PoW\",\"PoW\",\"PoW\",\"PoW/PoS\",\"PoS\",\"PoW\",\"PoW/PoS\",\"PoW\",\"PoW\",\"PoW\",\"PoW\",\"PoW/PoS\",\"PoW\",\"PoW\",\"PoS\",\"PoW\",\"PoW/PoS\",\"PoS\",\"PoW/PoS\",\"PoW\",\"PoW\",\"PoW\",\"PoW/PoS\",\"PoW/PoS\",\"PoW/PoS\",\"PoW/PoS\",\"PoW/PoS\",\"PoW\",\"PoW\",\"PoW\",\"PoS\",\"PoW/PoS\",\"PoW\",\"PoS\",\"PoW\",\"PoS\",\"PoW/PoS\",\"PoW\",\"PoW\",\"PoW\",\"PoW\",\"PoW/PoS\",\"PoW/PoS\",\"PoW\",\"PoST\",\"PoW\",\"PoW\",\"PoW/PoS\",\"PoS\",\"PoW\",\"PoW/PoS\",\"PoW/PoS\",\"PoW\",\"PoW\",\"PoC\",\"PoS\",\"PoW\",\"PoW/PoS\",\"PoW/PoS\",\"PoW\",\"PoS\",\"PoW\",\"PoW/PoS\",\"PoW\",\"PoS\",\"PoW\",\"PoW/PoS\",\"PoW/PoS\",\"PoW\",\"PoW\",\"PoS\",\"PoW\",\"PoW\",\"PoW\",\"PoW/PoS\",\"PoW\",\"PoW\",\"PoW\",\"PoW\",\"PoW\",\"PoW/PoS\",\"PoW/nPoS\",\"PoW\",\"PoW\",\"PoW\",\"PoW/PoS\",\"PoW\",\"PoS/PoW\",\"PoW\",\"PoW\",\"PoS\",\"PoW\",\"PoW/PoS\",\"PoW\",\"PoW/PoS\",\"PoW/PoS\",\"PoW\",\"PoW\",\"PoW/PoS\",\"PoW\",\"PoW\",\"PoW/PoS\",\"PoW/PoS\",\"PoW\",\"PoW/PoS\",\"PoW\",\"PoW/PoS\",\"PoW/PoS\",\"PoS\",\"PoW\",\"PoW\",\"PoW\",\"PoW\",\"PoW/PoS\",\"PoS\",\"PoW/PoS\",\"PoC\",\"PoS\",\"PoW\",\"PoW\",\"PoW/PoS\",\"PoW/PoS\",\"PoW/PoS\",\"PoW/PoS\",\"PoW/PoS\",\"PoW\",\"PoS\",\"PoW/PoS\",\"PoW/PoS\",\"PoW/PoS\",\"PoS\",\"PoW\",\"PoS\",\"dPoW/PoW\",\"PoW/PoS\",\"PoW/PoS\",\"PoW\",\"PoW/PoS\",\"PoW\",\"PoW/PoS\",\"PoW/PoS\",\"PoW\",\"PoW/PoS\",\"PoW\",\"PoS\",\"PoW\",\"PoW/PoW\",\"PoW\",\"PoW/PoS\",\"PoS\",\"PoW/PoS\",\"PoW/PoS\",\"PoW\",\"PoS\",\"PoS\",\"PoW/PoS\",\"PoS\",\"PoW/PoS\",\"PoW\",\"PoW\",\"DPoS\",\"PoW/PoS\",\"PoW\",\"PoW\",\"PoW/PoS\",\"PoW/PoS\",\"PoS\",\"PoW/PoS\",\"PoW/PoS\",\"PoW\",\"PoS\",\"PoW/PoS\",\"PoW/PoS\",\"PoW/PoS\",\"TPoS\",\"PoW/PoS\",\"PoW/PoS\",\"PoW/PoS\",\"PoW\",\"PoW/PoS\",\"PoS\",\"PoW/PoS\",\"PoW/PoS\",\"PoS\",\"PoW/PoS\",\"PoW\",\"PoW\",\"PoW\",\"PoW/PoS\",\"PoW/PoS\",\"PoW/PoS\",\"PoW/PoS\",\"PoW\",\"PoW/PoS\",\"PoW\",\"PoS\",\"PoW/PoS \",\"PoW\",\"PoS\",\"PoW\",\"PoW\",\"PoW/PoS\",\"PoW\",\"PoW\",\"PoS\",\"PoW\",\"PoW/PoS\",\"PoW/PoS\",\"PoW/PoS\",\"PoW\",\"PoS\",\"PoW/PoS\",\"PoW\",\"PoS\",\"PoW/PoS\",\"PoW/PoS\",\"PoW/PoS\",\"PoW/PoS\",\"PoS\",\"PoW/PoS\",\"PoW\",\"PoS\",\"PoW\",\"PoS\",\"PoW/PoS\",\"PoW/PoS\",\"PoS\",\"PoW\",\"PoS\",\"PoW\",\"PoW/PoS\",\"PoW\",\"PoW\",\"PoW\",\"PoW\",\"PoW/PoS\",\"PoW\",\"PoW/PoS\",\"PoW/PoS\",\"PoW\",\"PoW/PoS\",\"PoW\",\"PoW\",\"PoW\",\"PoW/PoS\",\"PoW\",\"PoW/PoS\",\"PoW\",\"PoW\",\"PoW\",\"PoS\",\"PoW\",\"PoW/PoS\",\"PoW\",\"PoW/PoS\",\"PoS\",\"Proof of Authority\",\"PoW\",\"PoS\",\"PoW\",\"PoW\",\"PoW\",\"PoW\",\"PoW\",\"PoW/PoS\",\"PoW/PoS\",\"PoW\",\"PoS\",\"PoS\",\"PoW/PoS\",\"PoW\",\"PoW/PoS\",\"PoW\",\"PoW/PoS\",\"PoW\",\"PoS\",\"PoW\",\"PoW/PoS\",\"PoW/PoS\",\"PoW/PoS\",\"PoW/PoS\",\"PoW\",\"PoW/PoS\",\"PoW/PoS\",\"PoW\",\"PoS\",\"PoW/PoS\",\"PoS\",\"PoW\",\"PoW\",\"PoW\",\"PoW\",\"PoW/PoS\",\"DPoS\",\"PoW/PoS\",\"PoW/PoS\",\"PoW\",\"PoW/PoS\",\"PoW\",\"PoW\",\"PoW\",\"PoS\",\"PoS\",\"PoW\",\"PoW\",\"PoW/PoS\",\"PoW/PoS\",\"PoW\",\"PoW/PoS\",\"PoW\",\"PoW\",\"PoW\",\"PoS\",\"PoW\",\"PoW\",\"PoW/PoS\",\"PoW/PoS\",\"PoS\",\"PoW\",\"PoW\",\"PoW\",\"PoS\",\"PoS\",\"PoW and PoS\",\"PoW\",\"PoW\",\"PoW/PoS\",\"PoW\",\"PoW\",\"PoW\",\"PoW\",\"PoS\",\"POBh\",\"PoW + Hive\",\"PoW\",\"PoW\",\"PoW\",\"PoW/PoS\",\"PoA\",\"PoW/PoS\",\"PoW/PoS\",\"PoS\",\"PoS\",\"PoW\",\"PoW\",\"PoW\",\"PoW\",\"PoW/PoS\",\"PoW/PoS\",\"PoW/PoS\",\"PoW\",\"PoS\",\"PoW\",\"PoS\",\"PoS\",\"PoW/PoS\",\"DPoS\",\"PoW\",\"PoW/PoS\",\"PoS\",\"PoW\",\"PoS\",\"PoW/PoS\",\"PoW\",\"PoW\",\"PoS/PoW\",\"PoW\",\"PoS\",\"PoW\",\"PoW\",\"PoW\",\"PoW\",\"PoW/PoS\",\"PoS\",\"PoW\",\"PoW/PoS\",\"PoW\",\"PoW/PoS\",\"PoS\",\"HPoW\",\"PoS\",\"PoS\",\"PoS\",\"PoW\",\"PoW\",\"PoW\",\"PoW/PoS\",\"PoS\",\"PoW/PoS\",\"PoS\",\"PoW/PoS\",\"PoS\",\"PoW\",\"PoW/PoS\",\"PoW\",\"PoW\",\"PoW\",\"PoW\",\"PoS\",\"PoW/PoS\",\"PoS\",\"PoS\",\"PoW\",\"PoW/PoS\",\"PoS\",\"PoW\",\"PoW/PoS\",\"Zero-Knowledge Proof\",\"PoW\",\"DPOS\",\"PoW\",\"PoS\",\"PoW\",\"PoW\",\"Pos\",\"PoS\",\"PoW\",\"PoW/PoS\",\"PoW\",\"PoW\",\"PoS\",\"PoW\",\"PoW\",\"PoW/PoS\",\"PoW\",\"PoW/PoS\",\"PoW\",\"PoS\",\"PoW/PoS\",\"PoW\",\"PoS\",\"PoW/PoS\",\"PoW/PoS\",\"PoW/PoS\",\"PoW/PoS\",\"PoW\",\"PoW\",\"PoW\",\"PoW/PoS\",\"DPoS\",\"PoW/PoS\",\"PoW\",\"PoW/PoS\",\"PoW\",\"PoW/PoS\",\"PoW\",\"PoW/PoS\",\"PoS\",\"PoW/PoS\",\"PoW/PoS\",\"PoW\",\"PoW/PoS\",\"PoW/PoS\",\"PoW/PoS\",\"PoW\",\"PoW/PoS\",\"PoW\",\"PoW/PoS\",\"PoW\",\"PoW/PoS\",\"PoW/PoS\",\"PoS\",\"PoW\",\"PoW\",\"Proof of Trust\",\"PoW/PoS\",\"DPoS\",\"PoS\",\"PoW/PoS\",\"PoW/PoS\",\"PoW\",\"PoW/PoS\",\"PoW\",\"DPoS\",\"PoW\",\"DPoS\",\"PoS\",\"LPoS\",\"PoS\",\"DPoS\",\"PoS/LPoS\",\"DPoS\",\"PoW/PoS\",\"PoW\",\"PoW\",\"PoS\"],\"TotalCoinSupply\":[\"42\",\"532000000\",\"314159265359\",\"21000000\",\"0\",\"84000000\",\"22000000\",\"0\",\"210000000\",\"21000000\",\"3600570502\",\"21000000000\",\"22000000\",\"12500000\",\"21000000\",\"350000000\",\"20000000\",\"64000000\",\"16768584\",\"0\",\"2000000000\",\"384000000000\",\"169795588\",\"250000000\",\"100000000\",\"0\",\"247000000\",\"84000000\",\"48166000\",\"500000\",\"21000000 \",\"1000000\",\"13140000\",\"18000000\",\"40000000000\",\"4380000\",\"16555000000\",\"21000000000\",\"13500000000\",\"21000000 \",\"299792458\",\"32000000\",\"0\",\"0\",\"11235813\",\"336000000\",\"1420609614\",\"70000000\",\"72245700\",\"120000000\",\"0\",\"90600000000\",\"22000000\",\"21000000\",\"265420800\",\"20000000\",\"1350000\",\"100000000\",\"42000000\",\"200000000\",\"0\",\"10000000\",\"2419200000\",\"16180000\",\"0\",\"15000000000\",\"21000000\",\"337000000\",\"0\",\"3770000\",\"420000000\",\"98000000\",\"0\",\"21000000\",\"250000000\",\"51200000\",\"0\",\"1000\",\"888000000\",\"100000000\",\"47011968\",\"2300000000\",\"10000000\",\"42000000\",\"80000000\",\"250000\",\"0\",\"1600000000\",\"100000000\",\"23000000\",\"0\",\"84000000\",\"265420800\",\"5500000\",\"0\",\"45000000\",\"0\",\"1000000000\",\"184467440735\",\"10000000000\",\"2158812800\",\"500000000\",\"105120000\",\"68000000\",\"0\",\"1680000000\",\"0\",\"166386000\",\"12000000\",\"2628000\",\"500000000\",\"160000000\",\"0\",\"10000000\",\"1000000000\",\"1000000000\",\"20000000\",\"0\",\"0\",\"3371337\",\"20000000\",\"10000000000\",\"1840000000\",\"619478\",\"21000000\",\"92000000000\",\"0\",\"78000000\",\"33000000\",\"65789100\",\"53760000\",\"5060000\",\"21000000\",\"0\",\"210240000\",\"250000000\",\"100000000\",\"16906397\",\"50000000\",\"0\",\"1000000000\",\"26298000\",\"16000000\",\"21000000\",\"21000000\",\"210000000\",\"81962100\",\"22000000\",\"26550000000\",\"84000000\",\"10500000\",\"21626280000 \",\"0\",\"42000000\",\"221052632\",\"84000000\",\"30000000\",\"168351300\",\"24000000\",\"384000000\",\" 99000000000\",\"40000000\",\"2147483647\",\"20000000\",\"20000000\",\"25000000\",\"75000000\",\"222725000\",\"525000000\",\"90000000\",\"139000000\",\"616448\",\"33500000\",\"2000000000\",\"44333333\",\"100000000\",\"200000000\",\"25000000\",\"657000000\",\"200000000\",\"50000000\",\"90000000\",\"10000000\",\"21000000\",\"9736000\",\"3000000\",\"21000000\",\"1200000000\",\"0\",\"200000000\",\"0\",\"10638298\",\"3100000000\",\"30000000\",\"20000000000\",\"74000000\",\"0\",\"1500000000\",\"21400000\",\"39999898\",\"2500124\",\"100000000\",\"301000000\",\"7506000000\",\"26205539\",\"21000000\",\"125000000\",\"30000000\",\"10000000000\",\"500000000\",\"850000000\",\"3853326.77707314\",\"50000000\",\"38540000 \",\"42000000\",\"228000000\",\"20000000\",\"60000000\",\"20000000\",\"33000000\",\"76500000\",\"28000000\",\"650659833\",\"5000000\",\"21000000\",\"144000000\",\"32514916898\",\"13000000\",\"3315789\",\"15000000\",\"78835200\",\"2714286\",\"25000000\",\"9999999\",\"500000000\",\"21000000\",\"9354000\",\"20000000\",\"100000000000\",\"21933333\",\"185000000\",\"55000000\",\"110000000\",\"3360000\",\"14524851.4827\",\"1000000000\",\"17000000\",\"1000000000\",\"100000000 \",\"21000000\",\"34426423\",\"2232901\",\"100000000\",\"36900000\",\"110000000\",\"4000000000\",\"110290030\",\"100000000\",\"48252000\",\"400000000\",\"500000000\",\"21212121\",\"28600000\",\"1000000000\",\"75000000000\",\"40000000\",\"35520400\",\"2000000000\",\"2500000000\",\"30000000\",\"105000000\",\"90000000000\",\"200084200\",\"72000000\",\"100000000\",\"105000000\",\"50000000000\",\"0\",\"340282367\",\"30000000\",\"2000000000\",\"10000000\",\"100000000\",\"120000000\",\"100000000\",\"19276800\",\"30000000\",\" 75000000\",\"60000000\",\"18900000\",\"50000000000\",\"54000000\",\"18898187.6216583\",\"21000000\",\"200000000000\",\"5000000000\",\"137500000\",\"1100000000\",\"100000000\",\"21000000\",\"9507271\",\"17405891.19707116\",\"86712634466\",\"10500000000\",\"61599965\",\"0\",\"20000000\",\"84000000\",\"100000000\",\"100000000\",\"48252000\",\"4200000\",\"88888888\",\"91388946\",\"45000000000\",\"27000000\",\"21000000000\",\"400000000\",\"1800000000\",\"15733333\",\"27000000\",\"24000000\",\"21000000\",\"25000000000\",\"100000000\",\"1200000000\",\"60000000\",\"156306732.71\",\"21000000\",\"200000000\",\"100000000\",\"21000000\",\"14788275.991\",\"9000000000\",\"350000000\",\"45000000\",\"280000000\",\"31800000\",\"144000000\",\"500000000\",\"30000000000\",\"210000000\",\"660000000\",\"210000000\",\"85000000000\",\"12500000\",\"10000000000\",\"27716121\",\"20000000\",\"550000000\",\"999481516\",\"50000000000\",\"150000000\",\"4999999999\",\"50000000\",\" 90000000000\",\"19800000\",\"21000000\",\"120000000\",\"500000000\",\"64000000\",\"900000000\",\"4000000\",\"21000000\",\"23000000\",\"20166000\",\"23000000\",\"25000000\",\"1618033\",\"30000000\",\"1000000000000\",\"16600000\",\"232000000\",\"336000000\",\"10000000000\",\"100000000\",\"1100000000\",\"800000000\",\"5200000000\",\"840000000\",\"40000000\",\"18406979840\",\"500000000\",\"19340594\",\"252460800\",\"25000000\",\"60000000\",\"124000000\",\"1000000000\",\"6500000000\",\"1000000000\",\"21000000\",\"25000000\",\"50000000\",\"3000000\",\"5000000\",\"70000000\",\"500000000\",\"300000000\",\"21000000\",\"88000000\",\"30000000\",\"100000000\",\"100000000\",\"200000000\",\"80000000\",\"18400000\",\"45000000\",\"5121951220\",\"21000000\",\"26280000\",\"21000000\",\"18000000\",\"26000000\",\"10500000\",\"600000518\",\"150000000\",\"184000000000\",\"10200000000\",\"44000000\",\"168000000\",\"100000000\",\"1000000000\",\"84000000\",\"90000000\",\"92000000000\",\"650000000 \",\"100262205\",\"18081806 \",\"22075700\",\"21000000\",\"21000000\",\"82546564\",\"21000000\",\"5151000\",\"16880000000\",\"52500000\",\"100000000\",\"22105263\",\"1000000000\",\"1750000000\",\"88188888\",\"210000000\",\"184470000000\",\"55000000\",\"50000000\",\"260000000\",\"210000000\",\"2100000000\",\"366000000\",\"100000000\",\"25000000\",\"18000000000\",\"1000000000\",\"100000000\",\"1000000000\",\"7600000000\",\"50000000\",\"84000000\",\"21000000\",\"70000000000\",\"0\",\"8080000000\",\"54000000\",\"105120001.44\",\"25228800\",\"105000000\",\"21000000\",\"120000000\",\"21000000\",\"262800000\",\"19035999\",\"30886000\",\"13370000\",\"74800000000\",\"100000000\",\"19700000\",\"84000000\",\"500000000\",\"5000000000\",\"420000000\",\"64000000\",\"2100000\",\"168000000\",\"30000000\",\"1000000000\",\"35000000000\",\"98100000000\",\"0\",\"4000000000\",\"200000000\",\"7000000000\",\"54256119\",\"21000000\",\"0\",\"500000000\",\"1000000000\",\"10500000000\",\"190000000\",\"1000000000\",\"42000000\",\"15000000\",\"50000000000\",\"400000000\",\"105000000\",\"208000000\",\"160000000\",\"9000000\",\"5000000\",\"182000000\",\"16504333\",\"105000000\",\"159918400\",\"10008835635\",\"300000000\",\"60168145\",\"2800000\",\"120000\",\"2100000000\",\"0\",\"24487944\",\"0\",\"1000000000\",\"100000000\",\"8634140\",\"990000000000\",\"1000000000\",\"2000000000\",\"250000000\",\"1400222610\",\"21000000\",\"1000000\"],\"TotalCoinsMined\":{\"__ndarray__\":\"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\",\"dtype\":\"float64\",\"order\":\"little\",\"shape\":[532]}},\"selected\":{\"id\":\"1441\"},\"selection_policy\":{\"id\":\"1490\"}},\"id\":\"1440\",\"type\":\"ColumnDataSource\"},{\"attributes\":{\"margin\":[5,5,5,5],\"name\":\"HSpacer01258\",\"sizing_mode\":\"stretch_width\"},\"id\":\"1439\",\"type\":\"Spacer\"},{\"attributes\":{\"format\":\"0,0.0[00000]\"},\"id\":\"1452\",\"type\":\"NumberFormatter\"},{\"attributes\":{},\"id\":\"1443\",\"type\":\"StringEditor\"},{\"attributes\":{\"editor\":{\"id\":\"1443\"},\"field\":\"Algorithm\",\"formatter\":{\"id\":\"1442\"},\"title\":\"Algorithm\"},\"id\":\"1444\",\"type\":\"TableColumn\"},{\"attributes\":{},\"id\":\"1442\",\"type\":\"StringFormatter\"},{\"attributes\":{\"editor\":{\"id\":\"1473\"},\"field\":\"PC_3\",\"formatter\":{\"id\":\"1472\"},\"title\":\"PC 3\"},\"id\":\"1474\",\"type\":\"TableColumn\"},{\"attributes\":{},\"id\":\"1441\",\"type\":\"Selection\"},{\"attributes\":{\"format\":\"0,0.0[00000]\"},\"id\":\"1472\",\"type\":\"NumberFormatter\"},{\"attributes\":{},\"id\":\"1447\",\"type\":\"StringFormatter\"},{\"attributes\":{\"margin\":[5,5,5,5],\"name\":\"HSpacer01259\",\"sizing_mode\":\"stretch_width\"},\"id\":\"1492\",\"type\":\"Spacer\"},{\"attributes\":{\"source\":{\"id\":\"1440\"}},\"id\":\"1489\",\"type\":\"CDSView\"},{\"attributes\":{\"editor\":{\"id\":\"1483\"},\"field\":\"Class\",\"formatter\":{\"id\":\"1482\"},\"title\":\"Class\"},\"id\":\"1484\",\"type\":\"TableColumn\"},{\"attributes\":{\"editor\":{\"id\":\"1468\"},\"field\":\"PC_2\",\"formatter\":{\"id\":\"1467\"},\"title\":\"PC 2\"},\"id\":\"1469\",\"type\":\"TableColumn\"},{\"attributes\":{\"format\":\"0,0.0[00000]\"},\"id\":\"1467\",\"type\":\"NumberFormatter\"},{\"attributes\":{\"editor\":{\"id\":\"1458\"},\"field\":\"TotalCoinSupply\",\"formatter\":{\"id\":\"1457\"},\"title\":\"TotalCoinSupply\"},\"id\":\"1459\",\"type\":\"TableColumn\"},{\"attributes\":{},\"id\":\"1457\",\"type\":\"StringFormatter\"},{\"attributes\":{},\"id\":\"1490\",\"type\":\"UnionRenderers\"},{\"attributes\":{\"columns\":[{\"id\":\"1444\"},{\"id\":\"1449\"},{\"id\":\"1454\"},{\"id\":\"1459\"},{\"id\":\"1464\"},{\"id\":\"1469\"},{\"id\":\"1474\"},{\"id\":\"1479\"},{\"id\":\"1484\"}],\"height\":300,\"reorderable\":false,\"source\":{\"id\":\"1440\"},\"view\":{\"id\":\"1489\"},\"width\":700},\"id\":\"1487\",\"type\":\"DataTable\"},{\"attributes\":{},\"id\":\"1477\",\"type\":\"StringFormatter\"},{\"attributes\":{},\"id\":\"1453\",\"type\":\"NumberEditor\"},{\"attributes\":{\"editor\":{\"id\":\"1453\"},\"field\":\"TotalCoinsMined\",\"formatter\":{\"id\":\"1452\"},\"title\":\"TotalCoinsMined\"},\"id\":\"1454\",\"type\":\"TableColumn\"},{\"attributes\":{},\"id\":\"1458\",\"type\":\"StringEditor\"},{\"attributes\":{\"editor\":{\"id\":\"1448\"},\"field\":\"ProofType\",\"formatter\":{\"id\":\"1447\"},\"title\":\"ProofType\"},\"id\":\"1449\",\"type\":\"TableColumn\"},{\"attributes\":{},\"id\":\"1473\",\"type\":\"NumberEditor\"},{\"attributes\":{},\"id\":\"1478\",\"type\":\"StringEditor\"},{\"attributes\":{\"editor\":{\"id\":\"1478\"},\"field\":\"CoinName\",\"formatter\":{\"id\":\"1477\"},\"title\":\"CoinName\"},\"id\":\"1479\",\"type\":\"TableColumn\"},{\"attributes\":{\"editor\":{\"id\":\"1463\"},\"field\":\"PC_1\",\"formatter\":{\"id\":\"1462\"},\"title\":\"PC 1\"},\"id\":\"1464\",\"type\":\"TableColumn\"},{\"attributes\":{\"children\":[{\"id\":\"1439\"},{\"id\":\"1487\"},{\"id\":\"1492\"}],\"margin\":[0,0,0,0],\"name\":\"Row01254\",\"tags\":[\"embedded\"]},\"id\":\"1438\",\"type\":\"Row\"},{\"attributes\":{},\"id\":\"1482\",\"type\":\"NumberFormatter\"}],\"root_ids\":[\"1438\"]},\"title\":\"Bokeh Application\",\"version\":\"2.4.3\"}};\n",
       "    var render_items = [{\"docid\":\"a199754b-a2f1-402a-86e7-4a593288a7a5\",\"root_ids\":[\"1438\"],\"roots\":{\"1438\":\"4d9fc2ba-df43-472a-94f9-9cdece553d1a\"}}];\n",
       "    root.Bokeh.embed.embed_items_notebook(docs_json, render_items);\n",
       "  }\n",
       "  if (root.Bokeh !== undefined && root.Bokeh.Panel !== undefined) {\n",
       "    embed_document(root);\n",
       "  } else {\n",
       "    var attempts = 0;\n",
       "    var timer = setInterval(function(root) {\n",
       "      if (root.Bokeh !== undefined && root.Bokeh.Panel !== undefined) {\n",
       "        clearInterval(timer);\n",
       "        embed_document(root);\n",
       "      } else if (document.readyState == \"complete\") {\n",
       "        attempts++;\n",
       "        if (attempts > 200) {\n",
       "          clearInterval(timer);\n",
       "          console.log(\"Bokeh: ERROR: Unable to run BokehJS code because BokehJS library is missing\");\n",
       "        }\n",
       "      }\n",
       "    }, 25, root)\n",
       "  }\n",
       "})(window);</script>"
      ],
      "text/plain": [
       ":Table   [Algorithm,ProofType,TotalCoinsMined,TotalCoinSupply,PC 1,PC 2,PC 3,CoinName,Class]"
      ]
     },
     "execution_count": 105,
     "metadata": {
      "application/vnd.holoviews_exec.v0+json": {
       "id": "1438"
      }
     },
     "output_type": "execute_result"
    }
   ],
   "source": [
    "# Create a table with tradable cryptocurrencies.\n",
    "clustered_df.hvplot.table()"
   ]
  },
  {
   "cell_type": "code",
   "execution_count": 108,
   "metadata": {},
   "outputs": [
    {
     "name": "stdout",
     "output_type": "stream",
     "text": [
      "There are 532 tradable cryptocurrencies.\n"
     ]
    }
   ],
   "source": [
    "# Print the total number of tradable cryptocurrencies.\n",
    "print(f'There are {clustered_df[\"CoinName\"].count()} tradable cryptocurrencies.')"
   ]
  },
  {
   "cell_type": "code",
   "execution_count": 110,
   "metadata": {},
   "outputs": [
    {
     "data": {
      "text/plain": [
       "array([[4.20000000e-11, 0.00000000e+00],\n",
       "       [5.32000000e-04, 1.06585544e-03],\n",
       "       [3.14159265e-01, 2.95755135e-02],\n",
       "       ...,\n",
       "       [1.40022261e-03, 9.90135079e-04],\n",
       "       [2.10000000e-05, 7.37028150e-06],\n",
       "       [1.00000000e-06, 1.29582282e-07]])"
      ]
     },
     "execution_count": 110,
     "metadata": {},
     "output_type": "execute_result"
    }
   ],
   "source": [
    "# Scaling data to create the scatter plot with tradable cryptocurrencies.\n",
    "cluster_scaled = MinMaxScaler().fit_transform(clustered_df[['TotalCoinSupply', 'TotalCoinsMined']])\n",
    "cluster_scaled"
   ]
  },
  {
   "cell_type": "code",
   "execution_count": 111,
   "metadata": {},
   "outputs": [
    {
     "data": {
      "text/html": [
       "<div>\n",
       "<style scoped>\n",
       "    .dataframe tbody tr th:only-of-type {\n",
       "        vertical-align: middle;\n",
       "    }\n",
       "\n",
       "    .dataframe tbody tr th {\n",
       "        vertical-align: top;\n",
       "    }\n",
       "\n",
       "    .dataframe thead th {\n",
       "        text-align: right;\n",
       "    }\n",
       "</style>\n",
       "<table border=\"1\" class=\"dataframe\">\n",
       "  <thead>\n",
       "    <tr style=\"text-align: right;\">\n",
       "      <th></th>\n",
       "      <th>TotalCoinsMined</th>\n",
       "      <th>TotalCoinSupply</th>\n",
       "      <th>CoinName</th>\n",
       "      <th>Class</th>\n",
       "    </tr>\n",
       "  </thead>\n",
       "  <tbody>\n",
       "    <tr>\n",
       "      <th>42</th>\n",
       "      <td>4.200000e-11</td>\n",
       "      <td>0.000000</td>\n",
       "      <td>42 Coin</td>\n",
       "      <td>0</td>\n",
       "    </tr>\n",
       "    <tr>\n",
       "      <th>404</th>\n",
       "      <td>5.320000e-04</td>\n",
       "      <td>0.001066</td>\n",
       "      <td>404Coin</td>\n",
       "      <td>0</td>\n",
       "    </tr>\n",
       "    <tr>\n",
       "      <th>1337</th>\n",
       "      <td>3.141593e-01</td>\n",
       "      <td>0.029576</td>\n",
       "      <td>EliteCoin</td>\n",
       "      <td>0</td>\n",
       "    </tr>\n",
       "    <tr>\n",
       "      <th>BTC</th>\n",
       "      <td>2.100000e-05</td>\n",
       "      <td>0.000018</td>\n",
       "      <td>Bitcoin</td>\n",
       "      <td>3</td>\n",
       "    </tr>\n",
       "    <tr>\n",
       "      <th>ETH</th>\n",
       "      <td>0.000000e+00</td>\n",
       "      <td>0.000109</td>\n",
       "      <td>Ethereum</td>\n",
       "      <td>3</td>\n",
       "    </tr>\n",
       "    <tr>\n",
       "      <th>LTC</th>\n",
       "      <td>8.400000e-05</td>\n",
       "      <td>0.000064</td>\n",
       "      <td>Litecoin</td>\n",
       "      <td>3</td>\n",
       "    </tr>\n",
       "    <tr>\n",
       "      <th>DASH</th>\n",
       "      <td>2.200000e-05</td>\n",
       "      <td>0.000009</td>\n",
       "      <td>Dash</td>\n",
       "      <td>0</td>\n",
       "    </tr>\n",
       "    <tr>\n",
       "      <th>XMR</th>\n",
       "      <td>0.000000e+00</td>\n",
       "      <td>0.000017</td>\n",
       "      <td>Monero</td>\n",
       "      <td>3</td>\n",
       "    </tr>\n",
       "    <tr>\n",
       "      <th>ETC</th>\n",
       "      <td>2.100000e-04</td>\n",
       "      <td>0.000115</td>\n",
       "      <td>Ethereum Classic</td>\n",
       "      <td>3</td>\n",
       "    </tr>\n",
       "    <tr>\n",
       "      <th>ZEC</th>\n",
       "      <td>2.100000e-05</td>\n",
       "      <td>0.000007</td>\n",
       "      <td>ZCash</td>\n",
       "      <td>3</td>\n",
       "    </tr>\n",
       "  </tbody>\n",
       "</table>\n",
       "</div>"
      ],
      "text/plain": [
       "      TotalCoinsMined  TotalCoinSupply          CoinName  Class\n",
       "42       4.200000e-11         0.000000           42 Coin      0\n",
       "404      5.320000e-04         0.001066           404Coin      0\n",
       "1337     3.141593e-01         0.029576         EliteCoin      0\n",
       "BTC      2.100000e-05         0.000018           Bitcoin      3\n",
       "ETH      0.000000e+00         0.000109          Ethereum      3\n",
       "LTC      8.400000e-05         0.000064          Litecoin      3\n",
       "DASH     2.200000e-05         0.000009              Dash      0\n",
       "XMR      0.000000e+00         0.000017            Monero      3\n",
       "ETC      2.100000e-04         0.000115  Ethereum Classic      3\n",
       "ZEC      2.100000e-05         0.000007             ZCash      3"
      ]
     },
     "execution_count": 111,
     "metadata": {},
     "output_type": "execute_result"
    }
   ],
   "source": [
    "# Create a new DataFrame that has the scaled data with the clustered_df DataFrame index.\n",
    "scaled_df= pd.DataFrame(data=min_max,columns=[\"TotalCoinsMined\", \"TotalCoinSupply\"],index=clustered_df.index)\n",
    "\n",
    "# Add the \"CoinName\" column from the clustered_df DataFrame to the new DataFrame.\n",
    "scaled_df[\"CoinName\"]= clustered_df[\"CoinName\"]\n",
    "\n",
    "# Add the \"Class\" column from the clustered_df DataFrame to the new DataFrame. \n",
    "scaled_df[\"Class\"] = model.labels_\n",
    "\n",
    "scaled_df.head(10)"
   ]
  },
  {
   "cell_type": "code",
   "execution_count": 114,
   "metadata": {},
   "outputs": [
    {
     "data": {},
     "metadata": {},
     "output_type": "display_data"
    },
    {
     "data": {
      "application/vnd.holoviews_exec.v0+json": "",
      "text/html": [
       "<div id='1974'>\n",
       "  <div class=\"bk-root\" id=\"572347a1-03c9-419c-aa6c-b220bfeba6ab\" data-root-id=\"1974\"></div>\n",
       "</div>\n",
       "<script type=\"application/javascript\">(function(root) {\n",
       "  function embed_document(root) {\n",
       "    var docs_json = {\"d50f1b5d-6a8c-4e04-8924-7993c5951072\":{\"defs\":[{\"extends\":null,\"module\":null,\"name\":\"ReactiveHTML1\",\"overrides\":[],\"properties\":[]},{\"extends\":null,\"module\":null,\"name\":\"FlexBox1\",\"overrides\":[],\"properties\":[{\"default\":\"flex-start\",\"kind\":null,\"name\":\"align_content\"},{\"default\":\"flex-start\",\"kind\":null,\"name\":\"align_items\"},{\"default\":\"row\",\"kind\":null,\"name\":\"flex_direction\"},{\"default\":\"wrap\",\"kind\":null,\"name\":\"flex_wrap\"},{\"default\":\"flex-start\",\"kind\":null,\"name\":\"justify_content\"}]},{\"extends\":null,\"module\":null,\"name\":\"GridStack1\",\"overrides\":[],\"properties\":[{\"default\":\"warn\",\"kind\":null,\"name\":\"mode\"},{\"default\":null,\"kind\":null,\"name\":\"ncols\"},{\"default\":null,\"kind\":null,\"name\":\"nrows\"},{\"default\":true,\"kind\":null,\"name\":\"allow_resize\"},{\"default\":true,\"kind\":null,\"name\":\"allow_drag\"},{\"default\":[],\"kind\":null,\"name\":\"state\"}]},{\"extends\":null,\"module\":null,\"name\":\"click1\",\"overrides\":[],\"properties\":[{\"default\":\"\",\"kind\":null,\"name\":\"terminal_output\"},{\"default\":\"\",\"kind\":null,\"name\":\"debug_name\"},{\"default\":0,\"kind\":null,\"name\":\"clears\"}]},{\"extends\":null,\"module\":null,\"name\":\"NotificationAreaBase1\",\"overrides\":[],\"properties\":[{\"default\":\"bottom-right\",\"kind\":null,\"name\":\"position\"},{\"default\":0,\"kind\":null,\"name\":\"_clear\"}]},{\"extends\":null,\"module\":null,\"name\":\"NotificationArea1\",\"overrides\":[],\"properties\":[{\"default\":[],\"kind\":null,\"name\":\"notifications\"},{\"default\":\"bottom-right\",\"kind\":null,\"name\":\"position\"},{\"default\":0,\"kind\":null,\"name\":\"_clear\"},{\"default\":[{\"background\":\"#ffc107\",\"icon\":{\"className\":\"fas fa-exclamation-triangle\",\"color\":\"white\",\"tagName\":\"i\"},\"type\":\"warning\"},{\"background\":\"#007bff\",\"icon\":{\"className\":\"fas fa-info-circle\",\"color\":\"white\",\"tagName\":\"i\"},\"type\":\"info\"}],\"kind\":null,\"name\":\"types\"}]},{\"extends\":null,\"module\":null,\"name\":\"Notification\",\"overrides\":[],\"properties\":[{\"default\":null,\"kind\":null,\"name\":\"background\"},{\"default\":3000,\"kind\":null,\"name\":\"duration\"},{\"default\":null,\"kind\":null,\"name\":\"icon\"},{\"default\":\"\",\"kind\":null,\"name\":\"message\"},{\"default\":null,\"kind\":null,\"name\":\"notification_type\"},{\"default\":false,\"kind\":null,\"name\":\"_destroyed\"}]},{\"extends\":null,\"module\":null,\"name\":\"TemplateActions1\",\"overrides\":[],\"properties\":[{\"default\":0,\"kind\":null,\"name\":\"open_modal\"},{\"default\":0,\"kind\":null,\"name\":\"close_modal\"}]},{\"extends\":null,\"module\":null,\"name\":\"MaterialTemplateActions1\",\"overrides\":[],\"properties\":[{\"default\":0,\"kind\":null,\"name\":\"open_modal\"},{\"default\":0,\"kind\":null,\"name\":\"close_modal\"}]}],\"roots\":{\"references\":[{\"attributes\":{},\"id\":\"2016\",\"type\":\"BasicTickFormatter\"},{\"attributes\":{},\"id\":\"2017\",\"type\":\"AllLabels\"},{\"attributes\":{\"angle\":{\"value\":0.0},\"fill_alpha\":{\"value\":1.0},\"fill_color\":{\"value\":\"#fc4f30\"},\"hatch_alpha\":{\"value\":1.0},\"hatch_color\":{\"value\":\"#fc4f30\"},\"hatch_scale\":{\"value\":12.0},\"hatch_weight\":{\"value\":1.0},\"line_alpha\":{\"value\":1.0},\"line_cap\":{\"value\":\"butt\"},\"line_color\":{\"value\":\"#fc4f30\"},\"line_dash\":{\"value\":[]},\"line_dash_offset\":{\"value\":0},\"line_join\":{\"value\":\"bevel\"},\"line_width\":{\"value\":1},\"marker\":{\"value\":\"circle\"},\"size\":{\"value\":5.477225575051661},\"x\":{\"field\":\"TotalCoinsMined\"},\"y\":{\"field\":\"TotalCoinSupply\"}},\"id\":\"2060\",\"type\":\"Scatter\"},{\"attributes\":{\"source\":{\"id\":\"2085\"}},\"id\":\"2092\",\"type\":\"CDSView\"},{\"attributes\":{\"coordinates\":null,\"data_source\":{\"id\":\"2018\"},\"glyph\":{\"id\":\"2021\"},\"group\":null,\"hover_glyph\":null,\"muted_glyph\":{\"id\":\"2023\"},\"nonselection_glyph\":{\"id\":\"2022\"},\"selection_glyph\":{\"id\":\"2038\"},\"view\":{\"id\":\"2025\"}},\"id\":\"2024\",\"type\":\"GlyphRenderer\"},{\"attributes\":{\"coordinates\":null,\"data_source\":{\"id\":\"2085\"},\"glyph\":{\"id\":\"2088\"},\"group\":null,\"hover_glyph\":null,\"muted_glyph\":{\"id\":\"2090\"},\"nonselection_glyph\":{\"id\":\"2089\"},\"selection_glyph\":{\"id\":\"2110\"},\"view\":{\"id\":\"2092\"}},\"id\":\"2091\",\"type\":\"GlyphRenderer\"},{\"attributes\":{\"fill_alpha\":{\"value\":0.1},\"fill_color\":{\"value\":\"#e5ae38\"},\"hatch_alpha\":{\"value\":0.1},\"hatch_color\":{\"value\":\"#e5ae38\"},\"line_alpha\":{\"value\":0.1},\"line_color\":{\"value\":\"#e5ae38\"},\"size\":{\"value\":5.477225575051661},\"x\":{\"field\":\"TotalCoinsMined\"},\"y\":{\"field\":\"TotalCoinSupply\"}},\"id\":\"2065\",\"type\":\"Scatter\"},{\"attributes\":{\"label\":{\"value\":\"0\"},\"renderers\":[{\"id\":\"2024\"}]},\"id\":\"2037\",\"type\":\"LegendItem\"},{\"attributes\":{\"click_policy\":\"mute\",\"coordinates\":null,\"group\":null,\"items\":[{\"id\":\"2037\"},{\"id\":\"2059\"},{\"id\":\"2083\"},{\"id\":\"2109\"}],\"location\":[0,0],\"title\":\"Class\"},\"id\":\"2036\",\"type\":\"Legend\"},{\"attributes\":{},\"id\":\"2080\",\"type\":\"UnionRenderers\"},{\"attributes\":{},\"id\":\"2106\",\"type\":\"UnionRenderers\"},{\"attributes\":{\"fill_alpha\":{\"value\":0.2},\"fill_color\":{\"value\":\"#30a2da\"},\"hatch_alpha\":{\"value\":0.2},\"hatch_color\":{\"value\":\"#30a2da\"},\"line_alpha\":{\"value\":0.2},\"line_color\":{\"value\":\"#30a2da\"},\"size\":{\"value\":5.477225575051661},\"x\":{\"field\":\"TotalCoinsMined\"},\"y\":{\"field\":\"TotalCoinSupply\"}},\"id\":\"2023\",\"type\":\"Scatter\"},{\"attributes\":{},\"id\":\"2014\",\"type\":\"AllLabels\"},{\"attributes\":{\"fill_alpha\":{\"value\":0.2},\"fill_color\":{\"value\":\"#6d904f\"},\"hatch_alpha\":{\"value\":0.2},\"hatch_color\":{\"value\":\"#6d904f\"},\"line_alpha\":{\"value\":0.2},\"line_color\":{\"value\":\"#6d904f\"},\"size\":{\"value\":5.477225575051661},\"x\":{\"field\":\"TotalCoinsMined\"},\"y\":{\"field\":\"TotalCoinSupply\"}},\"id\":\"2090\",\"type\":\"Scatter\"},{\"attributes\":{},\"id\":\"2001\",\"type\":\"WheelZoomTool\"},{\"attributes\":{\"angle\":{\"value\":0.0},\"fill_alpha\":{\"value\":1.0},\"fill_color\":{\"value\":\"#30a2da\"},\"hatch_alpha\":{\"value\":1.0},\"hatch_color\":{\"value\":\"#30a2da\"},\"hatch_scale\":{\"value\":12.0},\"hatch_weight\":{\"value\":1.0},\"line_alpha\":{\"value\":1.0},\"line_cap\":{\"value\":\"butt\"},\"line_color\":{\"value\":\"#30a2da\"},\"line_dash\":{\"value\":[]},\"line_dash_offset\":{\"value\":0},\"line_join\":{\"value\":\"bevel\"},\"line_width\":{\"value\":1},\"marker\":{\"value\":\"circle\"},\"size\":{\"value\":5.477225575051661},\"x\":{\"field\":\"TotalCoinsMined\"},\"y\":{\"field\":\"TotalCoinSupply\"}},\"id\":\"2038\",\"type\":\"Scatter\"},{\"attributes\":{},\"id\":\"1992\",\"type\":\"BasicTicker\"},{\"attributes\":{\"source\":{\"id\":\"2061\"}},\"id\":\"2068\",\"type\":\"CDSView\"},{\"attributes\":{\"fill_alpha\":{\"value\":0.1},\"fill_color\":{\"value\":\"#6d904f\"},\"hatch_alpha\":{\"value\":0.1},\"hatch_color\":{\"value\":\"#6d904f\"},\"line_alpha\":{\"value\":0.1},\"line_color\":{\"value\":\"#6d904f\"},\"size\":{\"value\":5.477225575051661},\"x\":{\"field\":\"TotalCoinsMined\"},\"y\":{\"field\":\"TotalCoinSupply\"}},\"id\":\"2089\",\"type\":\"Scatter\"},{\"attributes\":{},\"id\":\"2000\",\"type\":\"PanTool\"},{\"attributes\":{\"coordinates\":null,\"group\":null,\"text_color\":\"black\",\"text_font_size\":\"12pt\"},\"id\":\"1983\",\"type\":\"Title\"},{\"attributes\":{\"fill_color\":{\"value\":\"#6d904f\"},\"hatch_color\":{\"value\":\"#6d904f\"},\"line_color\":{\"value\":\"#6d904f\"},\"size\":{\"value\":5.477225575051661},\"x\":{\"field\":\"TotalCoinsMined\"},\"y\":{\"field\":\"TotalCoinSupply\"}},\"id\":\"2088\",\"type\":\"Scatter\"},{\"attributes\":{},\"id\":\"2062\",\"type\":\"Selection\"},{\"attributes\":{\"source\":{\"id\":\"2018\"}},\"id\":\"2025\",\"type\":\"CDSView\"},{\"attributes\":{},\"id\":\"1996\",\"type\":\"BasicTicker\"},{\"attributes\":{},\"id\":\"2040\",\"type\":\"Selection\"},{\"attributes\":{\"axis_label\":\"TotalCoinsMined\",\"coordinates\":null,\"formatter\":{\"id\":\"2013\"},\"group\":null,\"major_label_policy\":{\"id\":\"2014\"},\"ticker\":{\"id\":\"1992\"}},\"id\":\"1991\",\"type\":\"LinearAxis\"},{\"attributes\":{\"data\":{\"Class\":[2],\"CoinName\":[\"BitTorrent\"],\"TotalCoinSupply\":{\"__ndarray__\":\"AAAAAAAA8D8=\",\"dtype\":\"float64\",\"order\":\"little\",\"shape\":[1]},\"TotalCoinsMined\":{\"__ndarray__\":\"rkfhehSu7z8=\",\"dtype\":\"float64\",\"order\":\"little\",\"shape\":[1]}},\"selected\":{\"id\":\"2062\"},\"selection_policy\":{\"id\":\"2080\"}},\"id\":\"2061\",\"type\":\"ColumnDataSource\"},{\"attributes\":{\"fill_alpha\":{\"value\":0.1},\"fill_color\":{\"value\":\"#30a2da\"},\"hatch_alpha\":{\"value\":0.1},\"hatch_color\":{\"value\":\"#30a2da\"},\"line_alpha\":{\"value\":0.1},\"line_color\":{\"value\":\"#30a2da\"},\"size\":{\"value\":5.477225575051661},\"x\":{\"field\":\"TotalCoinsMined\"},\"y\":{\"field\":\"TotalCoinSupply\"}},\"id\":\"2022\",\"type\":\"Scatter\"},{\"attributes\":{\"axis\":{\"id\":\"1991\"},\"coordinates\":null,\"grid_line_color\":null,\"group\":null,\"ticker\":null},\"id\":\"1994\",\"type\":\"Grid\"},{\"attributes\":{\"fill_alpha\":{\"value\":0.1},\"fill_color\":{\"value\":\"#fc4f30\"},\"hatch_alpha\":{\"value\":0.1},\"hatch_color\":{\"value\":\"#fc4f30\"},\"line_alpha\":{\"value\":0.1},\"line_color\":{\"value\":\"#fc4f30\"},\"size\":{\"value\":5.477225575051661},\"x\":{\"field\":\"TotalCoinsMined\"},\"y\":{\"field\":\"TotalCoinSupply\"}},\"id\":\"2043\",\"type\":\"Scatter\"},{\"attributes\":{},\"id\":\"1987\",\"type\":\"LinearScale\"},{\"attributes\":{\"label\":{\"value\":\"3\"},\"renderers\":[{\"id\":\"2091\"}]},\"id\":\"2109\",\"type\":\"LegendItem\"},{\"attributes\":{\"data\":{\"Class\":[0,0,0,0,0,0,0,0,0,0,0,0,0,0,0,0,0,0,0,0,0,0,0,0,0,0,0,0,0,0,0,0,0,0,0,0,0,0,0,0,0,0,0,0,0,0,0,0,0,0,0,0,0,0,0,0,0,0,0,0,0,0,0,0,0,0,0,0,0,0,0,0,0,0,0,0,0,0,0,0,0,0,0,0,0,0,0,0,0,0,0,0,0,0,0,0,0,0,0,0,0,0,0,0,0,0,0,0,0,0,0,0,0,0,0,0,0,0,0,0,0,0,0,0,0,0,0,0,0,0,0,0,0,0,0,0,0,0,0,0,0,0,0,0,0,0,0,0,0,0,0,0,0,0,0,0,0,0,0,0,0,0,0,0,0,0,0,0,0,0,0,0,0,0,0,0,0,0,0,0,0,0,0,0,0,0,0,0,0,0,0,0,0,0,0,0,0,0,0,0,0,0,0,0,0,0,0,0,0,0,0,0,0,0,0,0,0,0,0,0,0,0,0,0,0,0,0,0,0,0,0,0,0,0,0,0,0,0,0,0,0,0,0,0,0,0,0,0,0,0,0,0,0,0,0,0,0,0,0,0,0,0,0,0,0,0,0,0,0,0,0,0,0,0,0,0,0,0,0,0,0,0,0,0,0,0,0,0,0],\"CoinName\":[\"42 Coin\",\"404Coin\",\"EliteCoin\",\"Dash\",\"Bitshares\",\"BitcoinDark\",\"PayCoin\",\"KoboCoin\",\"Aurora Coin\",\"BlueCoin\",\"EnergyCoin\",\"BitBar\",\"CryptoBullion\",\"CasinoCoin\",\"Diamond\",\"Exclusive Coin\",\"FlutterCoin\",\"HoboNickels\",\"HyperStake\",\"IOCoin\",\"MaxCoin\",\"MintCoin\",\"MazaCoin\",\"Nautilus Coin\",\"NavCoin\",\"OpalCoin\",\"Orbitcoin\",\"PotCoin\",\"PhoenixCoin\",\"Reddcoin\",\"SuperCoin\",\"SyncCoin\",\"TeslaCoin\",\"TittieCoin\",\"TorCoin\",\"UnitaryStatus Dollar\",\"UltraCoin\",\"VeriCoin\",\"X11 Coin\",\"Crypti\",\"StealthCoin\",\"ZCC Coin\",\"BurstCoin\",\"StorjCoin\",\"Neutron\",\"FairCoin\",\"RubyCoin\",\"Kore\",\"Dnotes\",\"8BIT Coin\",\"Sativa Coin\",\"Ucoin\",\"Vtorrent\",\"IslaCoin\",\"Nexus\",\"Droidz\",\"Squall Coin\",\"Diggits\",\"Paycon\",\"Emercoin\",\"EverGreenCoin\",\"Decred\",\"EDRCoin\",\"Hitcoin\",\"DubaiCoin\",\"PWR Coin\",\"BillaryCoin\",\"GPU Coin\",\"EuropeCoin\",\"ZeitCoin\",\"SwingCoin\",\"SafeExchangeCoin\",\"Nebuchadnezzar\",\"Ratecoin\",\"Revenu\",\"Clockcoin\",\"VIP Tokens\",\"BitSend\",\"Let it Ride\",\"PutinCoin\",\"iBankCoin\",\"Frankywillcoin\",\"MudraCoin\",\"Lutetium Coin\",\"GoldBlocks\",\"CarterCoin\",\"BitTokens\",\"MustangCoin\",\"ZoneCoin\",\"RootCoin\",\"BitCurrency\",\"Swiscoin\",\"BuzzCoin\",\"Opair\",\"PesoBit\",\"Halloween Coin\",\"CoffeeCoin\",\"RoyalCoin\",\"GanjaCoin V2\",\"TeamUP\",\"LanaCoin\",\"ARK\",\"InsaneCoin\",\"EmberCoin\",\"XenixCoin\",\"FreeCoin\",\"PLNCoin\",\"AquariusCoin\",\"Creatio\",\"Eternity\",\"Eurocoin\",\"BitcoinFast\",\"Stakenet\",\"BitConnect Coin\",\"MoneyCoin\",\"Enigma\",\"Russiacoin\",\"PandaCoin\",\"GameUnits\",\"GAKHcoin\",\"Allsafe\",\"LiteCreed\",\"Klingon Empire Darsek\",\"Internet of People\",\"KushCoin\",\"Printerium\",\"Impeach\",\"Zilbercoin\",\"FirstCoin\",\"FindCoin\",\"OpenChat\",\"RenosCoin\",\"VirtacoinPlus\",\"TajCoin\",\"Impact\",\"Atmos\",\"HappyCoin\",\"MacronCoin\",\"Condensate\",\"Independent Money System\",\"ArgusCoin\",\"LomoCoin\",\"ProCurrency\",\"GoldReserve\",\"GrowthCoin\",\"Phreak\",\"Degas Coin\",\"HTML5 Coin\",\"Ultimate Secure Cash\",\"QTUM\",\"Espers\",\"Denarius\",\"Virta Unique Coin\",\"Bitcoin Planet\",\"BritCoin\",\"Linda\",\"DeepOnion\",\"Signatum\",\"Cream\",\"Monoeci\",\"Draftcoin\",\"Vechain\",\"Stakecoin\",\"CoinonatX\",\"Ethereum Dark\",\"Obsidian\",\"Cardano\",\"Regalcoin\",\"TrezarCoin\",\"TerraNovaCoin\",\"Rupee\",\"WomenCoin\",\"Theresa May Coin\",\"NamoCoin\",\"LUXCoin\",\"Xios\",\"Bitcloud 2.0\",\"KekCoin\",\"BlackholeCoin\",\"Infinity Economics\",\"Magnet\",\"Lamden Tau\",\"Electra\",\"Bitcoin Diamond\",\"Cash & Back Coin\",\"Bulwark\",\"Kalkulus\",\"GermanCoin\",\"LiteCoin Ultra\",\"PhantomX\",\"Digiwage\",\"Trollcoin\",\"Litecoin Plus\",\"Monkey Project\",\"TokenPay\",\"1717 Masonic Commemorative Token\",\"My Big Coin\",\"Unified Society USDEX\",\"Tokyo Coin\",\"LitecoinCash\",\"Stipend\",\"Pushi\",\"Ellerium\",\"Velox\",\"Ontology\",\"Bitspace\",\"Briacoin\",\"Ignition\",\"MedicCoin\",\"Bitcoin Green\",\"Deviant Coin\",\"Abjcoin\",\"Semux\",\"Carebit\",\"Zealium\",\"Proton\",\"iDealCash\",\"Bitcoin Incognito\",\"HollyWoodCoin\",\"Swisscoin\",\"Xt3ch\",\"TheVig\",\"EmaratCoin\",\"Dekado\",\"Lynx\",\"Poseidon Quark\",\"BitcoinWSpectrum\",\"Muse\",\"Trivechain\",\"Dystem\",\"Giant\",\"Peony Coin\",\"Absolute Coin\",\"Vitae\",\"TPCash\",\"ARENON\",\"EUNO\",\"MMOCoin\",\"Ketan\",\"XDNA\",\"PAXEX\",\"ThunderStake\",\"Kcash\",\"Bettex coin\",\"BitMoney\",\"Junson Ming Chan Coin\",\"HerbCoin\",\"PirateCash\",\"Oduwa\",\"Galilel\",\"Crypto Sports\",\"Credit\",\"Dash Platinum\",\"Nasdacoin\",\"Beetle Coin\",\"Titan Coin\",\"Award\",\"Insane Coin\",\"ALAX\",\"LiteDoge\",\"TruckCoin\",\"OrangeCoin\",\"BitstarCoin\",\"NeosCoin\",\"HyperCoin\",\"PinkCoin\",\"AudioCoin\",\"IncaKoin\",\"Piggy Coin\",\"Genstake\",\"XiaoMiCoin\",\"CapriCoin\",\" ClubCoin\",\"Radium\",\"Creditbit \",\"OKCash\",\"Lisk\",\"HiCoin\",\"WhiteCoin\",\"FriendshipCoin\",\"Triangles Coin\",\"EOS\",\"Oxycoin\",\"TigerCash\",\"Particl\",\"Nxt\",\"ZEPHYR\",\"Gapcoin\",\"BitcoinPlus\"],\"TotalCoinSupply\":{\"__ndarray__\":\"AAAAAAAAAADVQ6eRhXZRP0gFXx0LSZ4/fb2YAaYh4z6ruJV6oa9mP4fxacJq17U+W7PlNwxp6T7W0pn52A37PoFADD9SNfM+Y2BMhDkIRT+TanQDD0sgP35ukl9tEWc+7S9W9+ubsT49x1z95a+kP28YHhABAMw+ye+KsSkQ2D76DhvNkpI+P1ecpQYuoxc/Ypyz9GrHWz/7kyPDCLLyPpO8/kFBRRA/0/9nDoYGlj/8i/ixXrVaP7x4IiUyI/E+j6uxX+B/ET9yUL0Vow3wPvxfgvURSss+cvkNgl17LT+LzHsEg5UTPwaytCCdUp4/8TiBm6/aCj9doxA1Q7ITPkOS6FanQBU/dL+NX1fZWj+VBQyzwkO4PlcDUAL0L1I/fTIxK6KaCj/j5byfQfUAPxuOVInTct0++0V+YL96Gj9FarAorYYBPzHwJWnxlyM/L/f3qVABXj+Tp6kxyxkLP8ZkQxXrtwQ/ibYLlr8rDD876RpKEMv8PqXMCj0KI8E+Y9QbIWkfJz/NWTdK5t+4PhEtw1ouEd4+SuSuQabKxj5dOKHlN5XoPj9ykiLfprk+IXp/RSnbED9yRrm5bCbiPvbV3K8TUJY++0V+YL96Gj+usZO2/Wf4PjQmLIvTzQY/1efNMZmp7D5+56xI8fTlPuaDOXY0GM8+uMNU6Ym/hj8I144k4rrVPosWSaGt1IQ/AkyV+P4P4z7jP4drq28FPzwUggjXC+Y+7L0e6OUeoz9rTh5jVovSPvn/Em4kxWE/kQBSK/0u9T7vjyYFktAhP3lc7dd7QrQ+QPXFzhym8T4+Nd5F5BgWP9J6jnO41Pk+ObDN1M5vBD+HQ9Dqr+lKP3YCdaw0LdM++0V+YL96Gj/CsEps9C7VPlS9UGUMv0U/pqRxDiJ88D7oqXRGKNwGP54PeOINLqQ+9FiPodBJpj5CAX3zt+DFPsR5KJfqb8A+T/4f/1R0Jj9wy+L1hwRGP4Iw9VQZQJQ/QVxHa5CaEz9q4x6W3sABP+anRel4hTE//jSGyJGwIz9a3dieLS/FPvtFfmC/eho/0CaSSobf8j7om9ie0ehRP4yfDBK/phw/2bdahaRt8z5pi0xWDNe3PzoFWd5FU9A+qVTopb56Cj8Kl7V81RnyPnWw/lSIwcQ+kQBSK/0u9T4WN5ZE6rbZPjz585B5Teo+mJbD7Cdx9T4t+OpgFAQUP+s1WKcNeec+4Jew0N0e5z5bwhuTX5yrPv5ylEtMv+E+qgjVT8Z8oT9eSCgLgW3NPrZMGtKEGMw+gWG4BsRH5j7bwMkrHwIAP/7gqRozYvk+ycQ2iXpnxT4Swqe2z/nXPmWo1pTmCuk+NMilXEnjlD75z9m7pMPIPrZ+M2OfIB0/oIVe/s3E7j56Q0MFuIxQP8DjwNiFFwM/Yojc8CLi6z6/xleSd8/pPjaSA+NaSx0/RxRsP55tHT8TzIbUfsv2PvWgsIfWkjo/vX+hfbIbID9qIh3CGb/WPtzbifm0dbM+ClzCLAnyoD4HdZcEvp8aP4T+AFYCMPI+MqZkmp+JMz9Xk1ir5SDoPkAjePZqn/Y+EiXgvSYHpT8A2wc5DOnlPvtFfmC/eho/PAT7udKVlz/kKuRSPKzRPvzVMe6uqhA/LSuoRvfT3D741RgF1Yb2PjQa6ZQatoI/cEzD1ck29z5MptGTM5ccP79RNfoAEQk/A/IJ6Umg6j460UXAisTzPs2g4AcRrqw/mO9bzlry0D6EUc3xJbL0PqB8WFRGy9E+B3K8ML16+j57/PtlW9GaP8LmK5XBxN4+Bh/umUwuKD8wD8hOyFSzPrzBQMmWa/k+rp7aV+kPqT9CUqMh5F8YP74vR7jljUI/McZWDzOY4T6jQtQrAzfCPh9wp4i2QwA/xDTgUPke6j4Qs5xlsVTxPkgxPBFPnoI/fiLM5MQ6BD+6ihEDPBIzP7lLXILzX50/YrqCwqdMKD/hujF22WIdP2ulizrsD+w+x4lPZ4v18T5woSpeKVJ0P4cZ6sLR1eE+fhwrH33sBz9y9oQbTOr8Pnc7MYj+j0M/CEcxCKQ4xT7hpgdtD6zSPrvcymHip/U+bnHiGX5ruz5EiFexPenjPhJgttbRFy8/7udFeLF9Lj+QpMXySiFFP+c6R5mU1ec+u+X6Flxewj69xrZ1NWucPtASAlBMFfs+GJsR1eyKRT/aFzKZITXtPvDlnPIQqaw+dKhUDHkItD64Z5wg3LExP9oOofWExOQ+51LeU9Mr9z6Q31yKLO7kPpoR1LgG3bQ+VSmOPUyAIj+ib5N/FnbnPsNzqfNQqNI+RjXBTQU9Vz+SE54zvRnnPqEkCZqrfwQ/LvAeFNEZhT/0x9r6uSngPiopGOdCmgE/vKQ4Yabg9j5yMj9ExgkAP3wmmCQII7Q/K8r/+wcExz42SXejuJ0OP8CrILqLRfM+hj+ewNiNAz816e99hAHePqwxxcI7FNk+RoR7IXyosT45rbWhQT7sPoehaumffRE/fSgBQ+vk1j5WbQyj6mj0PoqPGjvKSwA/m/qEcQqJHD/EaDW8FMLjPu6Jv2XDy9M+i5sRq68V0z7rbVw4uopRP3pDQwW4jFA/j6T3FZPB3D7l66IyYpsrP6sg48UZzZE/yLfFtXGzAj+YRvIV+IvsPiJpWr7XTe8+4/ds9YtY8z4H2XD9qWTAPooq7/B94p8/4tbNEUVBqD5AVloZLsP1PqJsVzvCVio/IzBMrEKrTT8owWx6L1XwPguSjTTXLvk+ekNDBbiMUD9g9aU8urCPP8wjSmHfDjA/rR3J9LH4zT5jrGXLUMv1Pn9hyEvMm9I+ZGM0MPpm5D4jGGd/1OI8P5zTLIUWO1A/nEPLLlmOkj+JwbXT6ltAPx/GUqt+xg8/OLivhebDOj9jAAG9/agqPxgklPhDcBs/S/YcU3ow0D7D6UYWs+bxPpiSLOkZxhM/MuMfElLHHz/xsMY/B7CEP1uh+dK0rjA/pPRgE3/8sj6rSTdTixSDPkVvlJzC41A/EcJq2jeTUj96Q0MFuIxQP7NFSRg5quM+ekNDBbiMUD8HHHEKuIxgPznCFIQVoe8+Qg7lzWlkgT4=\",\"dtype\":\"float64\",\"order\":\"little\",\"shape\":[289]},\"TotalCoinsMined\":{\"__ndarray__\":\"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\",\"dtype\":\"float64\",\"order\":\"little\",\"shape\":[289]}},\"selected\":{\"id\":\"2019\"},\"selection_policy\":{\"id\":\"2033\"}},\"id\":\"2018\",\"type\":\"ColumnDataSource\"},{\"attributes\":{\"axis\":{\"id\":\"1995\"},\"coordinates\":null,\"dimension\":1,\"grid_line_color\":null,\"group\":null,\"ticker\":null},\"id\":\"1998\",\"type\":\"Grid\"},{\"attributes\":{\"data\":{\"Class\":[3,3,3,3,3,3,3,3,3,3,3,3,3,3,3,3,3,3,3,3,3,3,3,3,3,3,3,3,3,3,3,3,3,3,3,3,3,3,3,3,3,3,3,3,3,3,3,3,3,3,3,3,3,3,3,3,3,3,3,3,3,3,3,3,3,3,3,3,3,3,3,3,3,3,3,3,3,3,3,3,3,3,3,3,3,3,3,3,3,3,3,3,3,3,3,3,3,3,3,3,3,3,3,3,3,3,3,3,3,3,3,3,3,3,3,3,3,3,3,3,3,3,3,3,3,3,3,3,3,3,3,3,3,3,3,3,3,3,3,3,3,3,3,3,3,3,3,3,3,3,3,3,3,3,3,3,3,3,3,3,3,3,3,3,3,3,3,3,3,3,3,3,3,3,3,3,3,3,3,3,3,3,3,3,3,3,3,3,3,3,3,3,3,3,3,3,3,3,3,3,3,3,3,3,3,3,3,3,3,3,3,3,3,3,3,3,3,3,3,3,3,3,3,3,3,3,3,3,3,3,3,3,3,3,3,3,3,3],\"CoinName\":[\"Bitcoin\",\"Ethereum\",\"Litecoin\",\"Monero\",\"Ethereum Classic\",\"ZCash\",\"DigiByte\",\"ProsperCoin\",\"Spreadcoin\",\"Argentum\",\"MyriadCoin\",\"MoonCoin\",\"ZetaCoin\",\"SexCoin\",\"Quatloo\",\"QuarkCoin\",\"Riecoin\",\"Digitalcoin \",\"Catcoin\",\"CannaCoin\",\"CryptCoin\",\"Verge\",\"DevCoin\",\"EarthCoin\",\"E-Gulden\",\"Einsteinium\",\"Emerald\",\"Franko\",\"FeatherCoin\",\"GrandCoin\",\"GlobalCoin\",\"GoldCoin\",\"Infinite Coin\",\"IXcoin\",\"KrugerCoin\",\"LuckyCoin\",\"Litebar \",\"MegaCoin\",\"MediterraneanCoin\",\"MinCoin\",\"NobleCoin\",\"Namecoin\",\"NyanCoin\",\"RonPaulCoin\",\"StableCoin\",\"SmartCoin\",\"SysCoin\",\"TigerCoin\",\"TerraCoin\",\"UnbreakableCoin\",\"Unobtanium\",\"UroCoin\",\"ViaCoin\",\"Vertcoin\",\"WorldCoin\",\"JouleCoin\",\"ByteCoin\",\"DigitalNote \",\"MonaCoin\",\"Gulden\",\"PesetaCoin\",\"Wild Beast Coin\",\"Flo\",\"ArtByte\",\"Folding Coin\",\"Unitus\",\"CypherPunkCoin\",\"OmniCron\",\"GreenCoin\",\"Cryptonite\",\"MasterCoin\",\"SoonCoin\",\"1Credit\",\"MarsCoin \",\"Crypto\",\"Anarchists Prime\",\"BowsCoin\",\"Song Coin\",\"BitZeny\",\"Expanse\",\"Siacoin\",\"MindCoin\",\"I0coin\",\"Revolution VR\",\"HOdlcoin\",\"Gamecredits\",\"CarpeDiemCoin\",\"Adzcoin\",\"SoilCoin\",\"YoCoin\",\"SibCoin\",\"Francs\",\"BolivarCoin\",\"Omni\",\"PizzaCoin\",\"Komodo\",\"Karbo\",\"ZayedCoin\",\"Circuits of Value\",\"DopeCoin\",\"DollarCoin\",\"Shilling\",\"ZCoin\",\"Elementrem\",\"ZClassic\",\"KiloCoin\",\"ArtexCoin\",\"Kurrent\",\"Cannabis Industry Coin\",\"OsmiumCoin\",\"Bikercoins\",\"HexxCoin\",\"PacCoin\",\"Citadel\",\"BeaverCoin\",\"VaultCoin\",\"Zero\",\"Canada eCoin\",\"Zoin\",\"DubaiCoin\",\"EB3coin\",\"Coinonat\",\"BenjiRolls\",\"ILCoin\",\"EquiTrader\",\"Quantum Resistant Ledger\",\"Dynamic\",\"Nano\",\"ChanCoin\",\"Dinastycoin\",\"DigitalPrice\",\"Unify\",\"SocialCoin\",\"ArcticCoin\",\"DAS\",\"LeviarCoin\",\"Bitcore\",\"gCn Coin\",\"SmartCash\",\"Onix\",\"Bitcoin Cash\",\"Sojourn Coin\",\"NewYorkCoin\",\"FrazCoin\",\"Kronecoin\",\"AdCoin\",\"Linx\",\"Sumokoin\",\"BitcoinZ\",\"Elements\",\"VIVO Coin\",\"Bitcoin Gold\",\"Pirl\",\"eBoost\",\"Pura\",\"Innova\",\"Ellaism\",\"GoByte\",\"SHIELD\",\"UltraNote\",\"BitCoal\",\"DaxxCoin\",\"AC3\",\"Lethean\",\"PopularCoin\",\"Photon\",\"Sucre\",\"SparksPay\",\"GunCoin\",\"IrishCoin\",\"Pioneer Coin\",\"UnitedBitcoin\",\"Interzone\",\"TurtleCoin\",\"MUNcoin\",\"Niobio Cash\",\"ShareChain\",\"Travelflex\",\"KREDS\",\"BitFlip\",\"LottoCoin\",\"Crypto Improvement Fund\",\"Callisto Network\",\"BitTube\",\"Poseidon\",\"Aidos Kuneen\",\"Bitrolium\",\"Alpenschillling\",\"FuturoCoin\",\"Monero Classic\",\"Jumpcoin\",\"Infinex\",\"KEYCO\",\"GINcoin\",\"PlatinCoin\",\"Loki\",\"Newton Coin\",\"MassGrid\",\"PluraCoin\",\"Motion\",\"PlusOneCoin\",\"Axe\",\"HexCoin\",\"Webchain\",\"Ryo\",\"Urals Coin\",\"Qwertycoin\",\"Project Pai\",\"Azart\",\"Xchange\",\"CrypticCoin\",\"Actinium\",\"Bitcoin SV\",\"FREDEnergy\",\"Universal Molecule\",\"Lithium\",\"Exosis\",\"Block-Logic\",\"Beam\",\"Bithereum\",\"SLICE\",\"BLAST\",\"Bitcoin Rhodium\",\"GlobalToken\",\"SolarCoin\",\"UFO Coin\",\"BlakeCoin\",\"Crypto Escudo\",\"Crown Coin\",\"SmileyCoin\",\"Groestlcoin\",\"Bata\",\"Pakcoin\",\"JoinCoin\",\"Vollar\",\"Reality Clash\",\"Beldex\",\"Horizen\"],\"TotalCoinSupply\":{\"__ndarray__\":\"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\",\"dtype\":\"float64\",\"order\":\"little\",\"shape\":[238]},\"TotalCoinsMined\":{\"__ndarray__\":\"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\",\"dtype\":\"float64\",\"order\":\"little\",\"shape\":[238]}},\"selected\":{\"id\":\"2086\"},\"selection_policy\":{\"id\":\"2106\"}},\"id\":\"2085\",\"type\":\"ColumnDataSource\"},{\"attributes\":{\"coordinates\":null,\"data_source\":{\"id\":\"2061\"},\"glyph\":{\"id\":\"2064\"},\"group\":null,\"hover_glyph\":null,\"muted_glyph\":{\"id\":\"2066\"},\"nonselection_glyph\":{\"id\":\"2065\"},\"selection_glyph\":{\"id\":\"2084\"},\"view\":{\"id\":\"2068\"}},\"id\":\"2067\",\"type\":\"GlyphRenderer\"},{\"attributes\":{},\"id\":\"1989\",\"type\":\"LinearScale\"},{\"attributes\":{\"axis_label\":\"TotalCoinSupply\",\"coordinates\":null,\"formatter\":{\"id\":\"2016\"},\"group\":null,\"major_label_policy\":{\"id\":\"2017\"},\"ticker\":{\"id\":\"1996\"}},\"id\":\"1995\",\"type\":\"LinearAxis\"},{\"attributes\":{\"label\":{\"value\":\"2\"},\"renderers\":[{\"id\":\"2067\"}]},\"id\":\"2083\",\"type\":\"LegendItem\"},{\"attributes\":{\"fill_alpha\":{\"value\":0.2},\"fill_color\":{\"value\":\"#e5ae38\"},\"hatch_alpha\":{\"value\":0.2},\"hatch_color\":{\"value\":\"#e5ae38\"},\"line_alpha\":{\"value\":0.2},\"line_color\":{\"value\":\"#e5ae38\"},\"size\":{\"value\":5.477225575051661},\"x\":{\"field\":\"TotalCoinsMined\"},\"y\":{\"field\":\"TotalCoinSupply\"}},\"id\":\"2066\",\"type\":\"Scatter\"},{\"attributes\":{\"source\":{\"id\":\"2039\"}},\"id\":\"2046\",\"type\":\"CDSView\"},{\"attributes\":{},\"id\":\"1999\",\"type\":\"SaveTool\"},{\"attributes\":{\"overlay\":{\"id\":\"2004\"}},\"id\":\"2002\",\"type\":\"BoxZoomTool\"},{\"attributes\":{},\"id\":\"2003\",\"type\":\"ResetTool\"},{\"attributes\":{\"angle\":{\"value\":0.0},\"fill_alpha\":{\"value\":1.0},\"fill_color\":{\"value\":\"#6d904f\"},\"hatch_alpha\":{\"value\":1.0},\"hatch_color\":{\"value\":\"#6d904f\"},\"hatch_scale\":{\"value\":12.0},\"hatch_weight\":{\"value\":1.0},\"line_alpha\":{\"value\":1.0},\"line_cap\":{\"value\":\"butt\"},\"line_color\":{\"value\":\"#6d904f\"},\"line_dash\":{\"value\":[]},\"line_dash_offset\":{\"value\":0},\"line_join\":{\"value\":\"bevel\"},\"line_width\":{\"value\":1},\"marker\":{\"value\":\"circle\"},\"size\":{\"value\":5.477225575051661},\"x\":{\"field\":\"TotalCoinsMined\"},\"y\":{\"field\":\"TotalCoinSupply\"}},\"id\":\"2110\",\"type\":\"Scatter\"},{\"attributes\":{\"bottom_units\":\"screen\",\"coordinates\":null,\"fill_alpha\":0.5,\"fill_color\":\"lightgrey\",\"group\":null,\"left_units\":\"screen\",\"level\":\"overlay\",\"line_alpha\":1.0,\"line_color\":\"black\",\"line_dash\":[4,4],\"line_width\":2,\"right_units\":\"screen\",\"syncable\":false,\"top_units\":\"screen\"},\"id\":\"2004\",\"type\":\"BoxAnnotation\"},{\"attributes\":{\"fill_color\":{\"value\":\"#e5ae38\"},\"hatch_color\":{\"value\":\"#e5ae38\"},\"line_color\":{\"value\":\"#e5ae38\"},\"size\":{\"value\":5.477225575051661},\"x\":{\"field\":\"TotalCoinsMined\"},\"y\":{\"field\":\"TotalCoinSupply\"}},\"id\":\"2064\",\"type\":\"Scatter\"},{\"attributes\":{\"end\":1.1,\"reset_end\":1.1,\"reset_start\":-0.1,\"start\":-0.1,\"tags\":[[[\"TotalCoinSupply\",\"TotalCoinSupply\",null]]]},\"id\":\"1977\",\"type\":\"Range1d\"},{\"attributes\":{\"coordinates\":null,\"data_source\":{\"id\":\"2039\"},\"glyph\":{\"id\":\"2042\"},\"group\":null,\"hover_glyph\":null,\"muted_glyph\":{\"id\":\"2044\"},\"nonselection_glyph\":{\"id\":\"2043\"},\"selection_glyph\":{\"id\":\"2060\"},\"view\":{\"id\":\"2046\"}},\"id\":\"2045\",\"type\":\"GlyphRenderer\"},{\"attributes\":{},\"id\":\"2033\",\"type\":\"UnionRenderers\"},{\"attributes\":{\"tools\":[{\"id\":\"1978\"},{\"id\":\"1999\"},{\"id\":\"2000\"},{\"id\":\"2001\"},{\"id\":\"2002\"},{\"id\":\"2003\"}]},\"id\":\"2005\",\"type\":\"Toolbar\"},{\"attributes\":{\"label\":{\"value\":\"1\"},\"renderers\":[{\"id\":\"2045\"}]},\"id\":\"2059\",\"type\":\"LegendItem\"},{\"attributes\":{\"fill_alpha\":{\"value\":0.2},\"fill_color\":{\"value\":\"#fc4f30\"},\"hatch_alpha\":{\"value\":0.2},\"hatch_color\":{\"value\":\"#fc4f30\"},\"line_alpha\":{\"value\":0.2},\"line_color\":{\"value\":\"#fc4f30\"},\"size\":{\"value\":5.477225575051661},\"x\":{\"field\":\"TotalCoinsMined\"},\"y\":{\"field\":\"TotalCoinSupply\"}},\"id\":\"2044\",\"type\":\"Scatter\"},{\"attributes\":{},\"id\":\"2056\",\"type\":\"UnionRenderers\"},{\"attributes\":{\"fill_color\":{\"value\":\"#30a2da\"},\"hatch_color\":{\"value\":\"#30a2da\"},\"line_color\":{\"value\":\"#30a2da\"},\"size\":{\"value\":5.477225575051661},\"x\":{\"field\":\"TotalCoinsMined\"},\"y\":{\"field\":\"TotalCoinSupply\"}},\"id\":\"2021\",\"type\":\"Scatter\"},{\"attributes\":{\"callback\":null,\"renderers\":[{\"id\":\"2024\"},{\"id\":\"2045\"},{\"id\":\"2067\"},{\"id\":\"2091\"}],\"tags\":[\"hv_created\"],\"tooltips\":[[\"Class\",\"@{Class}\"],[\"TotalCoinsMined\",\"@{TotalCoinsMined}\"],[\"TotalCoinSupply\",\"@{TotalCoinSupply}\"],[\"CoinName\",\"@{CoinName}\"]]},\"id\":\"1978\",\"type\":\"HoverTool\"},{\"attributes\":{\"margin\":[5,5,5,5],\"name\":\"HSpacer01923\",\"sizing_mode\":\"stretch_width\"},\"id\":\"1975\",\"type\":\"Spacer\"},{\"attributes\":{\"fill_color\":{\"value\":\"#fc4f30\"},\"hatch_color\":{\"value\":\"#fc4f30\"},\"line_color\":{\"value\":\"#fc4f30\"},\"size\":{\"value\":5.477225575051661},\"x\":{\"field\":\"TotalCoinsMined\"},\"y\":{\"field\":\"TotalCoinSupply\"}},\"id\":\"2042\",\"type\":\"Scatter\"},{\"attributes\":{},\"id\":\"2019\",\"type\":\"Selection\"},{\"attributes\":{\"children\":[{\"id\":\"1975\"},{\"id\":\"1982\"},{\"id\":\"2127\"}],\"margin\":[0,0,0,0],\"name\":\"Row01919\",\"tags\":[\"embedded\"]},\"id\":\"1974\",\"type\":\"Row\"},{\"attributes\":{\"angle\":{\"value\":0.0},\"fill_alpha\":{\"value\":1.0},\"fill_color\":{\"value\":\"#e5ae38\"},\"hatch_alpha\":{\"value\":1.0},\"hatch_color\":{\"value\":\"#e5ae38\"},\"hatch_scale\":{\"value\":12.0},\"hatch_weight\":{\"value\":1.0},\"line_alpha\":{\"value\":1.0},\"line_cap\":{\"value\":\"butt\"},\"line_color\":{\"value\":\"#e5ae38\"},\"line_dash\":{\"value\":[]},\"line_dash_offset\":{\"value\":0},\"line_join\":{\"value\":\"bevel\"},\"line_width\":{\"value\":1},\"marker\":{\"value\":\"circle\"},\"size\":{\"value\":5.477225575051661},\"x\":{\"field\":\"TotalCoinsMined\"},\"y\":{\"field\":\"TotalCoinSupply\"}},\"id\":\"2084\",\"type\":\"Scatter\"},{\"attributes\":{},\"id\":\"2013\",\"type\":\"BasicTickFormatter\"},{\"attributes\":{\"data\":{\"Class\":[1,1,1,1],\"CoinName\":[\"BiblePay\",\"Poa Network\",\"Acute Angle Cloud\",\"Waves\"],\"TotalCoinSupply\":{\"__ndarray__\":\"j1gNkdpTXT+cGSV4jxIrP3pDQwW4jFA/+0V+YL96Gj8=\",\"dtype\":\"float64\",\"order\":\"little\",\"shape\":[4]},\"TotalCoinsMined\":{\"__ndarray__\":\"lPYGX5hMdT+EWijhloswP/yp8dJNYlA/LEMc6+I2Gj8=\",\"dtype\":\"float64\",\"order\":\"little\",\"shape\":[4]}},\"selected\":{\"id\":\"2040\"},\"selection_policy\":{\"id\":\"2056\"}},\"id\":\"2039\",\"type\":\"ColumnDataSource\"},{\"attributes\":{\"below\":[{\"id\":\"1991\"}],\"center\":[{\"id\":\"1994\"},{\"id\":\"1998\"}],\"height\":300,\"left\":[{\"id\":\"1995\"}],\"margin\":[5,5,5,5],\"min_border_bottom\":10,\"min_border_left\":10,\"min_border_right\":10,\"min_border_top\":10,\"renderers\":[{\"id\":\"2024\"},{\"id\":\"2045\"},{\"id\":\"2067\"},{\"id\":\"2091\"}],\"right\":[{\"id\":\"2036\"}],\"sizing_mode\":\"fixed\",\"title\":{\"id\":\"1983\"},\"toolbar\":{\"id\":\"2005\"},\"width\":700,\"x_range\":{\"id\":\"1976\"},\"x_scale\":{\"id\":\"1987\"},\"y_range\":{\"id\":\"1977\"},\"y_scale\":{\"id\":\"1989\"}},\"id\":\"1982\",\"subtype\":\"Figure\",\"type\":\"Plot\"},{\"attributes\":{},\"id\":\"2086\",\"type\":\"Selection\"},{\"attributes\":{\"end\":1.042857142857143,\"reset_end\":1.042857142857143,\"reset_start\":-0.04285714285714286,\"start\":-0.04285714285714286,\"tags\":[[[\"TotalCoinsMined\",\"TotalCoinsMined\",null]]]},\"id\":\"1976\",\"type\":\"Range1d\"},{\"attributes\":{\"margin\":[5,5,5,5],\"name\":\"HSpacer01924\",\"sizing_mode\":\"stretch_width\"},\"id\":\"2127\",\"type\":\"Spacer\"}],\"root_ids\":[\"1974\"]},\"title\":\"Bokeh Application\",\"version\":\"2.4.3\"}};\n",
       "    var render_items = [{\"docid\":\"d50f1b5d-6a8c-4e04-8924-7993c5951072\",\"root_ids\":[\"1974\"],\"roots\":{\"1974\":\"572347a1-03c9-419c-aa6c-b220bfeba6ab\"}}];\n",
       "    root.Bokeh.embed.embed_items_notebook(docs_json, render_items);\n",
       "  }\n",
       "  if (root.Bokeh !== undefined && root.Bokeh.Panel !== undefined) {\n",
       "    embed_document(root);\n",
       "  } else {\n",
       "    var attempts = 0;\n",
       "    var timer = setInterval(function(root) {\n",
       "      if (root.Bokeh !== undefined && root.Bokeh.Panel !== undefined) {\n",
       "        clearInterval(timer);\n",
       "        embed_document(root);\n",
       "      } else if (document.readyState == \"complete\") {\n",
       "        attempts++;\n",
       "        if (attempts > 200) {\n",
       "          clearInterval(timer);\n",
       "          console.log(\"Bokeh: ERROR: Unable to run BokehJS code because BokehJS library is missing\");\n",
       "        }\n",
       "      }\n",
       "    }, 25, root)\n",
       "  }\n",
       "})(window);</script>"
      ],
      "text/plain": [
       ":NdOverlay   [Class]\n",
       "   :Scatter   [TotalCoinsMined]   (TotalCoinSupply,CoinName)"
      ]
     },
     "execution_count": 114,
     "metadata": {
      "application/vnd.holoviews_exec.v0+json": {
       "id": "1974"
      }
     },
     "output_type": "execute_result"
    }
   ],
   "source": [
    "# Create a hvplot.scatter plot using x=\"TotalCoinsMined\" and y=\"TotalCoinSupply\".\n",
    "scaled_df.hvplot.scatter(x=\"TotalCoinsMined\", y=\"TotalCoinSupply\",by=\"Class\", hover_cols=\"CoinName\")\n"
   ]
  },
  {
   "cell_type": "code",
   "execution_count": null,
   "metadata": {},
   "outputs": [],
   "source": []
  }
 ],
 "metadata": {
  "file_extension": ".py",
  "kernelspec": {
   "display_name": "Python 3 (ipykernel)",
   "language": "python",
   "name": "python3"
  },
  "language_info": {
   "codemirror_mode": {
    "name": "ipython",
    "version": 3
   },
   "file_extension": ".py",
   "mimetype": "text/x-python",
   "name": "python",
   "nbconvert_exporter": "python",
   "pygments_lexer": "ipython3",
   "version": "3.9.13"
  },
  "latex_envs": {
   "LaTeX_envs_menu_present": true,
   "autoclose": false,
   "autocomplete": true,
   "bibliofile": "biblio.bib",
   "cite_by": "apalike",
   "current_citInitial": 1,
   "eqLabelWithNumbers": true,
   "eqNumInitial": 1,
   "hotkeys": {
    "equation": "Ctrl-E",
    "itemize": "Ctrl-I"
   },
   "labels_anchors": false,
   "latex_user_defs": false,
   "report_style_numbering": false,
   "user_envs_cfg": false
  },
  "mimetype": "text/x-python",
  "name": "python",
  "npconvert_exporter": "python",
  "pygments_lexer": "ipython3",
  "version": 3
 },
 "nbformat": 4,
 "nbformat_minor": 2
}
